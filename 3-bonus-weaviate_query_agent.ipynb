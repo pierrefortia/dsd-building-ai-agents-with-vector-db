{
 "cells": [
  {
   "cell_type": "code",
   "execution_count": null,
   "id": "ace40ca4",
   "metadata": {
    "id": "ace40ca4"
   },
   "outputs": [],
   "source": [
    "# To run in Google Colab, uncomment the next line\n",
    "# !pip install -qq weaviate-client python-dotenv weaviate-agents datasets"
   ]
  },
  {
   "cell_type": "markdown",
   "id": "2kxrbp2vmfe",
   "metadata": {
    "id": "2kxrbp2vmfe"
   },
   "source": [
    "# Query Agent\n",
    "\n",
    "<a target=\"_blank\" href=\"https://colab.research.google.com/github/saskinosie/dsd-building-ai-agents-with-vector-db/blob/main/3-bonus-weaviate_query_agent.ipynb\">\n",
    "  <img src=\"https://colab.research.google.com/assets/colab-badge.svg\" alt=\"Open In Colab\"/>\n",
    "</a>\n",
    "\n",
    "Here, we'll walk you through a comprehensive example showcasing the **Weaviate Query Agent** functionality.  \n",
    "The Query Agent is an intelligent layer that sits on top of your Weaviate vector database, using generative AI to optimize natural language queries and automatically determine the best search strategy.\n",
    "\n",
    "### How the Query Agent Works\n",
    "\n",
    "The Query Agent intelligently handles complex queries by:\n",
    "- **Query Optimization**: Uses generative AI to transform natural language into optimized vector database queries\n",
    "- **Collection Selection**: Automatically determines which collection(s) to search based on your question\n",
    "- **Smart Filtering**: Decides when filtering is needed to narrow down results\n",
    "- **Aggregation Logic**: Determines if aggregation operations should be performed (counts, grouping, etc.)\n",
    "- **Execution**: Runs the optimized queries against your Weaviate instance\n",
    "\n",
    "### Dataset Overview\n",
    "\n",
    "This notebook demonstrates the Query Agent using three diverse collections:\n",
    "- **Books**: 10,000 books with titles, authors, descriptions, and genres\n",
    "- **Brands**: 104 clothing brands with descriptions, ratings, and company information  \n",
    "- **Ecommerce**: 448 fashion items with prices, categories, reviews, and brand associations\n",
    "\n",
    "All datasets come pre-vectorized with **Snowflake Arctic Embed v2.0** embeddings via Weaviate's embedding service.\n",
    "\n",
    "### Further Reading\n",
    "\n",
    "- Check out the datasets on [HuggingFace](https://huggingface.co/datasets/weaviate/agents)\n",
    "- Learn more about Query Agents in the [official documentation](https://docs.weaviate.io/agents/query)\n",
    "- Explore the technical implementation in our [Query Agent tutorial](https://docs.weaviate.io/agents/query/tutorial-ecommerce)\n",
    "- Understand vector databases in the [Weaviate developer docs](https://weaviate.io/developers/weaviate)\n",
    "\n",
    "If running locally, to ensure smooth execution and prevent potential conflicts with your global Python environment, we recommend following the instructions in the README running the code in a virtual environment."
   ]
  },
  {
   "cell_type": "markdown",
   "id": "no4rdlbg53",
   "metadata": {
    "id": "no4rdlbg53"
   },
   "source": [
    "<a id='TOC'></a>  \n",
    "## Table of contents  \n",
    "\n",
    "1. <a href=\"#Dependencies\">Dependencies</a><br>\n",
    "2. <a href=\"#Connecting\">Connecting to your Weaviate cluster</a><br>\n",
    "3. <a href=\"#Collections\">Setting up collections and loading data</a><br>\n",
    "   3.1 <a href=\"#BrandsCollection\">Create and populate Brands collection</a><br>\n",
    "   3.2 <a href=\"#EcommerceCollection\">Create and populate Ecommerce collection</a><br>\n",
    "   3.3 <a href=\"#BooksCollection\">Create and populate Books collection</a><br>\n",
    "4. <a href=\"#QueryAgent\">Creating the Query Agent</a><br>\n",
    "5. <a href=\"#ExampleQueries\">Example Query Agent interactions</a><br>\n",
    "   5.1 <a href=\"#ClassicRAG\">Classic RAG search</a><br>\n",
    "   5.2 <a href=\"#DatabaseFiltering\">Generated database filtering</a><br>\n",
    "   5.3 <a href=\"#StatisticalQueries\">Statistical and aggregation queries</a><br>\n",
    "   5.4 <a href=\"#MultipleQueries\">Querying multiple databases</a><br>\n",
    "   5.5 <a href=\"#MissingInfo\">Identifying missing information</a><br>"
   ]
  },
  {
   "cell_type": "markdown",
   "id": "pbavifw62zl",
   "metadata": {
    "id": "pbavifw62zl"
   },
   "source": [
    "<a id='Dependencies'></a>  \n",
    "## 1. Dependencies\n",
    "[Back to table of contents](#TOC)\n",
    "\n",
    "This section initializes the necessary dependencies and sets environment variables for connecting to your Weaviate Cloud instance."
   ]
  },
  {
   "cell_type": "markdown",
   "id": "e92eeb17",
   "metadata": {
    "id": "e92eeb17"
   },
   "source": [
    "**If using Colab, add your keys between the quotation marks in the cell below**"
   ]
  },
  {
   "cell_type": "code",
   "execution_count": null,
   "id": "f2512a02",
   "metadata": {
    "id": "f2512a02"
   },
   "outputs": [],
   "source": [
    "# un this cell to load your keys in Colab\n",
    "import os\n",
    "\n",
    "# set environment variables\n",
    "os.environ['WEAVIATE_URL'] = ''  # weaviate instance url\n",
    "os.environ['WEAVIATE_KEY'] = ''  # admin api key"
   ]
  },
  {
   "cell_type": "markdown",
   "id": "3a33fddb",
   "metadata": {
    "id": "3a33fddb"
   },
   "source": [
    "**If running locally, make sure your keys are in your .env file and run this cell**"
   ]
  },
  {
   "cell_type": "code",
   "execution_count": 2,
   "id": "1e72819c",
   "metadata": {
    "id": "1e72819c"
   },
   "outputs": [
    {
     "data": {
      "text/plain": [
       "True"
      ]
     },
     "execution_count": 2,
     "metadata": {},
     "output_type": "execute_result"
    }
   ],
   "source": [
    "# Run this cell if you are working locally in VS code or Code Space\n",
    "import dotenv\n",
    "\n",
    "dotenv.load_dotenv(override=True)"
   ]
  },
  {
   "cell_type": "markdown",
   "id": "mx9em8opn6",
   "metadata": {
    "id": "mx9em8opn6"
   },
   "source": [
    "<a id='Connecting'></a>  \n",
    "## 2. Connecting to your Weaviate cluster  \n",
    "[Back to table of contents](#TOC)  \n",
    "\n",
    "To interact with our Weaviate cluster, we'll initialize a client object and verify the connection is successful. This connection will be used throughout the notebook for all data operations and Query Agent interactions."
   ]
  },
  {
   "cell_type": "code",
   "execution_count": 3,
   "id": "99961888",
   "metadata": {
    "id": "99961888"
   },
   "outputs": [
    {
     "data": {
      "text/plain": [
       "True"
      ]
     },
     "execution_count": 3,
     "metadata": {},
     "output_type": "execute_result"
    }
   ],
   "source": [
    "import weaviate, os\n",
    "\n",
    "# Connect to Weaviate Cloud\n",
    "client = weaviate.connect_to_weaviate_cloud(\n",
    "    cluster_url=os.getenv(\"WEAVIATE_URL\"),\n",
    "    auth_credentials=weaviate.auth.AuthApiKey(os.getenv(\"WEAVIATE_KEY\"))\n",
    ")\n",
    "\n",
    "# check if the connection is successful\n",
    "client.is_ready()"
   ]
  },
  {
   "cell_type": "markdown",
   "id": "e1c04909",
   "metadata": {
    "id": "e1c04909"
   },
   "source": [
    "<a id='Collections'></a>  \n",
    "## 3. Setting up collections and loading data  \n",
    "[Back to table of contents](#TOC)  \n",
    "\n",
    "In this section, we'll create three collections (Brands, Ecommerce, and Books) and populate them with pre-vectorized data from the [Weaviate Agents dataset on Hugging Face](https://huggingface.co/datasets/weaviate/agents). Each collection uses the Snowflake Arctic Embed v2.0 model for consistent vector embeddings."
   ]
  },
  {
   "cell_type": "markdown",
   "id": "d9hymn1f0w4",
   "metadata": {
    "id": "d9hymn1f0w4"
   },
   "source": [
    "<a id='BrandsCollection'></a>  \n",
    "### 3.1 Create and populate Brands collection  \n",
    "[Back to table of contents](#TOC)  \n",
    "\n",
    "We'll start by creating the Brands collection with properties for clothing brand information, then populate it with brand records from the Weaviate agents dataset."
   ]
  },
  {
   "cell_type": "code",
   "execution_count": 10,
   "id": "ad730a69",
   "metadata": {
    "id": "ad730a69"
   },
   "outputs": [
    {
     "name": "stdout",
     "output_type": "stream",
     "text": [
      "Successfully created collection: Brands.\n"
     ]
    }
   ],
   "source": [
    "# import required module for configuration\n",
    "import weaviate.classes.config as wc\n",
    "\n",
    "# delete collection if it exists\n",
    "if client.collections.exists(\"Brands\"):\n",
    "    client.collections.delete(\"Brands\")\n",
    "\n",
    "client.collections.create(\n",
    "    name=\"Brands\", #Collection name\n",
    "\n",
    "    #Set vectorizer configuration for text2vec using Weaviates embedding model\n",
    "    vector_config=wc.Configure.Vectors.text2vec_weaviate(\n",
    "        model=\"Snowflake/snowflake-arctic-embed-l-v2.0\",\n",
    "        source_properties=[\"name\", \"description\", \"child_brands\", \"parent_brand\"],\n",
    "    ),\n",
    "\n",
    ")\n",
    "\n",
    "print(\"Successfully created collection: Brands.\")"
   ]
  },
  {
   "cell_type": "code",
   "execution_count": 11,
   "id": "9ed855e9",
   "metadata": {
    "id": "9ed855e9"
   },
   "outputs": [
    {
     "name": "stdout",
     "output_type": "stream",
     "text": [
      "Successfully uploaded brands data using Weaviate streaming method!\n"
     ]
    }
   ],
   "source": [
    "# Upload brands data using the Weaviate-recommended streaming approach\n",
    "from datasets import load_dataset\n",
    "\n",
    "# Load fresh streaming dataset for upload\n",
    "brands_dataset = load_dataset(\"weaviate/agents\", \"query-agent-brands\", split=\"train\", streaming=True)\n",
    "\n",
    "brands_collection = client.collections.get(\"Brands\")\n",
    "with brands_collection.batch.fixed_size(batch_size=100) as batch:\n",
    "    for item in brands_dataset:\n",
    "        batch.add_object(\n",
    "            properties=item[\"properties\"],\n",
    "            vector=item[\"vector\"]\n",
    "        )\n",
    "\n",
    "print(\"Successfully uploaded brands data using Weaviate streaming method!\")"
   ]
  },
  {
   "cell_type": "markdown",
   "id": "r7yge99se3",
   "metadata": {
    "id": "r7yge99se3"
   },
   "source": [
    "<a id='EcommerceCollection'></a>  \n",
    "### 3.2 Create and populate Ecommerce collection  \n",
    "[Back to table of contents](#TOC)  \n",
    "\n",
    "Next, we'll create the Ecommerce collection for fashion items with properties including prices, categories, reviews, and brand associations, then load product records."
   ]
  },
  {
   "cell_type": "code",
   "execution_count": 12,
   "id": "87axcgolysh",
   "metadata": {
    "id": "87axcgolysh"
   },
   "outputs": [
    {
     "name": "stdout",
     "output_type": "stream",
     "text": [
      "Successfully created collection: Ecommerce.\n"
     ]
    }
   ],
   "source": [
    "# import required module for configuration\n",
    "import weaviate.classes.config as wc\n",
    "\n",
    "# delete collection if it exists\n",
    "if client.collections.exists(\"Ecommerce\"):\n",
    "    client.collections.delete(\"Ecommerce\")\n",
    "\n",
    "client.collections.create(\n",
    "    name=\"Ecommerce\", #Collection name\n",
    "\n",
    "    #Set vectorizer configuration for text2vec using Weaviates embedding model\n",
    "    vector_config=wc.Configure.Vectors.text2vec_weaviate(\n",
    "        model=\"Snowflake/snowflake-arctic-embed-l-v2.0\",\n",
    "        source_properties=[\"name\", \"description\", \"collection\", \"category\", \"subcategory\", \"brand\", \"colors\", \"tags\", \"reviews\"],\n",
    "    ),\n",
    ")\n",
    "\n",
    "print(\"Successfully created collection: Ecommerce.\")"
   ]
  },
  {
   "cell_type": "code",
   "execution_count": 13,
   "id": "92ee9be8",
   "metadata": {
    "id": "92ee9be8"
   },
   "outputs": [
    {
     "name": "stdout",
     "output_type": "stream",
     "text": [
      "Successfully uploaded ecommerce data using Weaviate streaming method!\n"
     ]
    }
   ],
   "source": [
    "# Upload ecommerce data using the Weaviate-recommended streaming approach\n",
    "ecommerce_dataset = load_dataset(\"weaviate/agents\", \"query-agent-ecommerce\", split=\"train\", streaming=True)\n",
    "\n",
    "ecommerce_collection = client.collections.get(\"Ecommerce\")\n",
    "with ecommerce_collection.batch.fixed_size(batch_size=100) as batch:\n",
    "    for item in ecommerce_dataset:\n",
    "        batch.add_object(\n",
    "            properties=item[\"properties\"],\n",
    "            vector=item[\"vector\"]\n",
    "        )\n",
    "\n",
    "print(\"Successfully uploaded ecommerce data using Weaviate streaming method!\")"
   ]
  },
  {
   "cell_type": "markdown",
   "id": "ctrsnjbbjmn",
   "metadata": {
    "id": "ctrsnjbbjmn"
   },
   "source": [
    "<a id='BooksCollection'></a>  \n",
    "### 3.3 Create and populate Books collection  \n",
    "[Back to table of contents](#TOC)  \n",
    "\n",
    "Finally, we'll create the Books collection with properties for titles, authors, descriptions, and genres, then populate it with book records from various genres including mystery, fiction, and non-fiction."
   ]
  },
  {
   "cell_type": "code",
   "execution_count": 14,
   "id": "6d41f5c1",
   "metadata": {
    "id": "6d41f5c1"
   },
   "outputs": [
    {
     "name": "stdout",
     "output_type": "stream",
     "text": [
      "Successfully created collection: Books.\n"
     ]
    }
   ],
   "source": [
    "# import required module for configuration\n",
    "import weaviate.classes.config as wc\n",
    "\n",
    "# delete collection if it exists\n",
    "if client.collections.exists(\"Books\"):\n",
    "    client.collections.delete(\"Books\")\n",
    "\n",
    "client.collections.create(\n",
    "    name=\"Books\", #Collection name\n",
    "\n",
    "    #Set vectorizer configuration for text2vec using Weaviates embedding model\n",
    "    vector_config=wc.Configure.Vectors.text2vec_weaviate(\n",
    "        model=\"Snowflake/snowflake-arctic-embed-l-v2.0\",\n",
    "        source_properties=[\"title\", \"author\", \"description\", \"genres\"],\n",
    "    ),\n",
    ")\n",
    "\n",
    "print(\"Successfully created collection: Books.\")"
   ]
  },
  {
   "cell_type": "code",
   "execution_count": 15,
   "id": "bb47887b",
   "metadata": {
    "id": "bb47887b"
   },
   "outputs": [
    {
     "name": "stdout",
     "output_type": "stream",
     "text": [
      "Successfully uploaded books data using Weaviate streaming method!\n"
     ]
    }
   ],
   "source": [
    "# Upload books data using the Weaviate-recommended streaming approach\n",
    "books_dataset = load_dataset(\"weaviate/agents\", \"query-agent-books\", split=\"train\", streaming=True)\n",
    "\n",
    "books_collection = client.collections.get(\"Books\")\n",
    "with books_collection.batch.fixed_size(batch_size=100) as batch:\n",
    "    for item in books_dataset:\n",
    "        batch.add_object(\n",
    "            properties=item[\"properties\"],\n",
    "            vector=item[\"vector\"]\n",
    "        )\n",
    "\n",
    "print(\"Successfully uploaded books data using Weaviate streaming method!\")"
   ]
  },
  {
   "cell_type": "code",
   "execution_count": 16,
   "id": "7437791e",
   "metadata": {},
   "outputs": [
    {
     "name": "stdout",
     "output_type": "stream",
     "text": [
      "Successfully created collection: Financialcontracts.\n"
     ]
    }
   ],
   "source": [
    "# import required module for configuration\n",
    "import weaviate.classes.config as wc\n",
    "\n",
    "# delete collection if it exists\n",
    "if client.collections.exists(\"Financialcontracts\"):\n",
    "    client.collections.delete(\"Financialcontracts\")\n",
    "\n",
    "client.collections.create(\n",
    "    name=\"Financialcontracts\", #Collection name\n",
    "\n",
    "    #Set vectorizer configuration for text2vec using Weaviates embedding model\n",
    "    vector_config=wc.Configure.Vectors.text2vec_weaviate(\n",
    "        model=\"Snowflake/snowflake-arctic-embed-l-v2.0\",\n",
    "        source_properties=[\"contract_text\"],\n",
    "    ),\n",
    ")\n",
    "\n",
    "print(\"Successfully created collection: Financialcontracts.\")"
   ]
  },
  {
   "cell_type": "code",
   "execution_count": 17,
   "id": "a7cf3920",
   "metadata": {},
   "outputs": [
    {
     "name": "stdout",
     "output_type": "stream",
     "text": [
      "Successfully uploaded Financialcontracts data using Weaviate streaming method!\n"
     ]
    }
   ],
   "source": [
    "# Upload books data using the Weaviate-recommended streaming approach\n",
    "books_dataset = load_dataset(\"weaviate/agents\", \"query-agent-financial-contracts\", split=\"train\", streaming=True)\n",
    "\n",
    "books_collection = client.collections.get(\"Financialcontracts\")\n",
    "with books_collection.batch.fixed_size(batch_size=100) as batch:\n",
    "    for item in books_dataset:\n",
    "        batch.add_object(\n",
    "            properties=item[\"properties\"],\n",
    "            vector=item[\"vector\"]\n",
    "        )\n",
    "\n",
    "print(\"Successfully uploaded Financialcontracts data using Weaviate streaming method!\")"
   ]
  },
  {
   "cell_type": "markdown",
   "id": "um3v6rbnb5",
   "metadata": {
    "id": "um3v6rbnb5"
   },
   "source": [
    "<a id='QueryAgent'></a>  \n",
    "## 4. Creating the Query Agent  \n",
    "[Back to table of contents](#TOC)  \n",
    "\n",
    "Now we'll create our Query Agent instance, which will intelligently route queries across our three collections (Brands, Ecommerce, Books) and automatically determine the optimal search strategy.\n",
    "\n",
    "The output from the Query Agent will include: the original query, the generated answer to the query, the searches performed, the collections searched, filters applied, aggregates completed, source objects pulled from the database that comntributed to the generated answer and any mising information if the generated answer is incomplete."
   ]
  },
  {
   "cell_type": "code",
   "execution_count": 4,
   "id": "8b408547",
   "metadata": {
    "id": "8b408547"
   },
   "outputs": [],
   "source": [
    "from weaviate.agents.query import QueryAgent\n",
    "\n",
    "# Instantiate a new agent object, and specify the collections to query\n",
    "qa = QueryAgent(\n",
    "    client=client,\n",
    "    collections=[\"Brands\", \"Ecommerce\", \"Books\", \"Financialcontracts\"],\n",
    ")\n"
   ]
  },
  {
   "cell_type": "markdown",
   "id": "82be650e",
   "metadata": {
    "id": "82be650e"
   },
   "source": [
    "<a id='ExampleQueries'></a>  \n",
    "## 5. Example Query Agent interactions  \n",
    "[Back to table of contents](#TOC)  \n",
    "\n",
    "Let's explore the Query Agent's capabilities through various types of queries. Notice how the agent automatically determines which collections to search, applies filters, and performs aggregations based on the natural language input."
   ]
  },
  {
   "cell_type": "markdown",
   "id": "7173f93a",
   "metadata": {},
   "source": [
    "<a id='BookQueries'></a>  \n",
    "### 5.0 Classic Vector Retrieval \n",
    "[Back to table of contents](#TOC)  \n",
    "\n",
    "This Query Agent is able to perform classic vector database retrieval without initiating a subsequent generative step."
   ]
  },
  {
   "cell_type": "code",
   "execution_count": 5,
   "id": "591ed578",
   "metadata": {},
   "outputs": [
    {
     "name": "stdout",
     "output_type": "stream",
     "text": [
      "searches=[QueryResultWithCollectionNormalized(query='books about plants or botany or gardening', filters=TextArrayPropertyFilter(property_name='genres', operator=<ComparisonOperator.CONTAINS_ANY: 'contains_any'>, value=['plants', 'botany', 'gardening']), collection='Books')] usage=ModelUnitUsage(model_units=117, usage_in_plan=True, remaining_plan_requests=834) total_time=4.347671747207642 search_results=QueryReturn(objects=[Object(uuid=UUID('36827096-8787-4e34-b6dd-3378bc4586ed'), metadata={'creation_time': None, 'last_update_time': None, 'distance': None, 'certainty': None, 'score': 0.77734375, 'explain_score': None, 'is_consistent': None, 'rerank_score': None}, properties={'title': \"Botanical Shakespeare: An Illustrated Compendium of All the Flowers, Fruits, Herbs, Trees, Seeds, and Grasses Cited by the World's Greatest Playwright\", 'description': 'A captivating, beautifully illustrated, one-of-a-kind color compendium of the flowers, fruits, herbs, trees, seeds, and grasses cited in the works of the world’s greatest playwright, William Shakespeare, accompanied by their companion quotes from all of his plays and poems. With a foreword by Dame Helen Mirren—the first foreword she has ever contributed. In this striking compilation, Shakespeare historian Gerit Quealy and respected Japanese artist Sumié Hasegawa combine their knowledge and skill in this first and only book that examines every plant that appears in the works of Shakespeare. Botanical Shakespeare opens with a brief look at the Bard’s relationship to the plants mentioned in his works—a diversity that illuminates his knowledge of the science of botany, as well as the colloquy, revealing his unmatched skill for creating metaphorical connections and interweaving substantive philosophy. At the heart of the book are \"portraits\" of the over 170 flowers, fruits, grains, grasses, trees, herbs, seeds and vegetables that Shakespeare mentions in his plays and poems. Botanical Shakespeare features a gorgeous color illustration of each, giving a \"face\" to the name, alongside the specific text in which it appears and the character(s) who utter the lines in which it is mentioned. This fascinating visual compendium also includes a dictionary describing each plant—such as Eglantine, a wild rose with a slight prickle, cherished for its singular scent, superior to any other rose; and the difference between apples and apple-john—along with indices listing the botanical by play/poem, by character, and genus for easy reference, ideal for gardeners and thoughtful birthday gift-giving. This breathtaking, incomparable collection of exquisite artwork and companion quotes offers unique depth and insight into Shakespeare and his timeless work through the unusual perspective of the plants themselves.', 'author': 'Gerit Quealy', 'genres': ['Nonfiction', 'Gardening', 'Art', 'Nature', 'Classics', 'Reference', 'Poetry']}, references=None, vector={}, collection='Books'), Object(uuid=UUID('bae0dfd3-5ec3-46cb-843e-a7aac4f14ed3'), metadata={'creation_time': None, 'last_update_time': None, 'distance': None, 'certainty': None, 'score': 0.62890625, 'explain_score': None, 'is_consistent': None, 'rerank_score': None}, properties={'description': '\"A graceful and moving glimpse into a rare and giving artist\\'s refined poetics, garden aesthetics, and spirituality.\"― Booklist Throughout his life (1905-2006) Stanley Kunitz created poetry and tended gardens. This book is the distillation of conversations, none previously published, that took place between 2002 and 2004. Beginning with the garden, that \"work of the imagination,\" the explorations journey through personal recollections, the creative process, and the harmony of the life cycle. A bouquet of poems and a total of 26 full-color photographs accompany the various sections. The Wild Braid received a 2006 American Horticultural Society Book Award.', 'title': 'The Wild Braid: A Poet Reflects on a Century in the Garden', 'author': 'Stanley Kunitz', 'genres': ['Poetry', 'Gardening', 'Memoir', 'Nonfiction', 'Nature', 'Biography', 'Photography']}, references=None, vector={}, collection='Books'), Object(uuid=UUID('98051817-28d7-4d30-af58-9ee18dffc52c'), metadata={'creation_time': None, 'last_update_time': None, 'distance': None, 'certainty': None, 'score': 0.546875, 'explain_score': None, 'is_consistent': None, 'rerank_score': None}, properties={'title': 'Animal, Vegetable, Miracle: A Year of Food Life', 'description': \"Author Barbara Kingsolver and her family abandoned the industrial-food pipeline to live a rural life—vowing that, for one year, they'd only buy food raised in their own neighborhood, grow it themselves, or learn to live without it. Part memoir, part journalistic investigation, Animal, Vegetable, Miracle is an enthralling narrative that will open your eyes in a hundred new ways to an old truth: You are what you eat.\", 'author': 'Barbara Kingsolver', 'genres': ['Nonfiction', 'Food', 'Memoir', 'Gardening', 'Health', 'Environment', 'Nature']}, references=None, vector={}, collection='Books')])\n"
     ]
    }
   ],
   "source": [
    "# Perform a vector search\n",
    "response = qa.search(\n",
    "    \"Books about plants\"\n",
    ")\n",
    "\n",
    "# Print the response\n",
    "# The output will include: the original query, the generated answer to the query, the seraches performed,\n",
    "# the collections searched, filters applied, aggregates completed and source objects ulled from the database.\n",
    "print(response)"
   ]
  },
  {
   "cell_type": "markdown",
   "id": "lo0ul1ecjp",
   "metadata": {
    "id": "lo0ul1ecjp"
   },
   "source": [
    "<a id='BookQueries'></a>  \n",
    "### 5.1 Classic RAG search  \n",
    "[Back to table of contents](#TOC)  \n",
    "\n",
    "This Query Agent is able to respond as a classic RAG system. The Query Agent will run an initial generative step that will optimize the original query for a vector database.\n",
    "\n"
   ]
  },
  {
   "cell_type": "code",
   "execution_count": 6,
   "id": "c02e224f",
   "metadata": {
    "id": "c02e224f"
   },
   "outputs": [
    {
     "data": {
      "text/html": [
       "<pre style=\"white-space:pre;overflow-x:auto;line-height:normal;font-family:Menlo,'DejaVu Sans Mono',consolas,'Courier New',monospace\"><span style=\"color: #800080; text-decoration-color: #800080; font-weight: bold\">AskModeResponse</span><span style=\"font-weight: bold\">(</span>\n",
       "<span style=\"color: #7fbf7f; text-decoration-color: #7fbf7f\">│   </span><span style=\"color: #808000; text-decoration-color: #808000\">output_type</span>=<span style=\"color: #008000; text-decoration-color: #008000\">'final_state'</span>,\n",
       "<span style=\"color: #7fbf7f; text-decoration-color: #7fbf7f\">│   </span><span style=\"color: #808000; text-decoration-color: #808000\">searches</span>=<span style=\"font-weight: bold\">[</span>\n",
       "<span style=\"color: #7fbf7f; text-decoration-color: #7fbf7f\">│   │   </span><span style=\"color: #800080; text-decoration-color: #800080; font-weight: bold\">QueryResultWithCollectionNormalized</span><span style=\"font-weight: bold\">(</span>\n",
       "<span style=\"color: #7fbf7f; text-decoration-color: #7fbf7f\">│   │   │   </span><span style=\"color: #808000; text-decoration-color: #808000\">query</span>=<span style=\"color: #008000; text-decoration-color: #008000\">'King Arthur'</span>,\n",
       "<span style=\"color: #7fbf7f; text-decoration-color: #7fbf7f\">│   │   │   </span><span style=\"color: #808000; text-decoration-color: #808000\">filters</span>=<span style=\"color: #800080; text-decoration-color: #800080; font-weight: bold\">FilterAndOr</span><span style=\"font-weight: bold\">(</span>\n",
       "<span style=\"color: #7fbf7f; text-decoration-color: #7fbf7f\">│   │   │   │   </span><span style=\"color: #808000; text-decoration-color: #808000\">combine</span>=<span style=\"color: #008000; text-decoration-color: #008000\">'OR'</span>,\n",
       "<span style=\"color: #7fbf7f; text-decoration-color: #7fbf7f\">│   │   │   │   </span><span style=\"color: #808000; text-decoration-color: #808000\">filters</span>=<span style=\"font-weight: bold\">[</span>\n",
       "<span style=\"color: #7fbf7f; text-decoration-color: #7fbf7f\">│   │   │   │   │   </span><span style=\"color: #800080; text-decoration-color: #800080; font-weight: bold\">TextPropertyFilter</span><span style=\"font-weight: bold\">(</span>\n",
       "<span style=\"color: #7fbf7f; text-decoration-color: #7fbf7f\">│   │   │   │   │   │   </span><span style=\"color: #808000; text-decoration-color: #808000\">property_name</span>=<span style=\"color: #008000; text-decoration-color: #008000\">'title'</span>,\n",
       "<span style=\"color: #7fbf7f; text-decoration-color: #7fbf7f\">│   │   │   │   │   │   </span><span style=\"color: #808000; text-decoration-color: #808000\">operator</span>=<span style=\"font-weight: bold\">&lt;</span><span style=\"color: #ff00ff; text-decoration-color: #ff00ff; font-weight: bold\">ComparisonOperator.LIKE:</span><span style=\"color: #000000; text-decoration-color: #000000\"> </span><span style=\"color: #008000; text-decoration-color: #008000\">'LIKE'</span><span style=\"color: #000000; text-decoration-color: #000000\">&gt;,</span>\n",
       "<span style=\"color: #7fbf7f; text-decoration-color: #7fbf7f\">│   │   │   │   │   │   </span><span style=\"color: #808000; text-decoration-color: #808000\">value</span><span style=\"color: #000000; text-decoration-color: #000000\">=</span><span style=\"color: #008000; text-decoration-color: #008000\">'*King Arthur*'</span>\n",
       "<span style=\"color: #7fbf7f; text-decoration-color: #7fbf7f\">│   │   │   │   │   </span><span style=\"color: #000000; text-decoration-color: #000000; font-weight: bold\">)</span><span style=\"color: #000000; text-decoration-color: #000000\">,</span>\n",
       "<span style=\"color: #7fbf7f; text-decoration-color: #7fbf7f\">│   │   │   │   │   </span><span style=\"color: #800080; text-decoration-color: #800080; font-weight: bold\">TextPropertyFilter</span><span style=\"color: #000000; text-decoration-color: #000000; font-weight: bold\">(</span>\n",
       "<span style=\"color: #7fbf7f; text-decoration-color: #7fbf7f\">│   │   │   │   │   │   </span><span style=\"color: #808000; text-decoration-color: #808000\">property_name</span><span style=\"color: #000000; text-decoration-color: #000000\">=</span><span style=\"color: #008000; text-decoration-color: #008000\">'description'</span><span style=\"color: #000000; text-decoration-color: #000000\">,</span>\n",
       "<span style=\"color: #7fbf7f; text-decoration-color: #7fbf7f\">│   │   │   │   │   │   </span><span style=\"color: #808000; text-decoration-color: #808000\">operator</span><span style=\"color: #000000; text-decoration-color: #000000\">=&lt;ComparisonOperator.LIKE: </span><span style=\"color: #008000; text-decoration-color: #008000\">'LIKE'</span><span style=\"color: #000000; text-decoration-color: #000000\">&gt;,</span>\n",
       "<span style=\"color: #7fbf7f; text-decoration-color: #7fbf7f\">│   │   │   │   │   │   </span><span style=\"color: #808000; text-decoration-color: #808000\">value</span><span style=\"color: #000000; text-decoration-color: #000000\">=</span><span style=\"color: #008000; text-decoration-color: #008000\">'*King Arthur*'</span>\n",
       "<span style=\"color: #7fbf7f; text-decoration-color: #7fbf7f\">│   │   │   │   │   </span><span style=\"color: #000000; text-decoration-color: #000000; font-weight: bold\">)</span>\n",
       "<span style=\"color: #7fbf7f; text-decoration-color: #7fbf7f\">│   │   │   │   </span><span style=\"color: #000000; text-decoration-color: #000000; font-weight: bold\">]</span>\n",
       "<span style=\"color: #7fbf7f; text-decoration-color: #7fbf7f\">│   │   │   </span><span style=\"color: #000000; text-decoration-color: #000000; font-weight: bold\">)</span><span style=\"color: #000000; text-decoration-color: #000000\">,</span>\n",
       "<span style=\"color: #7fbf7f; text-decoration-color: #7fbf7f\">│   │   │   </span><span style=\"color: #808000; text-decoration-color: #808000\">collection</span><span style=\"color: #000000; text-decoration-color: #000000\">=</span><span style=\"color: #008000; text-decoration-color: #008000\">'Books'</span>\n",
       "<span style=\"color: #7fbf7f; text-decoration-color: #7fbf7f\">│   │   </span><span style=\"color: #000000; text-decoration-color: #000000; font-weight: bold\">)</span><span style=\"color: #000000; text-decoration-color: #000000\">,</span>\n",
       "<span style=\"color: #7fbf7f; text-decoration-color: #7fbf7f\">│   │   </span><span style=\"color: #800080; text-decoration-color: #800080; font-weight: bold\">QueryResultWithCollectionNormalized</span><span style=\"color: #000000; text-decoration-color: #000000; font-weight: bold\">(</span>\n",
       "<span style=\"color: #7fbf7f; text-decoration-color: #7fbf7f\">│   │   │   </span><span style=\"color: #808000; text-decoration-color: #808000\">query</span><span style=\"color: #000000; text-decoration-color: #000000\">=</span><span style=\"color: #008000; text-decoration-color: #008000\">'knights'</span><span style=\"color: #000000; text-decoration-color: #000000\">,</span>\n",
       "<span style=\"color: #7fbf7f; text-decoration-color: #7fbf7f\">│   │   │   </span><span style=\"color: #808000; text-decoration-color: #808000\">filters</span><span style=\"color: #000000; text-decoration-color: #000000\">=</span><span style=\"color: #800080; text-decoration-color: #800080; font-weight: bold\">TextPropertyFilter</span><span style=\"color: #000000; text-decoration-color: #000000; font-weight: bold\">(</span>\n",
       "<span style=\"color: #7fbf7f; text-decoration-color: #7fbf7f\">│   │   │   │   </span><span style=\"color: #808000; text-decoration-color: #808000\">property_name</span><span style=\"color: #000000; text-decoration-color: #000000\">=</span><span style=\"color: #008000; text-decoration-color: #008000\">'description'</span><span style=\"color: #000000; text-decoration-color: #000000\">,</span>\n",
       "<span style=\"color: #7fbf7f; text-decoration-color: #7fbf7f\">│   │   │   │   </span><span style=\"color: #808000; text-decoration-color: #808000\">operator</span><span style=\"color: #000000; text-decoration-color: #000000\">=&lt;ComparisonOperator.LIKE: </span><span style=\"color: #008000; text-decoration-color: #008000\">'LIKE'</span><span style=\"font-weight: bold\">&gt;</span>,\n",
       "<span style=\"color: #7fbf7f; text-decoration-color: #7fbf7f\">│   │   │   │   </span><span style=\"color: #808000; text-decoration-color: #808000\">value</span>=<span style=\"color: #008000; text-decoration-color: #008000\">'*knight*'</span>\n",
       "<span style=\"color: #7fbf7f; text-decoration-color: #7fbf7f\">│   │   │   </span><span style=\"font-weight: bold\">)</span>,\n",
       "<span style=\"color: #7fbf7f; text-decoration-color: #7fbf7f\">│   │   │   </span><span style=\"color: #808000; text-decoration-color: #808000\">collection</span>=<span style=\"color: #008000; text-decoration-color: #008000\">'Books'</span>\n",
       "<span style=\"color: #7fbf7f; text-decoration-color: #7fbf7f\">│   │   </span><span style=\"font-weight: bold\">)</span>\n",
       "<span style=\"color: #7fbf7f; text-decoration-color: #7fbf7f\">│   </span><span style=\"font-weight: bold\">]</span>,\n",
       "<span style=\"color: #7fbf7f; text-decoration-color: #7fbf7f\">│   </span><span style=\"color: #808000; text-decoration-color: #808000\">aggregations</span>=<span style=\"font-weight: bold\">[]</span>,\n",
       "<span style=\"color: #7fbf7f; text-decoration-color: #7fbf7f\">│   </span><span style=\"color: #808000; text-decoration-color: #808000\">usage</span>=<span style=\"color: #800080; text-decoration-color: #800080; font-weight: bold\">ModelUnitUsage</span><span style=\"font-weight: bold\">(</span><span style=\"color: #808000; text-decoration-color: #808000\">model_units</span>=<span style=\"color: #008080; text-decoration-color: #008080; font-weight: bold\">238</span>, <span style=\"color: #808000; text-decoration-color: #808000\">usage_in_plan</span>=<span style=\"color: #00ff00; text-decoration-color: #00ff00; font-style: italic\">True</span>, <span style=\"color: #808000; text-decoration-color: #808000\">remaining_plan_requests</span>=<span style=\"color: #008080; text-decoration-color: #008080; font-weight: bold\">830</span><span style=\"font-weight: bold\">)</span>,\n",
       "<span style=\"color: #7fbf7f; text-decoration-color: #7fbf7f\">│   </span><span style=\"color: #808000; text-decoration-color: #808000\">total_time</span>=<span style=\"color: #008080; text-decoration-color: #008080; font-weight: bold\">6.422454833984375</span>,\n",
       "<span style=\"color: #7fbf7f; text-decoration-color: #7fbf7f\">│   </span><span style=\"color: #808000; text-decoration-color: #808000\">is_partial_answer</span>=<span style=\"color: #ff0000; text-decoration-color: #ff0000; font-style: italic\">False</span>,\n",
       "<span style=\"color: #7fbf7f; text-decoration-color: #7fbf7f\">│   </span><span style=\"color: #808000; text-decoration-color: #808000\">missing_information</span>=<span style=\"font-weight: bold\">[]</span>,\n",
       "<span style=\"color: #7fbf7f; text-decoration-color: #7fbf7f\">│   </span><span style=\"color: #808000; text-decoration-color: #808000\">final_answer</span>=<span style=\"color: #008000; text-decoration-color: #008000\">'If you\\'re interested in books about King Arthur, a great recommendation is \"The Winter King\" by Bernard Cornwell. It tells the story of King Arthur as a warlord trying to unite Britain amidst chaos and Saxon invasions, featuring elements of romance and magic.\\n\\nFor books focused on knights, here are some options:\\n\\n- \"The Rogue Blades\" by Dave Kish centers on knights and warriors involved in dueling contests within a kingdom ruled by a peace-loving queen.\\n- \"Dawn of the Knight I - Xeltian Invitation\" by Steven M. Vincent is a fantasy tale about knights fighting dark forces to protect mankind.\\n- \"The Way of Kings\" by Brandon Sanderson is an epic fantasy featuring the legendary Knights Radiant, ancient orders of mystical warriors, and their impact on a war-torn world.\\n\\nThese books cover a range of knightly themes, from Arthurian legend to fantasy wars and heroic duels.'</span>,\n",
       "<span style=\"color: #7fbf7f; text-decoration-color: #7fbf7f\">│   </span><span style=\"color: #808000; text-decoration-color: #808000\">sources</span>=<span style=\"font-weight: bold\">[</span>\n",
       "<span style=\"color: #7fbf7f; text-decoration-color: #7fbf7f\">│   │   </span><span style=\"color: #800080; text-decoration-color: #800080; font-weight: bold\">Source</span><span style=\"font-weight: bold\">(</span><span style=\"color: #808000; text-decoration-color: #808000\">object_id</span>=<span style=\"color: #008000; text-decoration-color: #008000\">'9536831d-6e02-4462-8af5-e630235a6582'</span>, <span style=\"color: #808000; text-decoration-color: #808000\">collection</span>=<span style=\"color: #008000; text-decoration-color: #008000\">'Books'</span><span style=\"font-weight: bold\">)</span>,\n",
       "<span style=\"color: #7fbf7f; text-decoration-color: #7fbf7f\">│   │   </span><span style=\"color: #800080; text-decoration-color: #800080; font-weight: bold\">Source</span><span style=\"font-weight: bold\">(</span><span style=\"color: #808000; text-decoration-color: #808000\">object_id</span>=<span style=\"color: #008000; text-decoration-color: #008000\">'7a1ea585-48e4-465a-a85b-bc14bd710f85'</span>, <span style=\"color: #808000; text-decoration-color: #808000\">collection</span>=<span style=\"color: #008000; text-decoration-color: #008000\">'Books'</span><span style=\"font-weight: bold\">)</span>,\n",
       "<span style=\"color: #7fbf7f; text-decoration-color: #7fbf7f\">│   │   </span><span style=\"color: #800080; text-decoration-color: #800080; font-weight: bold\">Source</span><span style=\"font-weight: bold\">(</span><span style=\"color: #808000; text-decoration-color: #808000\">object_id</span>=<span style=\"color: #008000; text-decoration-color: #008000\">'c8093ebc-3271-455f-a599-b02b91d44864'</span>, <span style=\"color: #808000; text-decoration-color: #808000\">collection</span>=<span style=\"color: #008000; text-decoration-color: #008000\">'Books'</span><span style=\"font-weight: bold\">)</span>,\n",
       "<span style=\"color: #7fbf7f; text-decoration-color: #7fbf7f\">│   │   </span><span style=\"color: #800080; text-decoration-color: #800080; font-weight: bold\">Source</span><span style=\"font-weight: bold\">(</span><span style=\"color: #808000; text-decoration-color: #808000\">object_id</span>=<span style=\"color: #008000; text-decoration-color: #008000\">'ccc58d9b-b57a-435b-bb90-af9abfc37a25'</span>, <span style=\"color: #808000; text-decoration-color: #808000\">collection</span>=<span style=\"color: #008000; text-decoration-color: #008000\">'Books'</span><span style=\"font-weight: bold\">)</span>\n",
       "<span style=\"color: #7fbf7f; text-decoration-color: #7fbf7f\">│   </span><span style=\"font-weight: bold\">]</span>\n",
       "<span style=\"font-weight: bold\">)</span>\n",
       "</pre>\n"
      ],
      "text/plain": [
       "\u001b[1;35mAskModeResponse\u001b[0m\u001b[1m(\u001b[0m\n",
       "\u001b[2;32m│   \u001b[0m\u001b[33moutput_type\u001b[0m=\u001b[32m'final_state'\u001b[0m,\n",
       "\u001b[2;32m│   \u001b[0m\u001b[33msearches\u001b[0m=\u001b[1m[\u001b[0m\n",
       "\u001b[2;32m│   │   \u001b[0m\u001b[1;35mQueryResultWithCollectionNormalized\u001b[0m\u001b[1m(\u001b[0m\n",
       "\u001b[2;32m│   │   │   \u001b[0m\u001b[33mquery\u001b[0m=\u001b[32m'King Arthur'\u001b[0m,\n",
       "\u001b[2;32m│   │   │   \u001b[0m\u001b[33mfilters\u001b[0m=\u001b[1;35mFilterAndOr\u001b[0m\u001b[1m(\u001b[0m\n",
       "\u001b[2;32m│   │   │   │   \u001b[0m\u001b[33mcombine\u001b[0m=\u001b[32m'OR'\u001b[0m,\n",
       "\u001b[2;32m│   │   │   │   \u001b[0m\u001b[33mfilters\u001b[0m=\u001b[1m[\u001b[0m\n",
       "\u001b[2;32m│   │   │   │   │   \u001b[0m\u001b[1;35mTextPropertyFilter\u001b[0m\u001b[1m(\u001b[0m\n",
       "\u001b[2;32m│   │   │   │   │   │   \u001b[0m\u001b[33mproperty_name\u001b[0m=\u001b[32m'title'\u001b[0m,\n",
       "\u001b[2;32m│   │   │   │   │   │   \u001b[0m\u001b[33moperator\u001b[0m=\u001b[1m<\u001b[0m\u001b[1;95mComparisonOperator.LIKE:\u001b[0m\u001b[39m \u001b[0m\u001b[32m'LIKE'\u001b[0m\u001b[39m>,\u001b[0m\n",
       "\u001b[2;32m│   │   │   │   │   │   \u001b[0m\u001b[33mvalue\u001b[0m\u001b[39m=\u001b[0m\u001b[32m'*King Arthur*'\u001b[0m\n",
       "\u001b[2;32m│   │   │   │   │   \u001b[0m\u001b[1;39m)\u001b[0m\u001b[39m,\u001b[0m\n",
       "\u001b[2;32m│   │   │   │   │   \u001b[0m\u001b[1;35mTextPropertyFilter\u001b[0m\u001b[1;39m(\u001b[0m\n",
       "\u001b[2;32m│   │   │   │   │   │   \u001b[0m\u001b[33mproperty_name\u001b[0m\u001b[39m=\u001b[0m\u001b[32m'description'\u001b[0m\u001b[39m,\u001b[0m\n",
       "\u001b[2;32m│   │   │   │   │   │   \u001b[0m\u001b[33moperator\u001b[0m\u001b[39m=<ComparisonOperator.LIKE: \u001b[0m\u001b[32m'LIKE'\u001b[0m\u001b[39m>,\u001b[0m\n",
       "\u001b[2;32m│   │   │   │   │   │   \u001b[0m\u001b[33mvalue\u001b[0m\u001b[39m=\u001b[0m\u001b[32m'*King Arthur*'\u001b[0m\n",
       "\u001b[2;32m│   │   │   │   │   \u001b[0m\u001b[1;39m)\u001b[0m\n",
       "\u001b[2;32m│   │   │   │   \u001b[0m\u001b[1;39m]\u001b[0m\n",
       "\u001b[2;32m│   │   │   \u001b[0m\u001b[1;39m)\u001b[0m\u001b[39m,\u001b[0m\n",
       "\u001b[2;32m│   │   │   \u001b[0m\u001b[33mcollection\u001b[0m\u001b[39m=\u001b[0m\u001b[32m'Books'\u001b[0m\n",
       "\u001b[2;32m│   │   \u001b[0m\u001b[1;39m)\u001b[0m\u001b[39m,\u001b[0m\n",
       "\u001b[2;32m│   │   \u001b[0m\u001b[1;35mQueryResultWithCollectionNormalized\u001b[0m\u001b[1;39m(\u001b[0m\n",
       "\u001b[2;32m│   │   │   \u001b[0m\u001b[33mquery\u001b[0m\u001b[39m=\u001b[0m\u001b[32m'knights'\u001b[0m\u001b[39m,\u001b[0m\n",
       "\u001b[2;32m│   │   │   \u001b[0m\u001b[33mfilters\u001b[0m\u001b[39m=\u001b[0m\u001b[1;35mTextPropertyFilter\u001b[0m\u001b[1;39m(\u001b[0m\n",
       "\u001b[2;32m│   │   │   │   \u001b[0m\u001b[33mproperty_name\u001b[0m\u001b[39m=\u001b[0m\u001b[32m'description'\u001b[0m\u001b[39m,\u001b[0m\n",
       "\u001b[2;32m│   │   │   │   \u001b[0m\u001b[33moperator\u001b[0m\u001b[39m=<ComparisonOperator.LIKE: \u001b[0m\u001b[32m'LIKE'\u001b[0m\u001b[1m>\u001b[0m,\n",
       "\u001b[2;32m│   │   │   │   \u001b[0m\u001b[33mvalue\u001b[0m=\u001b[32m'*knight*'\u001b[0m\n",
       "\u001b[2;32m│   │   │   \u001b[0m\u001b[1m)\u001b[0m,\n",
       "\u001b[2;32m│   │   │   \u001b[0m\u001b[33mcollection\u001b[0m=\u001b[32m'Books'\u001b[0m\n",
       "\u001b[2;32m│   │   \u001b[0m\u001b[1m)\u001b[0m\n",
       "\u001b[2;32m│   \u001b[0m\u001b[1m]\u001b[0m,\n",
       "\u001b[2;32m│   \u001b[0m\u001b[33maggregations\u001b[0m=\u001b[1m[\u001b[0m\u001b[1m]\u001b[0m,\n",
       "\u001b[2;32m│   \u001b[0m\u001b[33musage\u001b[0m=\u001b[1;35mModelUnitUsage\u001b[0m\u001b[1m(\u001b[0m\u001b[33mmodel_units\u001b[0m=\u001b[1;36m238\u001b[0m, \u001b[33musage_in_plan\u001b[0m=\u001b[3;92mTrue\u001b[0m, \u001b[33mremaining_plan_requests\u001b[0m=\u001b[1;36m830\u001b[0m\u001b[1m)\u001b[0m,\n",
       "\u001b[2;32m│   \u001b[0m\u001b[33mtotal_time\u001b[0m=\u001b[1;36m6\u001b[0m\u001b[1;36m.422454833984375\u001b[0m,\n",
       "\u001b[2;32m│   \u001b[0m\u001b[33mis_partial_answer\u001b[0m=\u001b[3;91mFalse\u001b[0m,\n",
       "\u001b[2;32m│   \u001b[0m\u001b[33mmissing_information\u001b[0m=\u001b[1m[\u001b[0m\u001b[1m]\u001b[0m,\n",
       "\u001b[2;32m│   \u001b[0m\u001b[33mfinal_answer\u001b[0m=\u001b[32m'If you\\'re interested in books about King Arthur, a great recommendation is \"The Winter King\" by Bernard Cornwell. It tells the story of King Arthur as a warlord trying to unite Britain amidst chaos and Saxon invasions, featuring elements of romance and magic.\\n\\nFor books focused on knights, here are some options:\\n\\n- \"The Rogue Blades\" by Dave Kish centers on knights and warriors involved in dueling contests within a kingdom ruled by a peace-loving queen.\\n- \"Dawn of the Knight I - Xeltian Invitation\" by Steven M. Vincent is a fantasy tale about knights fighting dark forces to protect mankind.\\n- \"The Way of Kings\" by Brandon Sanderson is an epic fantasy featuring the legendary Knights Radiant, ancient orders of mystical warriors, and their impact on a war-torn world.\\n\\nThese books cover a range of knightly themes, from Arthurian legend to fantasy wars and heroic duels.'\u001b[0m,\n",
       "\u001b[2;32m│   \u001b[0m\u001b[33msources\u001b[0m=\u001b[1m[\u001b[0m\n",
       "\u001b[2;32m│   │   \u001b[0m\u001b[1;35mSource\u001b[0m\u001b[1m(\u001b[0m\u001b[33mobject_id\u001b[0m=\u001b[32m'9536831d-6e02-4462-8af5-e630235a6582'\u001b[0m, \u001b[33mcollection\u001b[0m=\u001b[32m'Books'\u001b[0m\u001b[1m)\u001b[0m,\n",
       "\u001b[2;32m│   │   \u001b[0m\u001b[1;35mSource\u001b[0m\u001b[1m(\u001b[0m\u001b[33mobject_id\u001b[0m=\u001b[32m'7a1ea585-48e4-465a-a85b-bc14bd710f85'\u001b[0m, \u001b[33mcollection\u001b[0m=\u001b[32m'Books'\u001b[0m\u001b[1m)\u001b[0m,\n",
       "\u001b[2;32m│   │   \u001b[0m\u001b[1;35mSource\u001b[0m\u001b[1m(\u001b[0m\u001b[33mobject_id\u001b[0m=\u001b[32m'c8093ebc-3271-455f-a599-b02b91d44864'\u001b[0m, \u001b[33mcollection\u001b[0m=\u001b[32m'Books'\u001b[0m\u001b[1m)\u001b[0m,\n",
       "\u001b[2;32m│   │   \u001b[0m\u001b[1;35mSource\u001b[0m\u001b[1m(\u001b[0m\u001b[33mobject_id\u001b[0m=\u001b[32m'ccc58d9b-b57a-435b-bb90-af9abfc37a25'\u001b[0m, \u001b[33mcollection\u001b[0m=\u001b[32m'Books'\u001b[0m\u001b[1m)\u001b[0m\n",
       "\u001b[2;32m│   \u001b[0m\u001b[1m]\u001b[0m\n",
       "\u001b[1m)\u001b[0m\n"
      ]
     },
     "metadata": {},
     "output_type": "display_data"
    }
   ],
   "source": [
    "# Perform a query\n",
    "response = qa.ask(\n",
    "    \"Are there any books about King Arthur or Knights that I should read?\"\n",
    ")\n",
    "\n",
    "# Print the response\n",
    "# The output will include: the original query, the generated answer to the query, the seraches performed,\n",
    "# the collections searched, filters applied, aggregates completed and source objects ulled from the database.\n",
    "response.display()"
   ]
  },
  {
   "cell_type": "markdown",
   "id": "eff75761",
   "metadata": {
    "id": "eff75761"
   },
   "source": [
    "<a id='BookQueries'></a>  \n",
    "### 5.2 Generated database filtering   \n",
    "[Back to table of contents](#TOC)  \n",
    "\n",
    "This Query Agent is able determine appropriate filters and apply filtering for database objects returned by the vector database query. This allows for dynamic filtering in RAG systems, a step that is normally a manual process.\n"
   ]
  },
  {
   "cell_type": "code",
   "execution_count": 7,
   "id": "c31e3217",
   "metadata": {
    "id": "c31e3217"
   },
   "outputs": [
    {
     "data": {
      "text/html": [
       "<pre style=\"white-space:pre;overflow-x:auto;line-height:normal;font-family:Menlo,'DejaVu Sans Mono',consolas,'Courier New',monospace\"><span style=\"color: #800080; text-decoration-color: #800080; font-weight: bold\">AskModeResponse</span><span style=\"font-weight: bold\">(</span>\n",
       "<span style=\"color: #7fbf7f; text-decoration-color: #7fbf7f\">│   </span><span style=\"color: #808000; text-decoration-color: #808000\">output_type</span>=<span style=\"color: #008000; text-decoration-color: #008000\">'final_state'</span>,\n",
       "<span style=\"color: #7fbf7f; text-decoration-color: #7fbf7f\">│   </span><span style=\"color: #808000; text-decoration-color: #808000\">searches</span>=<span style=\"font-weight: bold\">[</span>\n",
       "<span style=\"color: #7fbf7f; text-decoration-color: #7fbf7f\">│   │   </span><span style=\"color: #800080; text-decoration-color: #800080; font-weight: bold\">QueryResultWithCollectionNormalized</span><span style=\"font-weight: bold\">(</span>\n",
       "<span style=\"color: #7fbf7f; text-decoration-color: #7fbf7f\">│   │   │   </span><span style=\"color: #808000; text-decoration-color: #808000\">query</span>=<span style=\"color: #800080; text-decoration-color: #800080; font-style: italic\">None</span>,\n",
       "<span style=\"color: #7fbf7f; text-decoration-color: #7fbf7f\">│   │   │   </span><span style=\"color: #808000; text-decoration-color: #808000\">filters</span>=<span style=\"color: #800080; text-decoration-color: #800080; font-weight: bold\">TextArrayPropertyFilter</span><span style=\"font-weight: bold\">(</span>\n",
       "<span style=\"color: #7fbf7f; text-decoration-color: #7fbf7f\">│   │   │   │   </span><span style=\"color: #808000; text-decoration-color: #808000\">property_name</span>=<span style=\"color: #008000; text-decoration-color: #008000\">'genres'</span>,\n",
       "<span style=\"color: #7fbf7f; text-decoration-color: #7fbf7f\">│   │   │   │   </span><span style=\"color: #808000; text-decoration-color: #808000\">operator</span>=<span style=\"font-weight: bold\">&lt;</span><span style=\"color: #ff00ff; text-decoration-color: #ff00ff; font-weight: bold\">ComparisonOperator.CONTAINS_ANY:</span><span style=\"color: #000000; text-decoration-color: #000000\"> </span><span style=\"color: #008000; text-decoration-color: #008000\">'contains_any'</span><span style=\"font-weight: bold\">&gt;</span>,\n",
       "<span style=\"color: #7fbf7f; text-decoration-color: #7fbf7f\">│   │   │   │   </span><span style=\"color: #808000; text-decoration-color: #808000\">value</span>=<span style=\"font-weight: bold\">[</span><span style=\"color: #008000; text-decoration-color: #008000\">'mystery'</span><span style=\"font-weight: bold\">]</span>\n",
       "<span style=\"color: #7fbf7f; text-decoration-color: #7fbf7f\">│   │   │   </span><span style=\"font-weight: bold\">)</span>,\n",
       "<span style=\"color: #7fbf7f; text-decoration-color: #7fbf7f\">│   │   │   </span><span style=\"color: #808000; text-decoration-color: #808000\">collection</span>=<span style=\"color: #008000; text-decoration-color: #008000\">'Books'</span>\n",
       "<span style=\"color: #7fbf7f; text-decoration-color: #7fbf7f\">│   │   </span><span style=\"font-weight: bold\">)</span>\n",
       "<span style=\"color: #7fbf7f; text-decoration-color: #7fbf7f\">│   </span><span style=\"font-weight: bold\">]</span>,\n",
       "<span style=\"color: #7fbf7f; text-decoration-color: #7fbf7f\">│   </span><span style=\"color: #808000; text-decoration-color: #808000\">aggregations</span>=<span style=\"font-weight: bold\">[]</span>,\n",
       "<span style=\"color: #7fbf7f; text-decoration-color: #7fbf7f\">│   </span><span style=\"color: #808000; text-decoration-color: #808000\">usage</span>=<span style=\"color: #800080; text-decoration-color: #800080; font-weight: bold\">ModelUnitUsage</span><span style=\"font-weight: bold\">(</span><span style=\"color: #808000; text-decoration-color: #808000\">model_units</span>=<span style=\"color: #008080; text-decoration-color: #008080; font-weight: bold\">206</span>, <span style=\"color: #808000; text-decoration-color: #808000\">usage_in_plan</span>=<span style=\"color: #00ff00; text-decoration-color: #00ff00; font-style: italic\">True</span>, <span style=\"color: #808000; text-decoration-color: #808000\">remaining_plan_requests</span>=<span style=\"color: #008080; text-decoration-color: #008080; font-weight: bold\">826</span><span style=\"font-weight: bold\">)</span>,\n",
       "<span style=\"color: #7fbf7f; text-decoration-color: #7fbf7f\">│   </span><span style=\"color: #808000; text-decoration-color: #808000\">total_time</span>=<span style=\"color: #008080; text-decoration-color: #008080; font-weight: bold\">8.714638471603394</span>,\n",
       "<span style=\"color: #7fbf7f; text-decoration-color: #7fbf7f\">│   </span><span style=\"color: #808000; text-decoration-color: #808000\">is_partial_answer</span>=<span style=\"color: #ff0000; text-decoration-color: #ff0000; font-style: italic\">False</span>,\n",
       "<span style=\"color: #7fbf7f; text-decoration-color: #7fbf7f\">│   </span><span style=\"color: #808000; text-decoration-color: #808000\">missing_information</span>=<span style=\"font-weight: bold\">[]</span>,\n",
       "<span style=\"color: #7fbf7f; text-decoration-color: #7fbf7f\">│   </span><span style=\"color: #808000; text-decoration-color: #808000\">final_answer</span>=<span style=\"color: #008000; text-decoration-color: #008000\">'If you\\'re in the mood for a good mystery book, here are several great options across different styles of mystery:\\n\\n1. \"The Wife Between Us\" by Greer Hendricks and Sarah Pekkanen - A psychological, twist-filled mystery about assumptions that will keep you guessing about a tangled love triangle.\\n\\n2. \"Damascus Cover\" by Howard Kaplan - A gripping espionage thriller with plenty of suspense and twists, involving a spy mission full of danger and intrigue.\\n\\n3. \"Maisie Dobbs\" by Jacqueline Winspear - A historical mystery featuring a psychologist and investigator uncovering a complex case tied to World War I.\\n\\n4. \"The Dark Web Murders\" by Brian O\\'Hare - A thrilling mystery involving a cold-blooded, philosophical serial killer and a harrowing investigation.\\n\\n5. \"Gone, Baby, Gone\" by Dennis Lehane - A gritty, emotional mystery in a tough Boston neighborhood involving private investigators searching for a missing child.\\n\\n6. \"Behind Closed Doors\" by B.A. Paris - A psychological thriller exploring the dark secrets behind a seemingly perfect marriage.\\n\\n7. \"The Black Book\" by Orhan Pamuk - An unconventional and thought-provoking mystery set in Istanbul, blending literary questions with a search for a missing wife.\\n\\n8. \"The Girl in the Spider\\'s Web\" by David Lagercrantz - A suspenseful and modern thriller featuring a hacker and journalist chasing dangerous secrets.\\n\\n9. \"Live to Tell\" by Lisa Gardner - A brutal family murder mystery investigated by a determined police detective.\\n\\nEach offers a compelling mystery with its own unique style and atmosphere, so you could pick based on what kind of mystery mood you are in—psychological, historical, thriller, or classic detective style. Enjoy your reading!'</span>,\n",
       "<span style=\"color: #7fbf7f; text-decoration-color: #7fbf7f\">│   </span><span style=\"color: #808000; text-decoration-color: #808000\">sources</span>=<span style=\"font-weight: bold\">[</span>\n",
       "<span style=\"color: #7fbf7f; text-decoration-color: #7fbf7f\">│   │   </span><span style=\"color: #800080; text-decoration-color: #800080; font-weight: bold\">Source</span><span style=\"font-weight: bold\">(</span><span style=\"color: #808000; text-decoration-color: #808000\">object_id</span>=<span style=\"color: #008000; text-decoration-color: #008000\">'00bf10f5-0fe9-42c8-a36f-df2cc92d5562'</span>, <span style=\"color: #808000; text-decoration-color: #808000\">collection</span>=<span style=\"color: #008000; text-decoration-color: #008000\">'Books'</span><span style=\"font-weight: bold\">)</span>,\n",
       "<span style=\"color: #7fbf7f; text-decoration-color: #7fbf7f\">│   │   </span><span style=\"color: #800080; text-decoration-color: #800080; font-weight: bold\">Source</span><span style=\"font-weight: bold\">(</span><span style=\"color: #808000; text-decoration-color: #808000\">object_id</span>=<span style=\"color: #008000; text-decoration-color: #008000\">'108fc3de-54dc-4396-bbc8-cc042e15ca88'</span>, <span style=\"color: #808000; text-decoration-color: #808000\">collection</span>=<span style=\"color: #008000; text-decoration-color: #008000\">'Books'</span><span style=\"font-weight: bold\">)</span>,\n",
       "<span style=\"color: #7fbf7f; text-decoration-color: #7fbf7f\">│   │   </span><span style=\"color: #800080; text-decoration-color: #800080; font-weight: bold\">Source</span><span style=\"font-weight: bold\">(</span><span style=\"color: #808000; text-decoration-color: #808000\">object_id</span>=<span style=\"color: #008000; text-decoration-color: #008000\">'1e81b838-a4f3-41cb-bffb-1d99385cb150'</span>, <span style=\"color: #808000; text-decoration-color: #808000\">collection</span>=<span style=\"color: #008000; text-decoration-color: #008000\">'Books'</span><span style=\"font-weight: bold\">)</span>,\n",
       "<span style=\"color: #7fbf7f; text-decoration-color: #7fbf7f\">│   │   </span><span style=\"color: #800080; text-decoration-color: #800080; font-weight: bold\">Source</span><span style=\"font-weight: bold\">(</span><span style=\"color: #808000; text-decoration-color: #808000\">object_id</span>=<span style=\"color: #008000; text-decoration-color: #008000\">'22fa5bb7-e2ce-4f37-9e49-07e7301aee69'</span>, <span style=\"color: #808000; text-decoration-color: #808000\">collection</span>=<span style=\"color: #008000; text-decoration-color: #008000\">'Books'</span><span style=\"font-weight: bold\">)</span>,\n",
       "<span style=\"color: #7fbf7f; text-decoration-color: #7fbf7f\">│   │   </span><span style=\"color: #800080; text-decoration-color: #800080; font-weight: bold\">Source</span><span style=\"font-weight: bold\">(</span><span style=\"color: #808000; text-decoration-color: #808000\">object_id</span>=<span style=\"color: #008000; text-decoration-color: #008000\">'23c1ba6f-717c-4b69-8e47-457c2245832e'</span>, <span style=\"color: #808000; text-decoration-color: #808000\">collection</span>=<span style=\"color: #008000; text-decoration-color: #008000\">'Books'</span><span style=\"font-weight: bold\">)</span>,\n",
       "<span style=\"color: #7fbf7f; text-decoration-color: #7fbf7f\">│   │   </span><span style=\"color: #800080; text-decoration-color: #800080; font-weight: bold\">Source</span><span style=\"font-weight: bold\">(</span><span style=\"color: #808000; text-decoration-color: #808000\">object_id</span>=<span style=\"color: #008000; text-decoration-color: #008000\">'3a24eeae-aa51-4b1e-8784-9fb4bfcad6f0'</span>, <span style=\"color: #808000; text-decoration-color: #808000\">collection</span>=<span style=\"color: #008000; text-decoration-color: #008000\">'Books'</span><span style=\"font-weight: bold\">)</span>,\n",
       "<span style=\"color: #7fbf7f; text-decoration-color: #7fbf7f\">│   │   </span><span style=\"color: #800080; text-decoration-color: #800080; font-weight: bold\">Source</span><span style=\"font-weight: bold\">(</span><span style=\"color: #808000; text-decoration-color: #808000\">object_id</span>=<span style=\"color: #008000; text-decoration-color: #008000\">'4f597f16-5e32-4f51-9333-509a70ca0e04'</span>, <span style=\"color: #808000; text-decoration-color: #808000\">collection</span>=<span style=\"color: #008000; text-decoration-color: #008000\">'Books'</span><span style=\"font-weight: bold\">)</span>,\n",
       "<span style=\"color: #7fbf7f; text-decoration-color: #7fbf7f\">│   │   </span><span style=\"color: #800080; text-decoration-color: #800080; font-weight: bold\">Source</span><span style=\"font-weight: bold\">(</span><span style=\"color: #808000; text-decoration-color: #808000\">object_id</span>=<span style=\"color: #008000; text-decoration-color: #008000\">'6dcefd0a-3eb8-4e76-83d5-015e1ab672af'</span>, <span style=\"color: #808000; text-decoration-color: #808000\">collection</span>=<span style=\"color: #008000; text-decoration-color: #008000\">'Books'</span><span style=\"font-weight: bold\">)</span>,\n",
       "<span style=\"color: #7fbf7f; text-decoration-color: #7fbf7f\">│   │   </span><span style=\"color: #800080; text-decoration-color: #800080; font-weight: bold\">Source</span><span style=\"font-weight: bold\">(</span><span style=\"color: #808000; text-decoration-color: #808000\">object_id</span>=<span style=\"color: #008000; text-decoration-color: #008000\">'452213a6-5d88-4d0d-a21c-98c1f2017635'</span>, <span style=\"color: #808000; text-decoration-color: #808000\">collection</span>=<span style=\"color: #008000; text-decoration-color: #008000\">'Books'</span><span style=\"font-weight: bold\">)</span>\n",
       "<span style=\"color: #7fbf7f; text-decoration-color: #7fbf7f\">│   </span><span style=\"font-weight: bold\">]</span>\n",
       "<span style=\"font-weight: bold\">)</span>\n",
       "</pre>\n"
      ],
      "text/plain": [
       "\u001b[1;35mAskModeResponse\u001b[0m\u001b[1m(\u001b[0m\n",
       "\u001b[2;32m│   \u001b[0m\u001b[33moutput_type\u001b[0m=\u001b[32m'final_state'\u001b[0m,\n",
       "\u001b[2;32m│   \u001b[0m\u001b[33msearches\u001b[0m=\u001b[1m[\u001b[0m\n",
       "\u001b[2;32m│   │   \u001b[0m\u001b[1;35mQueryResultWithCollectionNormalized\u001b[0m\u001b[1m(\u001b[0m\n",
       "\u001b[2;32m│   │   │   \u001b[0m\u001b[33mquery\u001b[0m=\u001b[3;35mNone\u001b[0m,\n",
       "\u001b[2;32m│   │   │   \u001b[0m\u001b[33mfilters\u001b[0m=\u001b[1;35mTextArrayPropertyFilter\u001b[0m\u001b[1m(\u001b[0m\n",
       "\u001b[2;32m│   │   │   │   \u001b[0m\u001b[33mproperty_name\u001b[0m=\u001b[32m'genres'\u001b[0m,\n",
       "\u001b[2;32m│   │   │   │   \u001b[0m\u001b[33moperator\u001b[0m=\u001b[1m<\u001b[0m\u001b[1;95mComparisonOperator.CONTAINS_ANY:\u001b[0m\u001b[39m \u001b[0m\u001b[32m'contains_any'\u001b[0m\u001b[1m>\u001b[0m,\n",
       "\u001b[2;32m│   │   │   │   \u001b[0m\u001b[33mvalue\u001b[0m=\u001b[1m[\u001b[0m\u001b[32m'mystery'\u001b[0m\u001b[1m]\u001b[0m\n",
       "\u001b[2;32m│   │   │   \u001b[0m\u001b[1m)\u001b[0m,\n",
       "\u001b[2;32m│   │   │   \u001b[0m\u001b[33mcollection\u001b[0m=\u001b[32m'Books'\u001b[0m\n",
       "\u001b[2;32m│   │   \u001b[0m\u001b[1m)\u001b[0m\n",
       "\u001b[2;32m│   \u001b[0m\u001b[1m]\u001b[0m,\n",
       "\u001b[2;32m│   \u001b[0m\u001b[33maggregations\u001b[0m=\u001b[1m[\u001b[0m\u001b[1m]\u001b[0m,\n",
       "\u001b[2;32m│   \u001b[0m\u001b[33musage\u001b[0m=\u001b[1;35mModelUnitUsage\u001b[0m\u001b[1m(\u001b[0m\u001b[33mmodel_units\u001b[0m=\u001b[1;36m206\u001b[0m, \u001b[33musage_in_plan\u001b[0m=\u001b[3;92mTrue\u001b[0m, \u001b[33mremaining_plan_requests\u001b[0m=\u001b[1;36m826\u001b[0m\u001b[1m)\u001b[0m,\n",
       "\u001b[2;32m│   \u001b[0m\u001b[33mtotal_time\u001b[0m=\u001b[1;36m8\u001b[0m\u001b[1;36m.714638471603394\u001b[0m,\n",
       "\u001b[2;32m│   \u001b[0m\u001b[33mis_partial_answer\u001b[0m=\u001b[3;91mFalse\u001b[0m,\n",
       "\u001b[2;32m│   \u001b[0m\u001b[33mmissing_information\u001b[0m=\u001b[1m[\u001b[0m\u001b[1m]\u001b[0m,\n",
       "\u001b[2;32m│   \u001b[0m\u001b[33mfinal_answer\u001b[0m=\u001b[32m'If you\\'re in the mood for a good mystery book, here are several great options across different styles of mystery:\\n\\n1. \"The Wife Between Us\" by Greer Hendricks and Sarah Pekkanen - A psychological, twist-filled mystery about assumptions that will keep you guessing about a tangled love triangle.\\n\\n2. \"Damascus Cover\" by Howard Kaplan - A gripping espionage thriller with plenty of suspense and twists, involving a spy mission full of danger and intrigue.\\n\\n3. \"Maisie Dobbs\" by Jacqueline Winspear - A historical mystery featuring a psychologist and investigator uncovering a complex case tied to World War I.\\n\\n4. \"The Dark Web Murders\" by Brian O\\'Hare - A thrilling mystery involving a cold-blooded, philosophical serial killer and a harrowing investigation.\\n\\n5. \"Gone, Baby, Gone\" by Dennis Lehane - A gritty, emotional mystery in a tough Boston neighborhood involving private investigators searching for a missing child.\\n\\n6. \"Behind Closed Doors\" by B.A. Paris - A psychological thriller exploring the dark secrets behind a seemingly perfect marriage.\\n\\n7. \"The Black Book\" by Orhan Pamuk - An unconventional and thought-provoking mystery set in Istanbul, blending literary questions with a search for a missing wife.\\n\\n8. \"The Girl in the Spider\\'s Web\" by David Lagercrantz - A suspenseful and modern thriller featuring a hacker and journalist chasing dangerous secrets.\\n\\n9. \"Live to Tell\" by Lisa Gardner - A brutal family murder mystery investigated by a determined police detective.\\n\\nEach offers a compelling mystery with its own unique style and atmosphere, so you could pick based on what kind of mystery mood you are in—psychological, historical, thriller, or classic detective style. Enjoy your reading!'\u001b[0m,\n",
       "\u001b[2;32m│   \u001b[0m\u001b[33msources\u001b[0m=\u001b[1m[\u001b[0m\n",
       "\u001b[2;32m│   │   \u001b[0m\u001b[1;35mSource\u001b[0m\u001b[1m(\u001b[0m\u001b[33mobject_id\u001b[0m=\u001b[32m'00bf10f5-0fe9-42c8-a36f-df2cc92d5562'\u001b[0m, \u001b[33mcollection\u001b[0m=\u001b[32m'Books'\u001b[0m\u001b[1m)\u001b[0m,\n",
       "\u001b[2;32m│   │   \u001b[0m\u001b[1;35mSource\u001b[0m\u001b[1m(\u001b[0m\u001b[33mobject_id\u001b[0m=\u001b[32m'108fc3de-54dc-4396-bbc8-cc042e15ca88'\u001b[0m, \u001b[33mcollection\u001b[0m=\u001b[32m'Books'\u001b[0m\u001b[1m)\u001b[0m,\n",
       "\u001b[2;32m│   │   \u001b[0m\u001b[1;35mSource\u001b[0m\u001b[1m(\u001b[0m\u001b[33mobject_id\u001b[0m=\u001b[32m'1e81b838-a4f3-41cb-bffb-1d99385cb150'\u001b[0m, \u001b[33mcollection\u001b[0m=\u001b[32m'Books'\u001b[0m\u001b[1m)\u001b[0m,\n",
       "\u001b[2;32m│   │   \u001b[0m\u001b[1;35mSource\u001b[0m\u001b[1m(\u001b[0m\u001b[33mobject_id\u001b[0m=\u001b[32m'22fa5bb7-e2ce-4f37-9e49-07e7301aee69'\u001b[0m, \u001b[33mcollection\u001b[0m=\u001b[32m'Books'\u001b[0m\u001b[1m)\u001b[0m,\n",
       "\u001b[2;32m│   │   \u001b[0m\u001b[1;35mSource\u001b[0m\u001b[1m(\u001b[0m\u001b[33mobject_id\u001b[0m=\u001b[32m'23c1ba6f-717c-4b69-8e47-457c2245832e'\u001b[0m, \u001b[33mcollection\u001b[0m=\u001b[32m'Books'\u001b[0m\u001b[1m)\u001b[0m,\n",
       "\u001b[2;32m│   │   \u001b[0m\u001b[1;35mSource\u001b[0m\u001b[1m(\u001b[0m\u001b[33mobject_id\u001b[0m=\u001b[32m'3a24eeae-aa51-4b1e-8784-9fb4bfcad6f0'\u001b[0m, \u001b[33mcollection\u001b[0m=\u001b[32m'Books'\u001b[0m\u001b[1m)\u001b[0m,\n",
       "\u001b[2;32m│   │   \u001b[0m\u001b[1;35mSource\u001b[0m\u001b[1m(\u001b[0m\u001b[33mobject_id\u001b[0m=\u001b[32m'4f597f16-5e32-4f51-9333-509a70ca0e04'\u001b[0m, \u001b[33mcollection\u001b[0m=\u001b[32m'Books'\u001b[0m\u001b[1m)\u001b[0m,\n",
       "\u001b[2;32m│   │   \u001b[0m\u001b[1;35mSource\u001b[0m\u001b[1m(\u001b[0m\u001b[33mobject_id\u001b[0m=\u001b[32m'6dcefd0a-3eb8-4e76-83d5-015e1ab672af'\u001b[0m, \u001b[33mcollection\u001b[0m=\u001b[32m'Books'\u001b[0m\u001b[1m)\u001b[0m,\n",
       "\u001b[2;32m│   │   \u001b[0m\u001b[1;35mSource\u001b[0m\u001b[1m(\u001b[0m\u001b[33mobject_id\u001b[0m=\u001b[32m'452213a6-5d88-4d0d-a21c-98c1f2017635'\u001b[0m, \u001b[33mcollection\u001b[0m=\u001b[32m'Books'\u001b[0m\u001b[1m)\u001b[0m\n",
       "\u001b[2;32m│   \u001b[0m\u001b[1m]\u001b[0m\n",
       "\u001b[1m)\u001b[0m\n"
      ]
     },
     "metadata": {},
     "output_type": "display_data"
    }
   ],
   "source": [
    "# Perform a query\n",
    "response = qa.ask(\n",
    "    \"I am in the mood for a good mystery book, what should I read?\"\n",
    ")\n",
    "\n",
    "# Print the response\n",
    "response.display()"
   ]
  },
  {
   "cell_type": "markdown",
   "id": "6e443761",
   "metadata": {
    "id": "6e443761"
   },
   "source": [
    "<a id='StatisticalQueries'></a>  \n",
    "### 5.3 Statistical and aggregation queries  \n",
    "[Back to table of contents](#TOC)  \n",
    "\n",
    "The Query Agent automatically recognizes when aggregation is needed and performs complex statistical operations like counting and grouping data."
   ]
  },
  {
   "cell_type": "code",
   "execution_count": 8,
   "id": "f9fec420",
   "metadata": {
    "id": "f9fec420"
   },
   "outputs": [
    {
     "data": {
      "text/html": [
       "<pre style=\"white-space:pre;overflow-x:auto;line-height:normal;font-family:Menlo,'DejaVu Sans Mono',consolas,'Courier New',monospace\"><span style=\"color: #800080; text-decoration-color: #800080; font-weight: bold\">AskModeResponse</span><span style=\"font-weight: bold\">(</span>\n",
       "<span style=\"color: #7fbf7f; text-decoration-color: #7fbf7f\">│   </span><span style=\"color: #808000; text-decoration-color: #808000\">output_type</span>=<span style=\"color: #008000; text-decoration-color: #008000\">'final_state'</span>,\n",
       "<span style=\"color: #7fbf7f; text-decoration-color: #7fbf7f\">│   </span><span style=\"color: #808000; text-decoration-color: #808000\">searches</span>=<span style=\"font-weight: bold\">[]</span>,\n",
       "<span style=\"color: #7fbf7f; text-decoration-color: #7fbf7f\">│   </span><span style=\"color: #808000; text-decoration-color: #808000\">aggregations</span>=<span style=\"font-weight: bold\">[</span>\n",
       "<span style=\"color: #7fbf7f; text-decoration-color: #7fbf7f\">│   │   </span><span style=\"color: #800080; text-decoration-color: #800080; font-weight: bold\">AggregationResultWithCollectionNormalized</span><span style=\"font-weight: bold\">(</span>\n",
       "<span style=\"color: #7fbf7f; text-decoration-color: #7fbf7f\">│   │   │   </span><span style=\"color: #808000; text-decoration-color: #808000\">groupby_property</span>=<span style=\"color: #008000; text-decoration-color: #008000\">'author'</span>,\n",
       "<span style=\"color: #7fbf7f; text-decoration-color: #7fbf7f\">│   │   │   </span><span style=\"color: #808000; text-decoration-color: #808000\">aggregation</span>=<span style=\"color: #800080; text-decoration-color: #800080; font-weight: bold\">TextPropertyAggregation</span><span style=\"font-weight: bold\">(</span>\n",
       "<span style=\"color: #7fbf7f; text-decoration-color: #7fbf7f\">│   │   │   │   </span><span style=\"color: #808000; text-decoration-color: #808000\">property_name</span>=<span style=\"color: #008000; text-decoration-color: #008000\">'title'</span>,\n",
       "<span style=\"color: #7fbf7f; text-decoration-color: #7fbf7f\">│   │   │   │   </span><span style=\"color: #808000; text-decoration-color: #808000\">metrics</span>=<span style=\"font-weight: bold\">&lt;</span><span style=\"color: #ff00ff; text-decoration-color: #ff00ff; font-weight: bold\">TextMetrics.COUNT:</span><span style=\"color: #000000; text-decoration-color: #000000\"> </span><span style=\"color: #008000; text-decoration-color: #008000\">'COUNT'</span><span style=\"font-weight: bold\">&gt;</span>,\n",
       "<span style=\"color: #7fbf7f; text-decoration-color: #7fbf7f\">│   │   │   │   </span><span style=\"color: #808000; text-decoration-color: #808000\">top_occurrences_limit</span>=<span style=\"color: #800080; text-decoration-color: #800080; font-style: italic\">None</span>\n",
       "<span style=\"color: #7fbf7f; text-decoration-color: #7fbf7f\">│   │   │   </span><span style=\"font-weight: bold\">)</span>,\n",
       "<span style=\"color: #7fbf7f; text-decoration-color: #7fbf7f\">│   │   │   </span><span style=\"color: #808000; text-decoration-color: #808000\">filters</span>=<span style=\"color: #800080; text-decoration-color: #800080; font-style: italic\">None</span>,\n",
       "<span style=\"color: #7fbf7f; text-decoration-color: #7fbf7f\">│   │   │   </span><span style=\"color: #808000; text-decoration-color: #808000\">collection</span>=<span style=\"color: #008000; text-decoration-color: #008000\">'Books'</span>\n",
       "<span style=\"color: #7fbf7f; text-decoration-color: #7fbf7f\">│   │   </span><span style=\"font-weight: bold\">)</span>\n",
       "<span style=\"color: #7fbf7f; text-decoration-color: #7fbf7f\">│   </span><span style=\"font-weight: bold\">]</span>,\n",
       "<span style=\"color: #7fbf7f; text-decoration-color: #7fbf7f\">│   </span><span style=\"color: #808000; text-decoration-color: #808000\">usage</span>=<span style=\"color: #800080; text-decoration-color: #800080; font-weight: bold\">ModelUnitUsage</span><span style=\"font-weight: bold\">(</span><span style=\"color: #808000; text-decoration-color: #808000\">model_units</span>=<span style=\"color: #008080; text-decoration-color: #008080; font-weight: bold\">560</span>, <span style=\"color: #808000; text-decoration-color: #808000\">usage_in_plan</span>=<span style=\"color: #00ff00; text-decoration-color: #00ff00; font-style: italic\">True</span>, <span style=\"color: #808000; text-decoration-color: #808000\">remaining_plan_requests</span>=<span style=\"color: #008080; text-decoration-color: #008080; font-weight: bold\">822</span><span style=\"font-weight: bold\">)</span>,\n",
       "<span style=\"color: #7fbf7f; text-decoration-color: #7fbf7f\">│   </span><span style=\"color: #808000; text-decoration-color: #808000\">total_time</span>=<span style=\"color: #008080; text-decoration-color: #008080; font-weight: bold\">5.935815095901489</span>,\n",
       "<span style=\"color: #7fbf7f; text-decoration-color: #7fbf7f\">│   </span><span style=\"color: #808000; text-decoration-color: #808000\">is_partial_answer</span>=<span style=\"color: #ff0000; text-decoration-color: #ff0000; font-style: italic\">False</span>,\n",
       "<span style=\"color: #7fbf7f; text-decoration-color: #7fbf7f\">│   </span><span style=\"color: #808000; text-decoration-color: #808000\">missing_information</span>=<span style=\"font-weight: bold\">[]</span>,\n",
       "<span style=\"color: #7fbf7f; text-decoration-color: #7fbf7f\">│   </span><span style=\"color: #808000; text-decoration-color: #808000\">final_answer</span>=<span style=\"color: #008000; text-decoration-color: #008000\">'The author with the most books in your collection is Stephen King, with a total of 57 books.'</span>,\n",
       "<span style=\"color: #7fbf7f; text-decoration-color: #7fbf7f\">│   </span><span style=\"color: #808000; text-decoration-color: #808000\">sources</span>=<span style=\"font-weight: bold\">[]</span>\n",
       "<span style=\"font-weight: bold\">)</span>\n",
       "</pre>\n"
      ],
      "text/plain": [
       "\u001b[1;35mAskModeResponse\u001b[0m\u001b[1m(\u001b[0m\n",
       "\u001b[2;32m│   \u001b[0m\u001b[33moutput_type\u001b[0m=\u001b[32m'final_state'\u001b[0m,\n",
       "\u001b[2;32m│   \u001b[0m\u001b[33msearches\u001b[0m=\u001b[1m[\u001b[0m\u001b[1m]\u001b[0m,\n",
       "\u001b[2;32m│   \u001b[0m\u001b[33maggregations\u001b[0m=\u001b[1m[\u001b[0m\n",
       "\u001b[2;32m│   │   \u001b[0m\u001b[1;35mAggregationResultWithCollectionNormalized\u001b[0m\u001b[1m(\u001b[0m\n",
       "\u001b[2;32m│   │   │   \u001b[0m\u001b[33mgroupby_property\u001b[0m=\u001b[32m'author'\u001b[0m,\n",
       "\u001b[2;32m│   │   │   \u001b[0m\u001b[33maggregation\u001b[0m=\u001b[1;35mTextPropertyAggregation\u001b[0m\u001b[1m(\u001b[0m\n",
       "\u001b[2;32m│   │   │   │   \u001b[0m\u001b[33mproperty_name\u001b[0m=\u001b[32m'title'\u001b[0m,\n",
       "\u001b[2;32m│   │   │   │   \u001b[0m\u001b[33mmetrics\u001b[0m=\u001b[1m<\u001b[0m\u001b[1;95mTextMetrics.COUNT:\u001b[0m\u001b[39m \u001b[0m\u001b[32m'COUNT'\u001b[0m\u001b[1m>\u001b[0m,\n",
       "\u001b[2;32m│   │   │   │   \u001b[0m\u001b[33mtop_occurrences_limit\u001b[0m=\u001b[3;35mNone\u001b[0m\n",
       "\u001b[2;32m│   │   │   \u001b[0m\u001b[1m)\u001b[0m,\n",
       "\u001b[2;32m│   │   │   \u001b[0m\u001b[33mfilters\u001b[0m=\u001b[3;35mNone\u001b[0m,\n",
       "\u001b[2;32m│   │   │   \u001b[0m\u001b[33mcollection\u001b[0m=\u001b[32m'Books'\u001b[0m\n",
       "\u001b[2;32m│   │   \u001b[0m\u001b[1m)\u001b[0m\n",
       "\u001b[2;32m│   \u001b[0m\u001b[1m]\u001b[0m,\n",
       "\u001b[2;32m│   \u001b[0m\u001b[33musage\u001b[0m=\u001b[1;35mModelUnitUsage\u001b[0m\u001b[1m(\u001b[0m\u001b[33mmodel_units\u001b[0m=\u001b[1;36m560\u001b[0m, \u001b[33musage_in_plan\u001b[0m=\u001b[3;92mTrue\u001b[0m, \u001b[33mremaining_plan_requests\u001b[0m=\u001b[1;36m822\u001b[0m\u001b[1m)\u001b[0m,\n",
       "\u001b[2;32m│   \u001b[0m\u001b[33mtotal_time\u001b[0m=\u001b[1;36m5\u001b[0m\u001b[1;36m.935815095901489\u001b[0m,\n",
       "\u001b[2;32m│   \u001b[0m\u001b[33mis_partial_answer\u001b[0m=\u001b[3;91mFalse\u001b[0m,\n",
       "\u001b[2;32m│   \u001b[0m\u001b[33mmissing_information\u001b[0m=\u001b[1m[\u001b[0m\u001b[1m]\u001b[0m,\n",
       "\u001b[2;32m│   \u001b[0m\u001b[33mfinal_answer\u001b[0m=\u001b[32m'The author with the most books in your collection is Stephen King, with a total of 57 books.'\u001b[0m,\n",
       "\u001b[2;32m│   \u001b[0m\u001b[33msources\u001b[0m=\u001b[1m[\u001b[0m\u001b[1m]\u001b[0m\n",
       "\u001b[1m)\u001b[0m\n"
      ]
     },
     "metadata": {},
     "output_type": "display_data"
    }
   ],
   "source": [
    "# Perform a query\n",
    "response = qa.ask(\n",
    "    \"Which author has the most books in my collection?\"\n",
    ")\n",
    "\n",
    "# Print the response\n",
    "response.display()"
   ]
  },
  {
   "cell_type": "markdown",
   "id": "69c1ed1e",
   "metadata": {
    "id": "69c1ed1e"
   },
   "source": [
    "<a id='MultipleQueries'></a>  \n",
    "### 5.4 Querying multiple databases  \n",
    "[Back to table of contents](#TOC)  \n",
    "\n",
    "The Query agent looks at collection descriptions and property data to determine which collection or collections to query for proper context for the query response generation."
   ]
  },
  {
   "cell_type": "code",
   "execution_count": 9,
   "id": "87d626a1",
   "metadata": {
    "id": "87d626a1"
   },
   "outputs": [
    {
     "data": {
      "text/html": [
       "<pre style=\"white-space:pre;overflow-x:auto;line-height:normal;font-family:Menlo,'DejaVu Sans Mono',consolas,'Courier New',monospace\"><span style=\"color: #800080; text-decoration-color: #800080; font-weight: bold\">AskModeResponse</span><span style=\"font-weight: bold\">(</span>\n",
       "<span style=\"color: #7fbf7f; text-decoration-color: #7fbf7f\">│   </span><span style=\"color: #808000; text-decoration-color: #808000\">output_type</span>=<span style=\"color: #008000; text-decoration-color: #008000\">'final_state'</span>,\n",
       "<span style=\"color: #7fbf7f; text-decoration-color: #7fbf7f\">│   </span><span style=\"color: #808000; text-decoration-color: #808000\">searches</span>=<span style=\"font-weight: bold\">[</span>\n",
       "<span style=\"color: #7fbf7f; text-decoration-color: #7fbf7f\">│   │   </span><span style=\"color: #800080; text-decoration-color: #800080; font-weight: bold\">QueryResultWithCollectionNormalized</span><span style=\"font-weight: bold\">(</span>\n",
       "<span style=\"color: #7fbf7f; text-decoration-color: #7fbf7f\">│   │   │   </span><span style=\"color: #808000; text-decoration-color: #808000\">query</span>=<span style=\"color: #008000; text-decoration-color: #008000\">'jean jacket'</span>,\n",
       "<span style=\"color: #7fbf7f; text-decoration-color: #7fbf7f\">│   │   │   </span><span style=\"color: #808000; text-decoration-color: #808000\">filters</span>=<span style=\"color: #800080; text-decoration-color: #800080; font-weight: bold\">IntegerPropertyFilter</span><span style=\"font-weight: bold\">(</span>\n",
       "<span style=\"color: #7fbf7f; text-decoration-color: #7fbf7f\">│   │   │   │   </span><span style=\"color: #808000; text-decoration-color: #808000\">property_name</span>=<span style=\"color: #008000; text-decoration-color: #008000\">'price'</span>,\n",
       "<span style=\"color: #7fbf7f; text-decoration-color: #7fbf7f\">│   │   │   │   </span><span style=\"color: #808000; text-decoration-color: #808000\">operator</span>=<span style=\"font-weight: bold\">&lt;</span><span style=\"color: #ff00ff; text-decoration-color: #ff00ff; font-weight: bold\">ComparisonOperator.LESS_EQUAL:</span><span style=\"color: #000000; text-decoration-color: #000000\"> </span><span style=\"color: #008000; text-decoration-color: #008000\">'&lt;='</span><span style=\"color: #000000; text-decoration-color: #000000\">&gt;,</span>\n",
       "<span style=\"color: #7fbf7f; text-decoration-color: #7fbf7f\">│   │   │   │   </span><span style=\"color: #808000; text-decoration-color: #808000\">value</span><span style=\"color: #000000; text-decoration-color: #000000\">=</span><span style=\"color: #008080; text-decoration-color: #008080; font-weight: bold\">150.0</span>\n",
       "<span style=\"color: #7fbf7f; text-decoration-color: #7fbf7f\">│   │   │   </span><span style=\"color: #000000; text-decoration-color: #000000; font-weight: bold\">)</span><span style=\"color: #000000; text-decoration-color: #000000\">,</span>\n",
       "<span style=\"color: #7fbf7f; text-decoration-color: #7fbf7f\">│   │   │   </span><span style=\"color: #808000; text-decoration-color: #808000\">collection</span><span style=\"color: #000000; text-decoration-color: #000000\">=</span><span style=\"color: #008000; text-decoration-color: #008000\">'Ecommerce'</span>\n",
       "<span style=\"color: #7fbf7f; text-decoration-color: #7fbf7f\">│   │   </span><span style=\"color: #000000; text-decoration-color: #000000; font-weight: bold\">)</span><span style=\"color: #000000; text-decoration-color: #000000\">,</span>\n",
       "<span style=\"color: #7fbf7f; text-decoration-color: #7fbf7f\">│   │   </span><span style=\"color: #800080; text-decoration-color: #800080; font-weight: bold\">QueryResultWithCollectionNormalized</span><span style=\"color: #000000; text-decoration-color: #000000; font-weight: bold\">(</span>\n",
       "<span style=\"color: #7fbf7f; text-decoration-color: #7fbf7f\">│   │   │   </span><span style=\"color: #808000; text-decoration-color: #808000\">query</span><span style=\"color: #000000; text-decoration-color: #000000\">=</span><span style=\"color: #008000; text-decoration-color: #008000\">'light coat'</span><span style=\"color: #000000; text-decoration-color: #000000\">,</span>\n",
       "<span style=\"color: #7fbf7f; text-decoration-color: #7fbf7f\">│   │   │   </span><span style=\"color: #808000; text-decoration-color: #808000\">filters</span><span style=\"color: #000000; text-decoration-color: #000000\">=</span><span style=\"color: #800080; text-decoration-color: #800080; font-weight: bold\">FilterAndOr</span><span style=\"color: #000000; text-decoration-color: #000000; font-weight: bold\">(</span>\n",
       "<span style=\"color: #7fbf7f; text-decoration-color: #7fbf7f\">│   │   │   │   </span><span style=\"color: #808000; text-decoration-color: #808000\">combine</span><span style=\"color: #000000; text-decoration-color: #000000\">=</span><span style=\"color: #008000; text-decoration-color: #008000\">'AND'</span><span style=\"color: #000000; text-decoration-color: #000000\">,</span>\n",
       "<span style=\"color: #7fbf7f; text-decoration-color: #7fbf7f\">│   │   │   │   </span><span style=\"color: #808000; text-decoration-color: #808000\">filters</span><span style=\"color: #000000; text-decoration-color: #000000\">=</span><span style=\"color: #000000; text-decoration-color: #000000; font-weight: bold\">[</span>\n",
       "<span style=\"color: #7fbf7f; text-decoration-color: #7fbf7f\">│   │   │   │   │   </span><span style=\"color: #800080; text-decoration-color: #800080; font-weight: bold\">IntegerPropertyFilter</span><span style=\"color: #000000; text-decoration-color: #000000; font-weight: bold\">(</span>\n",
       "<span style=\"color: #7fbf7f; text-decoration-color: #7fbf7f\">│   │   │   │   │   │   </span><span style=\"color: #808000; text-decoration-color: #808000\">property_name</span><span style=\"color: #000000; text-decoration-color: #000000\">=</span><span style=\"color: #008000; text-decoration-color: #008000\">'price'</span><span style=\"color: #000000; text-decoration-color: #000000\">,</span>\n",
       "<span style=\"color: #7fbf7f; text-decoration-color: #7fbf7f\">│   │   │   │   │   │   </span><span style=\"color: #808000; text-decoration-color: #808000\">operator</span><span style=\"color: #000000; text-decoration-color: #000000\">=&lt;ComparisonOperator.LESS_EQUAL: </span><span style=\"color: #008000; text-decoration-color: #008000\">'&lt;='</span><span style=\"color: #000000; text-decoration-color: #000000\">&gt;,</span>\n",
       "<span style=\"color: #7fbf7f; text-decoration-color: #7fbf7f\">│   │   │   │   │   │   </span><span style=\"color: #808000; text-decoration-color: #808000\">value</span><span style=\"color: #000000; text-decoration-color: #000000\">=</span><span style=\"color: #008080; text-decoration-color: #008080; font-weight: bold\">150.0</span>\n",
       "<span style=\"color: #7fbf7f; text-decoration-color: #7fbf7f\">│   │   │   │   │   </span><span style=\"color: #000000; text-decoration-color: #000000; font-weight: bold\">)</span><span style=\"color: #000000; text-decoration-color: #000000\">,</span>\n",
       "<span style=\"color: #7fbf7f; text-decoration-color: #7fbf7f\">│   │   │   │   │   </span><span style=\"color: #800080; text-decoration-color: #800080; font-weight: bold\">TextPropertyFilter</span><span style=\"color: #000000; text-decoration-color: #000000; font-weight: bold\">(</span>\n",
       "<span style=\"color: #7fbf7f; text-decoration-color: #7fbf7f\">│   │   │   │   │   │   </span><span style=\"color: #808000; text-decoration-color: #808000\">property_name</span><span style=\"color: #000000; text-decoration-color: #000000\">=</span><span style=\"color: #008000; text-decoration-color: #008000\">'subcategory'</span><span style=\"color: #000000; text-decoration-color: #000000\">,</span>\n",
       "<span style=\"color: #7fbf7f; text-decoration-color: #7fbf7f\">│   │   │   │   │   │   </span><span style=\"color: #808000; text-decoration-color: #808000\">operator</span><span style=\"color: #000000; text-decoration-color: #000000\">=&lt;ComparisonOperator.LIKE: </span><span style=\"color: #008000; text-decoration-color: #008000\">'LIKE'</span><span style=\"color: #000000; text-decoration-color: #000000\">&gt;,</span>\n",
       "<span style=\"color: #7fbf7f; text-decoration-color: #7fbf7f\">│   │   │   │   │   │   </span><span style=\"color: #808000; text-decoration-color: #808000\">value</span><span style=\"color: #000000; text-decoration-color: #000000\">=</span><span style=\"color: #008000; text-decoration-color: #008000\">'*coat*'</span>\n",
       "<span style=\"color: #7fbf7f; text-decoration-color: #7fbf7f\">│   │   │   │   │   </span><span style=\"color: #000000; text-decoration-color: #000000; font-weight: bold\">)</span>\n",
       "<span style=\"color: #7fbf7f; text-decoration-color: #7fbf7f\">│   │   │   │   </span><span style=\"color: #000000; text-decoration-color: #000000; font-weight: bold\">]</span>\n",
       "<span style=\"color: #7fbf7f; text-decoration-color: #7fbf7f\">│   │   │   </span><span style=\"color: #000000; text-decoration-color: #000000; font-weight: bold\">)</span><span style=\"color: #000000; text-decoration-color: #000000\">,</span>\n",
       "<span style=\"color: #7fbf7f; text-decoration-color: #7fbf7f\">│   │   │   </span><span style=\"color: #808000; text-decoration-color: #808000\">collection</span><span style=\"color: #000000; text-decoration-color: #000000\">=</span><span style=\"color: #008000; text-decoration-color: #008000\">'Ecommerce'</span>\n",
       "<span style=\"color: #7fbf7f; text-decoration-color: #7fbf7f\">│   │   </span><span style=\"color: #000000; text-decoration-color: #000000; font-weight: bold\">)</span><span style=\"color: #000000; text-decoration-color: #000000\">,</span>\n",
       "<span style=\"color: #7fbf7f; text-decoration-color: #7fbf7f\">│   │   </span><span style=\"color: #800080; text-decoration-color: #800080; font-weight: bold\">QueryResultWithCollectionNormalized</span><span style=\"color: #000000; text-decoration-color: #000000; font-weight: bold\">(</span>\n",
       "<span style=\"color: #7fbf7f; text-decoration-color: #7fbf7f\">│   │   │   </span><span style=\"color: #808000; text-decoration-color: #808000\">query</span><span style=\"color: #000000; text-decoration-color: #000000\">=</span><span style=\"color: #008000; text-decoration-color: #008000\">'fashion brands sponsorship opportunities'</span><span style=\"color: #000000; text-decoration-color: #000000\">,</span>\n",
       "<span style=\"color: #7fbf7f; text-decoration-color: #7fbf7f\">│   │   │   </span><span style=\"color: #808000; text-decoration-color: #808000\">filters</span><span style=\"color: #000000; text-decoration-color: #000000\">=</span><span style=\"color: #800080; text-decoration-color: #800080; font-weight: bold\">IntegerPropertyFilter</span><span style=\"color: #000000; text-decoration-color: #000000; font-weight: bold\">(</span>\n",
       "<span style=\"color: #7fbf7f; text-decoration-color: #7fbf7f\">│   │   │   │   </span><span style=\"color: #808000; text-decoration-color: #808000\">property_name</span><span style=\"color: #000000; text-decoration-color: #000000\">=</span><span style=\"color: #008000; text-decoration-color: #008000\">'foundation_year'</span><span style=\"color: #000000; text-decoration-color: #000000\">,</span>\n",
       "<span style=\"color: #7fbf7f; text-decoration-color: #7fbf7f\">│   │   │   │   </span><span style=\"color: #808000; text-decoration-color: #808000\">operator</span><span style=\"color: #000000; text-decoration-color: #000000\">=&lt;ComparisonOperator.GREATER_EQUAL: </span><span style=\"color: #008000; text-decoration-color: #008000\">'&gt;='</span><span style=\"color: #000000; text-decoration-color: #000000\">&gt;,</span>\n",
       "<span style=\"color: #7fbf7f; text-decoration-color: #7fbf7f\">│   │   │   │   </span><span style=\"color: #808000; text-decoration-color: #808000\">value</span><span style=\"color: #000000; text-decoration-color: #000000\">=</span><span style=\"color: #008080; text-decoration-color: #008080; font-weight: bold\">2020.0</span>\n",
       "<span style=\"color: #7fbf7f; text-decoration-color: #7fbf7f\">│   │   │   </span><span style=\"color: #000000; text-decoration-color: #000000; font-weight: bold\">)</span><span style=\"color: #000000; text-decoration-color: #000000\">,</span>\n",
       "<span style=\"color: #7fbf7f; text-decoration-color: #7fbf7f\">│   │   │   </span><span style=\"color: #808000; text-decoration-color: #808000\">collection</span><span style=\"color: #000000; text-decoration-color: #000000\">=</span><span style=\"color: #008000; text-decoration-color: #008000\">'Brands'</span>\n",
       "<span style=\"color: #7fbf7f; text-decoration-color: #7fbf7f\">│   │   </span><span style=\"color: #000000; text-decoration-color: #000000; font-weight: bold\">)</span>\n",
       "<span style=\"color: #7fbf7f; text-decoration-color: #7fbf7f\">│   </span><span style=\"color: #000000; text-decoration-color: #000000; font-weight: bold\">]</span><span style=\"color: #000000; text-decoration-color: #000000\">,</span>\n",
       "<span style=\"color: #7fbf7f; text-decoration-color: #7fbf7f\">│   </span><span style=\"color: #808000; text-decoration-color: #808000\">aggregations</span><span style=\"color: #000000; text-decoration-color: #000000\">=</span><span style=\"color: #000000; text-decoration-color: #000000; font-weight: bold\">[</span>\n",
       "<span style=\"color: #7fbf7f; text-decoration-color: #7fbf7f\">│   │   </span><span style=\"color: #800080; text-decoration-color: #800080; font-weight: bold\">AggregationResultWithCollectionNormalized</span><span style=\"color: #000000; text-decoration-color: #000000; font-weight: bold\">(</span>\n",
       "<span style=\"color: #7fbf7f; text-decoration-color: #7fbf7f\">│   │   │   </span><span style=\"color: #808000; text-decoration-color: #808000\">groupby_property</span><span style=\"color: #000000; text-decoration-color: #000000\">=</span><span style=\"color: #800080; text-decoration-color: #800080; font-style: italic\">None</span><span style=\"color: #000000; text-decoration-color: #000000\">,</span>\n",
       "<span style=\"color: #7fbf7f; text-decoration-color: #7fbf7f\">│   │   │   </span><span style=\"color: #808000; text-decoration-color: #808000\">aggregation</span><span style=\"color: #000000; text-decoration-color: #000000\">=</span><span style=\"color: #800080; text-decoration-color: #800080; font-weight: bold\">IntegerPropertyAggregation</span><span style=\"color: #000000; text-decoration-color: #000000; font-weight: bold\">(</span>\n",
       "<span style=\"color: #7fbf7f; text-decoration-color: #7fbf7f\">│   │   │   │   </span><span style=\"color: #808000; text-decoration-color: #808000\">property_name</span><span style=\"color: #000000; text-decoration-color: #000000\">=</span><span style=\"color: #008000; text-decoration-color: #008000\">'price'</span><span style=\"color: #000000; text-decoration-color: #000000\">,</span>\n",
       "<span style=\"color: #7fbf7f; text-decoration-color: #7fbf7f\">│   │   │   │   </span><span style=\"color: #808000; text-decoration-color: #808000\">metrics</span><span style=\"color: #000000; text-decoration-color: #000000\">=&lt;NumericMetrics.COUNT: </span><span style=\"color: #008000; text-decoration-color: #008000\">'COUNT'</span><span style=\"color: #000000; text-decoration-color: #000000\">&gt;</span>\n",
       "<span style=\"color: #7fbf7f; text-decoration-color: #7fbf7f\">│   │   │   </span><span style=\"color: #000000; text-decoration-color: #000000; font-weight: bold\">)</span><span style=\"color: #000000; text-decoration-color: #000000\">,</span>\n",
       "<span style=\"color: #7fbf7f; text-decoration-color: #7fbf7f\">│   │   │   </span><span style=\"color: #808000; text-decoration-color: #808000\">filters</span><span style=\"color: #000000; text-decoration-color: #000000\">=</span><span style=\"color: #800080; text-decoration-color: #800080; font-weight: bold\">FilterAndOr</span><span style=\"color: #000000; text-decoration-color: #000000; font-weight: bold\">(</span>\n",
       "<span style=\"color: #7fbf7f; text-decoration-color: #7fbf7f\">│   │   │   │   </span><span style=\"color: #808000; text-decoration-color: #808000\">combine</span><span style=\"color: #000000; text-decoration-color: #000000\">=</span><span style=\"color: #008000; text-decoration-color: #008000\">'AND'</span><span style=\"color: #000000; text-decoration-color: #000000\">,</span>\n",
       "<span style=\"color: #7fbf7f; text-decoration-color: #7fbf7f\">│   │   │   │   </span><span style=\"color: #808000; text-decoration-color: #808000\">filters</span><span style=\"color: #000000; text-decoration-color: #000000\">=</span><span style=\"color: #000000; text-decoration-color: #000000; font-weight: bold\">[</span>\n",
       "<span style=\"color: #7fbf7f; text-decoration-color: #7fbf7f\">│   │   │   │   │   </span><span style=\"color: #800080; text-decoration-color: #800080; font-weight: bold\">TextPropertyFilter</span><span style=\"color: #000000; text-decoration-color: #000000; font-weight: bold\">(</span>\n",
       "<span style=\"color: #7fbf7f; text-decoration-color: #7fbf7f\">│   │   │   │   │   │   </span><span style=\"color: #808000; text-decoration-color: #808000\">property_name</span><span style=\"color: #000000; text-decoration-color: #000000\">=</span><span style=\"color: #008000; text-decoration-color: #008000\">'name'</span><span style=\"color: #000000; text-decoration-color: #000000\">,</span>\n",
       "<span style=\"color: #7fbf7f; text-decoration-color: #7fbf7f\">│   │   │   │   │   │   </span><span style=\"color: #808000; text-decoration-color: #808000\">operator</span><span style=\"color: #000000; text-decoration-color: #000000\">=&lt;ComparisonOperator.LIKE: </span><span style=\"color: #008000; text-decoration-color: #008000\">'LIKE'</span><span style=\"color: #000000; text-decoration-color: #000000\">&gt;,</span>\n",
       "<span style=\"color: #7fbf7f; text-decoration-color: #7fbf7f\">│   │   │   │   │   │   </span><span style=\"color: #808000; text-decoration-color: #808000\">value</span><span style=\"color: #000000; text-decoration-color: #000000\">=</span><span style=\"color: #008000; text-decoration-color: #008000\">'*jean jacket*'</span>\n",
       "<span style=\"color: #7fbf7f; text-decoration-color: #7fbf7f\">│   │   │   │   │   </span><span style=\"color: #000000; text-decoration-color: #000000; font-weight: bold\">)</span><span style=\"color: #000000; text-decoration-color: #000000\">,</span>\n",
       "<span style=\"color: #7fbf7f; text-decoration-color: #7fbf7f\">│   │   │   │   │   </span><span style=\"color: #800080; text-decoration-color: #800080; font-weight: bold\">IntegerPropertyFilter</span><span style=\"color: #000000; text-decoration-color: #000000; font-weight: bold\">(</span>\n",
       "<span style=\"color: #7fbf7f; text-decoration-color: #7fbf7f\">│   │   │   │   │   │   </span><span style=\"color: #808000; text-decoration-color: #808000\">property_name</span><span style=\"color: #000000; text-decoration-color: #000000\">=</span><span style=\"color: #008000; text-decoration-color: #008000\">'price'</span><span style=\"color: #000000; text-decoration-color: #000000\">,</span>\n",
       "<span style=\"color: #7fbf7f; text-decoration-color: #7fbf7f\">│   │   │   │   │   │   </span><span style=\"color: #808000; text-decoration-color: #808000\">operator</span><span style=\"color: #000000; text-decoration-color: #000000\">=&lt;ComparisonOperator.LESS_EQUAL: </span><span style=\"color: #008000; text-decoration-color: #008000\">'&lt;='</span><span style=\"color: #000000; text-decoration-color: #000000\">&gt;,</span>\n",
       "<span style=\"color: #7fbf7f; text-decoration-color: #7fbf7f\">│   │   │   │   │   │   </span><span style=\"color: #808000; text-decoration-color: #808000\">value</span><span style=\"color: #000000; text-decoration-color: #000000\">=</span><span style=\"color: #008080; text-decoration-color: #008080; font-weight: bold\">150.0</span>\n",
       "<span style=\"color: #7fbf7f; text-decoration-color: #7fbf7f\">│   │   │   │   │   </span><span style=\"color: #000000; text-decoration-color: #000000; font-weight: bold\">)</span>\n",
       "<span style=\"color: #7fbf7f; text-decoration-color: #7fbf7f\">│   │   │   │   </span><span style=\"color: #000000; text-decoration-color: #000000; font-weight: bold\">]</span>\n",
       "<span style=\"color: #7fbf7f; text-decoration-color: #7fbf7f\">│   │   │   </span><span style=\"color: #000000; text-decoration-color: #000000; font-weight: bold\">)</span><span style=\"color: #000000; text-decoration-color: #000000\">,</span>\n",
       "<span style=\"color: #7fbf7f; text-decoration-color: #7fbf7f\">│   │   │   </span><span style=\"color: #808000; text-decoration-color: #808000\">collection</span><span style=\"color: #000000; text-decoration-color: #000000\">=</span><span style=\"color: #008000; text-decoration-color: #008000\">'Ecommerce'</span>\n",
       "<span style=\"color: #7fbf7f; text-decoration-color: #7fbf7f\">│   │   </span><span style=\"color: #000000; text-decoration-color: #000000; font-weight: bold\">)</span><span style=\"color: #000000; text-decoration-color: #000000\">,</span>\n",
       "<span style=\"color: #7fbf7f; text-decoration-color: #7fbf7f\">│   │   </span><span style=\"color: #800080; text-decoration-color: #800080; font-weight: bold\">AggregationResultWithCollectionNormalized</span><span style=\"color: #000000; text-decoration-color: #000000; font-weight: bold\">(</span>\n",
       "<span style=\"color: #7fbf7f; text-decoration-color: #7fbf7f\">│   │   │   </span><span style=\"color: #808000; text-decoration-color: #808000\">groupby_property</span><span style=\"color: #000000; text-decoration-color: #000000\">=</span><span style=\"color: #800080; text-decoration-color: #800080; font-style: italic\">None</span><span style=\"color: #000000; text-decoration-color: #000000\">,</span>\n",
       "<span style=\"color: #7fbf7f; text-decoration-color: #7fbf7f\">│   │   │   </span><span style=\"color: #808000; text-decoration-color: #808000\">aggregation</span><span style=\"color: #000000; text-decoration-color: #000000\">=</span><span style=\"color: #800080; text-decoration-color: #800080; font-weight: bold\">TextPropertyAggregation</span><span style=\"color: #000000; text-decoration-color: #000000; font-weight: bold\">(</span>\n",
       "<span style=\"color: #7fbf7f; text-decoration-color: #7fbf7f\">│   │   │   │   </span><span style=\"color: #808000; text-decoration-color: #808000\">property_name</span><span style=\"color: #000000; text-decoration-color: #000000\">=</span><span style=\"color: #008000; text-decoration-color: #008000\">'name'</span><span style=\"color: #000000; text-decoration-color: #000000\">,</span>\n",
       "<span style=\"color: #7fbf7f; text-decoration-color: #7fbf7f\">│   │   │   │   </span><span style=\"color: #808000; text-decoration-color: #808000\">metrics</span><span style=\"color: #000000; text-decoration-color: #000000\">=&lt;TextMetrics.COUNT: </span><span style=\"color: #008000; text-decoration-color: #008000\">'COUNT'</span><span style=\"color: #000000; text-decoration-color: #000000\">&gt;,</span>\n",
       "<span style=\"color: #7fbf7f; text-decoration-color: #7fbf7f\">│   │   │   │   </span><span style=\"color: #808000; text-decoration-color: #808000\">top_occurrences_limit</span><span style=\"color: #000000; text-decoration-color: #000000\">=</span><span style=\"color: #800080; text-decoration-color: #800080; font-style: italic\">None</span>\n",
       "<span style=\"color: #7fbf7f; text-decoration-color: #7fbf7f\">│   │   │   </span><span style=\"color: #000000; text-decoration-color: #000000; font-weight: bold\">)</span><span style=\"color: #000000; text-decoration-color: #000000\">,</span>\n",
       "<span style=\"color: #7fbf7f; text-decoration-color: #7fbf7f\">│   │   │   </span><span style=\"color: #808000; text-decoration-color: #808000\">filters</span><span style=\"color: #000000; text-decoration-color: #000000\">=</span><span style=\"color: #800080; text-decoration-color: #800080; font-weight: bold\">FilterAndOr</span><span style=\"color: #000000; text-decoration-color: #000000; font-weight: bold\">(</span>\n",
       "<span style=\"color: #7fbf7f; text-decoration-color: #7fbf7f\">│   │   │   │   </span><span style=\"color: #808000; text-decoration-color: #808000\">combine</span><span style=\"color: #000000; text-decoration-color: #000000\">=</span><span style=\"color: #008000; text-decoration-color: #008000\">'AND'</span><span style=\"color: #000000; text-decoration-color: #000000\">,</span>\n",
       "<span style=\"color: #7fbf7f; text-decoration-color: #7fbf7f\">│   │   │   │   </span><span style=\"color: #808000; text-decoration-color: #808000\">filters</span><span style=\"color: #000000; text-decoration-color: #000000\">=</span><span style=\"color: #000000; text-decoration-color: #000000; font-weight: bold\">[</span>\n",
       "<span style=\"color: #7fbf7f; text-decoration-color: #7fbf7f\">│   │   │   │   │   </span><span style=\"color: #800080; text-decoration-color: #800080; font-weight: bold\">TextPropertyFilter</span><span style=\"color: #000000; text-decoration-color: #000000; font-weight: bold\">(</span>\n",
       "<span style=\"color: #7fbf7f; text-decoration-color: #7fbf7f\">│   │   │   │   │   │   </span><span style=\"color: #808000; text-decoration-color: #808000\">property_name</span><span style=\"color: #000000; text-decoration-color: #000000\">=</span><span style=\"color: #008000; text-decoration-color: #008000\">'subcategory'</span><span style=\"color: #000000; text-decoration-color: #000000\">,</span>\n",
       "<span style=\"color: #7fbf7f; text-decoration-color: #7fbf7f\">│   │   │   │   │   │   </span><span style=\"color: #808000; text-decoration-color: #808000\">operator</span><span style=\"color: #000000; text-decoration-color: #000000\">=&lt;ComparisonOperator.LIKE: </span><span style=\"color: #008000; text-decoration-color: #008000\">'LIKE'</span><span style=\"color: #000000; text-decoration-color: #000000\">&gt;,</span>\n",
       "<span style=\"color: #7fbf7f; text-decoration-color: #7fbf7f\">│   │   │   │   │   │   </span><span style=\"color: #808000; text-decoration-color: #808000\">value</span><span style=\"color: #000000; text-decoration-color: #000000\">=</span><span style=\"color: #008000; text-decoration-color: #008000\">'*coat*'</span>\n",
       "<span style=\"color: #7fbf7f; text-decoration-color: #7fbf7f\">│   │   │   │   │   </span><span style=\"color: #000000; text-decoration-color: #000000; font-weight: bold\">)</span><span style=\"color: #000000; text-decoration-color: #000000\">,</span>\n",
       "<span style=\"color: #7fbf7f; text-decoration-color: #7fbf7f\">│   │   │   │   │   </span><span style=\"color: #800080; text-decoration-color: #800080; font-weight: bold\">IntegerPropertyFilter</span><span style=\"color: #000000; text-decoration-color: #000000; font-weight: bold\">(</span>\n",
       "<span style=\"color: #7fbf7f; text-decoration-color: #7fbf7f\">│   │   │   │   │   │   </span><span style=\"color: #808000; text-decoration-color: #808000\">property_name</span><span style=\"color: #000000; text-decoration-color: #000000\">=</span><span style=\"color: #008000; text-decoration-color: #008000\">'price'</span><span style=\"color: #000000; text-decoration-color: #000000\">,</span>\n",
       "<span style=\"color: #7fbf7f; text-decoration-color: #7fbf7f\">│   │   │   │   │   │   </span><span style=\"color: #808000; text-decoration-color: #808000\">operator</span><span style=\"color: #000000; text-decoration-color: #000000\">=&lt;ComparisonOperator.LESS_EQUAL: </span><span style=\"color: #008000; text-decoration-color: #008000\">'&lt;='</span><span style=\"color: #000000; text-decoration-color: #000000\">&gt;,</span>\n",
       "<span style=\"color: #7fbf7f; text-decoration-color: #7fbf7f\">│   │   │   │   │   │   </span><span style=\"color: #808000; text-decoration-color: #808000\">value</span><span style=\"color: #000000; text-decoration-color: #000000\">=</span><span style=\"color: #008080; text-decoration-color: #008080; font-weight: bold\">150.0</span>\n",
       "<span style=\"color: #7fbf7f; text-decoration-color: #7fbf7f\">│   │   │   │   │   </span><span style=\"color: #000000; text-decoration-color: #000000; font-weight: bold\">)</span><span style=\"color: #000000; text-decoration-color: #000000\">,</span>\n",
       "<span style=\"color: #7fbf7f; text-decoration-color: #7fbf7f\">│   │   │   │   │   </span><span style=\"color: #800080; text-decoration-color: #800080; font-weight: bold\">TextPropertyFilter</span><span style=\"color: #000000; text-decoration-color: #000000; font-weight: bold\">(</span>\n",
       "<span style=\"color: #7fbf7f; text-decoration-color: #7fbf7f\">│   │   │   │   │   │   </span><span style=\"color: #808000; text-decoration-color: #808000\">property_name</span><span style=\"color: #000000; text-decoration-color: #000000\">=</span><span style=\"color: #008000; text-decoration-color: #008000\">'colors'</span><span style=\"color: #000000; text-decoration-color: #000000\">,</span>\n",
       "<span style=\"color: #7fbf7f; text-decoration-color: #7fbf7f\">│   │   │   │   │   │   </span><span style=\"color: #808000; text-decoration-color: #808000\">operator</span><span style=\"color: #000000; text-decoration-color: #000000\">=&lt;ComparisonOperator.LIKE: </span><span style=\"color: #008000; text-decoration-color: #008000\">'LIKE'</span><span style=\"font-weight: bold\">&gt;</span>,\n",
       "<span style=\"color: #7fbf7f; text-decoration-color: #7fbf7f\">│   │   │   │   │   │   </span><span style=\"color: #808000; text-decoration-color: #808000\">value</span>=<span style=\"color: #008000; text-decoration-color: #008000\">'*light*'</span>\n",
       "<span style=\"color: #7fbf7f; text-decoration-color: #7fbf7f\">│   │   │   │   │   </span><span style=\"font-weight: bold\">)</span>\n",
       "<span style=\"color: #7fbf7f; text-decoration-color: #7fbf7f\">│   │   │   │   </span><span style=\"font-weight: bold\">]</span>\n",
       "<span style=\"color: #7fbf7f; text-decoration-color: #7fbf7f\">│   │   │   </span><span style=\"font-weight: bold\">)</span>,\n",
       "<span style=\"color: #7fbf7f; text-decoration-color: #7fbf7f\">│   │   │   </span><span style=\"color: #808000; text-decoration-color: #808000\">collection</span>=<span style=\"color: #008000; text-decoration-color: #008000\">'Ecommerce'</span>\n",
       "<span style=\"color: #7fbf7f; text-decoration-color: #7fbf7f\">│   │   </span><span style=\"font-weight: bold\">)</span>\n",
       "<span style=\"color: #7fbf7f; text-decoration-color: #7fbf7f\">│   </span><span style=\"font-weight: bold\">]</span>,\n",
       "<span style=\"color: #7fbf7f; text-decoration-color: #7fbf7f\">│   </span><span style=\"color: #808000; text-decoration-color: #808000\">usage</span>=<span style=\"color: #800080; text-decoration-color: #800080; font-weight: bold\">ModelUnitUsage</span><span style=\"font-weight: bold\">(</span><span style=\"color: #808000; text-decoration-color: #808000\">model_units</span>=<span style=\"color: #008080; text-decoration-color: #008080; font-weight: bold\">576</span>, <span style=\"color: #808000; text-decoration-color: #808000\">usage_in_plan</span>=<span style=\"color: #00ff00; text-decoration-color: #00ff00; font-style: italic\">True</span>, <span style=\"color: #808000; text-decoration-color: #808000\">remaining_plan_requests</span>=<span style=\"color: #008080; text-decoration-color: #008080; font-weight: bold\">818</span><span style=\"font-weight: bold\">)</span>,\n",
       "<span style=\"color: #7fbf7f; text-decoration-color: #7fbf7f\">│   </span><span style=\"color: #808000; text-decoration-color: #808000\">total_time</span>=<span style=\"color: #008080; text-decoration-color: #008080; font-weight: bold\">13.767515420913696</span>,\n",
       "<span style=\"color: #7fbf7f; text-decoration-color: #7fbf7f\">│   </span><span style=\"color: #808000; text-decoration-color: #808000\">is_partial_answer</span>=<span style=\"color: #ff0000; text-decoration-color: #ff0000; font-style: italic\">False</span>,\n",
       "<span style=\"color: #7fbf7f; text-decoration-color: #7fbf7f\">│   </span><span style=\"color: #808000; text-decoration-color: #808000\">missing_information</span>=<span style=\"font-weight: bold\">[]</span>,\n",
       "<span style=\"color: #7fbf7f; text-decoration-color: #7fbf7f\">│   </span><span style=\"color: #808000; text-decoration-color: #808000\">final_answer</span>=<span style=\"color: #008000; text-decoration-color: #008000\">'For a trendy yet timeless jean jacket or light coat priced at or below $150, here are some stylish options from relatively new and quality-conscious brands:\\n\\n1. Garden Dusk Linen Jacket by Loom &amp; Aura ($90)  \\n- A soft linen jacket in a subtle lavender color, tailored for comfort with thoughtful detailing.  \\n- It brings both charm and durability, suitable for various occasions—from casual outdoor and indoor settings.  \\n- Loom &amp; Aura is associated with Loom Legacy (founded in 2020 in France), a brand known for timeless elegance and quality craftsmanship.\\n\\n2. Elysian Quill Coat by Loom &amp; Aura ($150)  \\n- A light coat with a refined silhouette and intricate button details inspired by vintage intellectual style, perfect for stylish yet classic looks.  \\n- Available in white or grey with positive reviews for quality and timeless appeal.\\n\\n3. Ivory Parchment Trench by Canvas &amp; Co. ($150)  \\n- An elegant ivory trench coat inspired by classical art with tailored lines and decorative buttons.  \\n- Ideal for sophisticated outdoor gatherings, blending both fashion and longevity.\\n\\nRegarding new brands with potential for social media sponsorships, consider the following relatively new companies established around 2020-2021 known for innovative and contemporary style:  \\n- Prism Prowess (Spain, 2021)  \\n- Loom Legacy (France, 2020) – Parent brand of Loom &amp; Aura  \\n- Hush Horizon (Japan, 2020)  \\n\\nChoosing items from Loom &amp; Aura or its parent Loom Legacy could align well with your desire for timeless style, quality, and sponsorship potential since they are newer brands with a heritage of craftsmanship. The Garden Dusk Linen Jacket or Elysian Quill Coat are solid picks under $150 that are both stylish and durable.\\n\\nIf interested, you might want to reach out to these brands directly to explore sponsorship opportunities linked to your social media presence.'</span>,\n",
       "<span style=\"color: #7fbf7f; text-decoration-color: #7fbf7f\">│   </span><span style=\"color: #808000; text-decoration-color: #808000\">sources</span>=<span style=\"font-weight: bold\">[</span>\n",
       "<span style=\"color: #7fbf7f; text-decoration-color: #7fbf7f\">│   │   </span><span style=\"color: #800080; text-decoration-color: #800080; font-weight: bold\">Source</span><span style=\"font-weight: bold\">(</span><span style=\"color: #808000; text-decoration-color: #808000\">object_id</span>=<span style=\"color: #008000; text-decoration-color: #008000\">'f2344249-72a9-4d42-b230-91bf4bb1fd5a'</span>, <span style=\"color: #808000; text-decoration-color: #808000\">collection</span>=<span style=\"color: #008000; text-decoration-color: #008000\">'Ecommerce'</span><span style=\"font-weight: bold\">)</span>,\n",
       "<span style=\"color: #7fbf7f; text-decoration-color: #7fbf7f\">│   │   </span><span style=\"color: #800080; text-decoration-color: #800080; font-weight: bold\">Source</span><span style=\"font-weight: bold\">(</span><span style=\"color: #808000; text-decoration-color: #808000\">object_id</span>=<span style=\"color: #008000; text-decoration-color: #008000\">'49b8af79-786c-42bc-bcbb-a1b32e33b1be'</span>, <span style=\"color: #808000; text-decoration-color: #808000\">collection</span>=<span style=\"color: #008000; text-decoration-color: #008000\">'Ecommerce'</span><span style=\"font-weight: bold\">)</span>,\n",
       "<span style=\"color: #7fbf7f; text-decoration-color: #7fbf7f\">│   │   </span><span style=\"color: #800080; text-decoration-color: #800080; font-weight: bold\">Source</span><span style=\"font-weight: bold\">(</span><span style=\"color: #808000; text-decoration-color: #808000\">object_id</span>=<span style=\"color: #008000; text-decoration-color: #008000\">'1bcd602b-18d7-4ce1-88fa-2e82b9362da2'</span>, <span style=\"color: #808000; text-decoration-color: #808000\">collection</span>=<span style=\"color: #008000; text-decoration-color: #008000\">'Ecommerce'</span><span style=\"font-weight: bold\">)</span>,\n",
       "<span style=\"color: #7fbf7f; text-decoration-color: #7fbf7f\">│   │   </span><span style=\"color: #800080; text-decoration-color: #800080; font-weight: bold\">Source</span><span style=\"font-weight: bold\">(</span><span style=\"color: #808000; text-decoration-color: #808000\">object_id</span>=<span style=\"color: #008000; text-decoration-color: #008000\">'5c57eb72-e9c5-4ff2-b781-8835963200f1'</span>, <span style=\"color: #808000; text-decoration-color: #808000\">collection</span>=<span style=\"color: #008000; text-decoration-color: #008000\">'Brands'</span><span style=\"font-weight: bold\">)</span>,\n",
       "<span style=\"color: #7fbf7f; text-decoration-color: #7fbf7f\">│   │   </span><span style=\"color: #800080; text-decoration-color: #800080; font-weight: bold\">Source</span><span style=\"font-weight: bold\">(</span><span style=\"color: #808000; text-decoration-color: #808000\">object_id</span>=<span style=\"color: #008000; text-decoration-color: #008000\">'1004d936-2873-4f1b-b1c2-74b0a81ddd38'</span>, <span style=\"color: #808000; text-decoration-color: #808000\">collection</span>=<span style=\"color: #008000; text-decoration-color: #008000\">'Brands'</span><span style=\"font-weight: bold\">)</span>,\n",
       "<span style=\"color: #7fbf7f; text-decoration-color: #7fbf7f\">│   │   </span><span style=\"color: #800080; text-decoration-color: #800080; font-weight: bold\">Source</span><span style=\"font-weight: bold\">(</span><span style=\"color: #808000; text-decoration-color: #808000\">object_id</span>=<span style=\"color: #008000; text-decoration-color: #008000\">'349dcddd-93af-4594-88cf-931b1ca9322d'</span>, <span style=\"color: #808000; text-decoration-color: #808000\">collection</span>=<span style=\"color: #008000; text-decoration-color: #008000\">'Brands'</span><span style=\"font-weight: bold\">)</span>\n",
       "<span style=\"color: #7fbf7f; text-decoration-color: #7fbf7f\">│   </span><span style=\"font-weight: bold\">]</span>\n",
       "<span style=\"font-weight: bold\">)</span>\n",
       "</pre>\n"
      ],
      "text/plain": [
       "\u001b[1;35mAskModeResponse\u001b[0m\u001b[1m(\u001b[0m\n",
       "\u001b[2;32m│   \u001b[0m\u001b[33moutput_type\u001b[0m=\u001b[32m'final_state'\u001b[0m,\n",
       "\u001b[2;32m│   \u001b[0m\u001b[33msearches\u001b[0m=\u001b[1m[\u001b[0m\n",
       "\u001b[2;32m│   │   \u001b[0m\u001b[1;35mQueryResultWithCollectionNormalized\u001b[0m\u001b[1m(\u001b[0m\n",
       "\u001b[2;32m│   │   │   \u001b[0m\u001b[33mquery\u001b[0m=\u001b[32m'jean jacket'\u001b[0m,\n",
       "\u001b[2;32m│   │   │   \u001b[0m\u001b[33mfilters\u001b[0m=\u001b[1;35mIntegerPropertyFilter\u001b[0m\u001b[1m(\u001b[0m\n",
       "\u001b[2;32m│   │   │   │   \u001b[0m\u001b[33mproperty_name\u001b[0m=\u001b[32m'price'\u001b[0m,\n",
       "\u001b[2;32m│   │   │   │   \u001b[0m\u001b[33moperator\u001b[0m=\u001b[1m<\u001b[0m\u001b[1;95mComparisonOperator.LESS_EQUAL:\u001b[0m\u001b[39m \u001b[0m\u001b[32m'<='\u001b[0m\u001b[39m>,\u001b[0m\n",
       "\u001b[2;32m│   │   │   │   \u001b[0m\u001b[33mvalue\u001b[0m\u001b[39m=\u001b[0m\u001b[1;36m150\u001b[0m\u001b[1;36m.0\u001b[0m\n",
       "\u001b[2;32m│   │   │   \u001b[0m\u001b[1;39m)\u001b[0m\u001b[39m,\u001b[0m\n",
       "\u001b[2;32m│   │   │   \u001b[0m\u001b[33mcollection\u001b[0m\u001b[39m=\u001b[0m\u001b[32m'Ecommerce'\u001b[0m\n",
       "\u001b[2;32m│   │   \u001b[0m\u001b[1;39m)\u001b[0m\u001b[39m,\u001b[0m\n",
       "\u001b[2;32m│   │   \u001b[0m\u001b[1;35mQueryResultWithCollectionNormalized\u001b[0m\u001b[1;39m(\u001b[0m\n",
       "\u001b[2;32m│   │   │   \u001b[0m\u001b[33mquery\u001b[0m\u001b[39m=\u001b[0m\u001b[32m'light coat'\u001b[0m\u001b[39m,\u001b[0m\n",
       "\u001b[2;32m│   │   │   \u001b[0m\u001b[33mfilters\u001b[0m\u001b[39m=\u001b[0m\u001b[1;35mFilterAndOr\u001b[0m\u001b[1;39m(\u001b[0m\n",
       "\u001b[2;32m│   │   │   │   \u001b[0m\u001b[33mcombine\u001b[0m\u001b[39m=\u001b[0m\u001b[32m'AND'\u001b[0m\u001b[39m,\u001b[0m\n",
       "\u001b[2;32m│   │   │   │   \u001b[0m\u001b[33mfilters\u001b[0m\u001b[39m=\u001b[0m\u001b[1;39m[\u001b[0m\n",
       "\u001b[2;32m│   │   │   │   │   \u001b[0m\u001b[1;35mIntegerPropertyFilter\u001b[0m\u001b[1;39m(\u001b[0m\n",
       "\u001b[2;32m│   │   │   │   │   │   \u001b[0m\u001b[33mproperty_name\u001b[0m\u001b[39m=\u001b[0m\u001b[32m'price'\u001b[0m\u001b[39m,\u001b[0m\n",
       "\u001b[2;32m│   │   │   │   │   │   \u001b[0m\u001b[33moperator\u001b[0m\u001b[39m=<ComparisonOperator.LESS_EQUAL: \u001b[0m\u001b[32m'<='\u001b[0m\u001b[39m>,\u001b[0m\n",
       "\u001b[2;32m│   │   │   │   │   │   \u001b[0m\u001b[33mvalue\u001b[0m\u001b[39m=\u001b[0m\u001b[1;36m150\u001b[0m\u001b[1;36m.0\u001b[0m\n",
       "\u001b[2;32m│   │   │   │   │   \u001b[0m\u001b[1;39m)\u001b[0m\u001b[39m,\u001b[0m\n",
       "\u001b[2;32m│   │   │   │   │   \u001b[0m\u001b[1;35mTextPropertyFilter\u001b[0m\u001b[1;39m(\u001b[0m\n",
       "\u001b[2;32m│   │   │   │   │   │   \u001b[0m\u001b[33mproperty_name\u001b[0m\u001b[39m=\u001b[0m\u001b[32m'subcategory'\u001b[0m\u001b[39m,\u001b[0m\n",
       "\u001b[2;32m│   │   │   │   │   │   \u001b[0m\u001b[33moperator\u001b[0m\u001b[39m=<ComparisonOperator.LIKE: \u001b[0m\u001b[32m'LIKE'\u001b[0m\u001b[39m>,\u001b[0m\n",
       "\u001b[2;32m│   │   │   │   │   │   \u001b[0m\u001b[33mvalue\u001b[0m\u001b[39m=\u001b[0m\u001b[32m'*coat*'\u001b[0m\n",
       "\u001b[2;32m│   │   │   │   │   \u001b[0m\u001b[1;39m)\u001b[0m\n",
       "\u001b[2;32m│   │   │   │   \u001b[0m\u001b[1;39m]\u001b[0m\n",
       "\u001b[2;32m│   │   │   \u001b[0m\u001b[1;39m)\u001b[0m\u001b[39m,\u001b[0m\n",
       "\u001b[2;32m│   │   │   \u001b[0m\u001b[33mcollection\u001b[0m\u001b[39m=\u001b[0m\u001b[32m'Ecommerce'\u001b[0m\n",
       "\u001b[2;32m│   │   \u001b[0m\u001b[1;39m)\u001b[0m\u001b[39m,\u001b[0m\n",
       "\u001b[2;32m│   │   \u001b[0m\u001b[1;35mQueryResultWithCollectionNormalized\u001b[0m\u001b[1;39m(\u001b[0m\n",
       "\u001b[2;32m│   │   │   \u001b[0m\u001b[33mquery\u001b[0m\u001b[39m=\u001b[0m\u001b[32m'fashion brands sponsorship opportunities'\u001b[0m\u001b[39m,\u001b[0m\n",
       "\u001b[2;32m│   │   │   \u001b[0m\u001b[33mfilters\u001b[0m\u001b[39m=\u001b[0m\u001b[1;35mIntegerPropertyFilter\u001b[0m\u001b[1;39m(\u001b[0m\n",
       "\u001b[2;32m│   │   │   │   \u001b[0m\u001b[33mproperty_name\u001b[0m\u001b[39m=\u001b[0m\u001b[32m'foundation_year'\u001b[0m\u001b[39m,\u001b[0m\n",
       "\u001b[2;32m│   │   │   │   \u001b[0m\u001b[33moperator\u001b[0m\u001b[39m=<ComparisonOperator.GREATER_EQUAL: \u001b[0m\u001b[32m'>='\u001b[0m\u001b[39m>,\u001b[0m\n",
       "\u001b[2;32m│   │   │   │   \u001b[0m\u001b[33mvalue\u001b[0m\u001b[39m=\u001b[0m\u001b[1;36m2020\u001b[0m\u001b[1;36m.0\u001b[0m\n",
       "\u001b[2;32m│   │   │   \u001b[0m\u001b[1;39m)\u001b[0m\u001b[39m,\u001b[0m\n",
       "\u001b[2;32m│   │   │   \u001b[0m\u001b[33mcollection\u001b[0m\u001b[39m=\u001b[0m\u001b[32m'Brands'\u001b[0m\n",
       "\u001b[2;32m│   │   \u001b[0m\u001b[1;39m)\u001b[0m\n",
       "\u001b[2;32m│   \u001b[0m\u001b[1;39m]\u001b[0m\u001b[39m,\u001b[0m\n",
       "\u001b[2;32m│   \u001b[0m\u001b[33maggregations\u001b[0m\u001b[39m=\u001b[0m\u001b[1;39m[\u001b[0m\n",
       "\u001b[2;32m│   │   \u001b[0m\u001b[1;35mAggregationResultWithCollectionNormalized\u001b[0m\u001b[1;39m(\u001b[0m\n",
       "\u001b[2;32m│   │   │   \u001b[0m\u001b[33mgroupby_property\u001b[0m\u001b[39m=\u001b[0m\u001b[3;35mNone\u001b[0m\u001b[39m,\u001b[0m\n",
       "\u001b[2;32m│   │   │   \u001b[0m\u001b[33maggregation\u001b[0m\u001b[39m=\u001b[0m\u001b[1;35mIntegerPropertyAggregation\u001b[0m\u001b[1;39m(\u001b[0m\n",
       "\u001b[2;32m│   │   │   │   \u001b[0m\u001b[33mproperty_name\u001b[0m\u001b[39m=\u001b[0m\u001b[32m'price'\u001b[0m\u001b[39m,\u001b[0m\n",
       "\u001b[2;32m│   │   │   │   \u001b[0m\u001b[33mmetrics\u001b[0m\u001b[39m=<NumericMetrics.COUNT: \u001b[0m\u001b[32m'COUNT'\u001b[0m\u001b[39m>\u001b[0m\n",
       "\u001b[2;32m│   │   │   \u001b[0m\u001b[1;39m)\u001b[0m\u001b[39m,\u001b[0m\n",
       "\u001b[2;32m│   │   │   \u001b[0m\u001b[33mfilters\u001b[0m\u001b[39m=\u001b[0m\u001b[1;35mFilterAndOr\u001b[0m\u001b[1;39m(\u001b[0m\n",
       "\u001b[2;32m│   │   │   │   \u001b[0m\u001b[33mcombine\u001b[0m\u001b[39m=\u001b[0m\u001b[32m'AND'\u001b[0m\u001b[39m,\u001b[0m\n",
       "\u001b[2;32m│   │   │   │   \u001b[0m\u001b[33mfilters\u001b[0m\u001b[39m=\u001b[0m\u001b[1;39m[\u001b[0m\n",
       "\u001b[2;32m│   │   │   │   │   \u001b[0m\u001b[1;35mTextPropertyFilter\u001b[0m\u001b[1;39m(\u001b[0m\n",
       "\u001b[2;32m│   │   │   │   │   │   \u001b[0m\u001b[33mproperty_name\u001b[0m\u001b[39m=\u001b[0m\u001b[32m'name'\u001b[0m\u001b[39m,\u001b[0m\n",
       "\u001b[2;32m│   │   │   │   │   │   \u001b[0m\u001b[33moperator\u001b[0m\u001b[39m=<ComparisonOperator.LIKE: \u001b[0m\u001b[32m'LIKE'\u001b[0m\u001b[39m>,\u001b[0m\n",
       "\u001b[2;32m│   │   │   │   │   │   \u001b[0m\u001b[33mvalue\u001b[0m\u001b[39m=\u001b[0m\u001b[32m'*jean jacket*'\u001b[0m\n",
       "\u001b[2;32m│   │   │   │   │   \u001b[0m\u001b[1;39m)\u001b[0m\u001b[39m,\u001b[0m\n",
       "\u001b[2;32m│   │   │   │   │   \u001b[0m\u001b[1;35mIntegerPropertyFilter\u001b[0m\u001b[1;39m(\u001b[0m\n",
       "\u001b[2;32m│   │   │   │   │   │   \u001b[0m\u001b[33mproperty_name\u001b[0m\u001b[39m=\u001b[0m\u001b[32m'price'\u001b[0m\u001b[39m,\u001b[0m\n",
       "\u001b[2;32m│   │   │   │   │   │   \u001b[0m\u001b[33moperator\u001b[0m\u001b[39m=<ComparisonOperator.LESS_EQUAL: \u001b[0m\u001b[32m'<='\u001b[0m\u001b[39m>,\u001b[0m\n",
       "\u001b[2;32m│   │   │   │   │   │   \u001b[0m\u001b[33mvalue\u001b[0m\u001b[39m=\u001b[0m\u001b[1;36m150\u001b[0m\u001b[1;36m.0\u001b[0m\n",
       "\u001b[2;32m│   │   │   │   │   \u001b[0m\u001b[1;39m)\u001b[0m\n",
       "\u001b[2;32m│   │   │   │   \u001b[0m\u001b[1;39m]\u001b[0m\n",
       "\u001b[2;32m│   │   │   \u001b[0m\u001b[1;39m)\u001b[0m\u001b[39m,\u001b[0m\n",
       "\u001b[2;32m│   │   │   \u001b[0m\u001b[33mcollection\u001b[0m\u001b[39m=\u001b[0m\u001b[32m'Ecommerce'\u001b[0m\n",
       "\u001b[2;32m│   │   \u001b[0m\u001b[1;39m)\u001b[0m\u001b[39m,\u001b[0m\n",
       "\u001b[2;32m│   │   \u001b[0m\u001b[1;35mAggregationResultWithCollectionNormalized\u001b[0m\u001b[1;39m(\u001b[0m\n",
       "\u001b[2;32m│   │   │   \u001b[0m\u001b[33mgroupby_property\u001b[0m\u001b[39m=\u001b[0m\u001b[3;35mNone\u001b[0m\u001b[39m,\u001b[0m\n",
       "\u001b[2;32m│   │   │   \u001b[0m\u001b[33maggregation\u001b[0m\u001b[39m=\u001b[0m\u001b[1;35mTextPropertyAggregation\u001b[0m\u001b[1;39m(\u001b[0m\n",
       "\u001b[2;32m│   │   │   │   \u001b[0m\u001b[33mproperty_name\u001b[0m\u001b[39m=\u001b[0m\u001b[32m'name'\u001b[0m\u001b[39m,\u001b[0m\n",
       "\u001b[2;32m│   │   │   │   \u001b[0m\u001b[33mmetrics\u001b[0m\u001b[39m=<TextMetrics.COUNT: \u001b[0m\u001b[32m'COUNT'\u001b[0m\u001b[39m>,\u001b[0m\n",
       "\u001b[2;32m│   │   │   │   \u001b[0m\u001b[33mtop_occurrences_limit\u001b[0m\u001b[39m=\u001b[0m\u001b[3;35mNone\u001b[0m\n",
       "\u001b[2;32m│   │   │   \u001b[0m\u001b[1;39m)\u001b[0m\u001b[39m,\u001b[0m\n",
       "\u001b[2;32m│   │   │   \u001b[0m\u001b[33mfilters\u001b[0m\u001b[39m=\u001b[0m\u001b[1;35mFilterAndOr\u001b[0m\u001b[1;39m(\u001b[0m\n",
       "\u001b[2;32m│   │   │   │   \u001b[0m\u001b[33mcombine\u001b[0m\u001b[39m=\u001b[0m\u001b[32m'AND'\u001b[0m\u001b[39m,\u001b[0m\n",
       "\u001b[2;32m│   │   │   │   \u001b[0m\u001b[33mfilters\u001b[0m\u001b[39m=\u001b[0m\u001b[1;39m[\u001b[0m\n",
       "\u001b[2;32m│   │   │   │   │   \u001b[0m\u001b[1;35mTextPropertyFilter\u001b[0m\u001b[1;39m(\u001b[0m\n",
       "\u001b[2;32m│   │   │   │   │   │   \u001b[0m\u001b[33mproperty_name\u001b[0m\u001b[39m=\u001b[0m\u001b[32m'subcategory'\u001b[0m\u001b[39m,\u001b[0m\n",
       "\u001b[2;32m│   │   │   │   │   │   \u001b[0m\u001b[33moperator\u001b[0m\u001b[39m=<ComparisonOperator.LIKE: \u001b[0m\u001b[32m'LIKE'\u001b[0m\u001b[39m>,\u001b[0m\n",
       "\u001b[2;32m│   │   │   │   │   │   \u001b[0m\u001b[33mvalue\u001b[0m\u001b[39m=\u001b[0m\u001b[32m'*coat*'\u001b[0m\n",
       "\u001b[2;32m│   │   │   │   │   \u001b[0m\u001b[1;39m)\u001b[0m\u001b[39m,\u001b[0m\n",
       "\u001b[2;32m│   │   │   │   │   \u001b[0m\u001b[1;35mIntegerPropertyFilter\u001b[0m\u001b[1;39m(\u001b[0m\n",
       "\u001b[2;32m│   │   │   │   │   │   \u001b[0m\u001b[33mproperty_name\u001b[0m\u001b[39m=\u001b[0m\u001b[32m'price'\u001b[0m\u001b[39m,\u001b[0m\n",
       "\u001b[2;32m│   │   │   │   │   │   \u001b[0m\u001b[33moperator\u001b[0m\u001b[39m=<ComparisonOperator.LESS_EQUAL: \u001b[0m\u001b[32m'<='\u001b[0m\u001b[39m>,\u001b[0m\n",
       "\u001b[2;32m│   │   │   │   │   │   \u001b[0m\u001b[33mvalue\u001b[0m\u001b[39m=\u001b[0m\u001b[1;36m150\u001b[0m\u001b[1;36m.0\u001b[0m\n",
       "\u001b[2;32m│   │   │   │   │   \u001b[0m\u001b[1;39m)\u001b[0m\u001b[39m,\u001b[0m\n",
       "\u001b[2;32m│   │   │   │   │   \u001b[0m\u001b[1;35mTextPropertyFilter\u001b[0m\u001b[1;39m(\u001b[0m\n",
       "\u001b[2;32m│   │   │   │   │   │   \u001b[0m\u001b[33mproperty_name\u001b[0m\u001b[39m=\u001b[0m\u001b[32m'colors'\u001b[0m\u001b[39m,\u001b[0m\n",
       "\u001b[2;32m│   │   │   │   │   │   \u001b[0m\u001b[33moperator\u001b[0m\u001b[39m=<ComparisonOperator.LIKE: \u001b[0m\u001b[32m'LIKE'\u001b[0m\u001b[1m>\u001b[0m,\n",
       "\u001b[2;32m│   │   │   │   │   │   \u001b[0m\u001b[33mvalue\u001b[0m=\u001b[32m'*light*'\u001b[0m\n",
       "\u001b[2;32m│   │   │   │   │   \u001b[0m\u001b[1m)\u001b[0m\n",
       "\u001b[2;32m│   │   │   │   \u001b[0m\u001b[1m]\u001b[0m\n",
       "\u001b[2;32m│   │   │   \u001b[0m\u001b[1m)\u001b[0m,\n",
       "\u001b[2;32m│   │   │   \u001b[0m\u001b[33mcollection\u001b[0m=\u001b[32m'Ecommerce'\u001b[0m\n",
       "\u001b[2;32m│   │   \u001b[0m\u001b[1m)\u001b[0m\n",
       "\u001b[2;32m│   \u001b[0m\u001b[1m]\u001b[0m,\n",
       "\u001b[2;32m│   \u001b[0m\u001b[33musage\u001b[0m=\u001b[1;35mModelUnitUsage\u001b[0m\u001b[1m(\u001b[0m\u001b[33mmodel_units\u001b[0m=\u001b[1;36m576\u001b[0m, \u001b[33musage_in_plan\u001b[0m=\u001b[3;92mTrue\u001b[0m, \u001b[33mremaining_plan_requests\u001b[0m=\u001b[1;36m818\u001b[0m\u001b[1m)\u001b[0m,\n",
       "\u001b[2;32m│   \u001b[0m\u001b[33mtotal_time\u001b[0m=\u001b[1;36m13\u001b[0m\u001b[1;36m.767515420913696\u001b[0m,\n",
       "\u001b[2;32m│   \u001b[0m\u001b[33mis_partial_answer\u001b[0m=\u001b[3;91mFalse\u001b[0m,\n",
       "\u001b[2;32m│   \u001b[0m\u001b[33mmissing_information\u001b[0m=\u001b[1m[\u001b[0m\u001b[1m]\u001b[0m,\n",
       "\u001b[2;32m│   \u001b[0m\u001b[33mfinal_answer\u001b[0m=\u001b[32m'For a trendy yet timeless jean jacket or light coat priced at or below $150, here are some stylish options from relatively new and quality-conscious brands:\\n\\n1. Garden Dusk Linen Jacket by Loom & Aura \u001b[0m\u001b[32m(\u001b[0m\u001b[32m$90\u001b[0m\u001b[32m)\u001b[0m\u001b[32m  \\n- A soft linen jacket in a subtle lavender color, tailored for comfort with thoughtful detailing.  \\n- It brings both charm and durability, suitable for various occasions—from casual outdoor and indoor settings.  \\n- Loom & Aura is associated with Loom Legacy \u001b[0m\u001b[32m(\u001b[0m\u001b[32mfounded in 2020 in France\u001b[0m\u001b[32m)\u001b[0m\u001b[32m, a brand known for timeless elegance and quality craftsmanship.\\n\\n2. Elysian Quill Coat by Loom & Aura \u001b[0m\u001b[32m(\u001b[0m\u001b[32m$150\u001b[0m\u001b[32m)\u001b[0m\u001b[32m  \\n- A light coat with a refined silhouette and intricate button details inspired by vintage intellectual style, perfect for stylish yet classic looks.  \\n- Available in white or grey with positive reviews for quality and timeless appeal.\\n\\n3. Ivory Parchment Trench by Canvas & Co. \u001b[0m\u001b[32m(\u001b[0m\u001b[32m$150\u001b[0m\u001b[32m)\u001b[0m\u001b[32m  \\n- An elegant ivory trench coat inspired by classical art with tailored lines and decorative buttons.  \\n- Ideal for sophisticated outdoor gatherings, blending both fashion and longevity.\\n\\nRegarding new brands with potential for social media sponsorships, consider the following relatively new companies established around 2020-2021 known for innovative and contemporary style:  \\n- Prism Prowess \u001b[0m\u001b[32m(\u001b[0m\u001b[32mSpain, 2021\u001b[0m\u001b[32m)\u001b[0m\u001b[32m  \\n- Loom Legacy \u001b[0m\u001b[32m(\u001b[0m\u001b[32mFrance, 2020\u001b[0m\u001b[32m)\u001b[0m\u001b[32m – Parent brand of Loom & Aura  \\n- Hush Horizon \u001b[0m\u001b[32m(\u001b[0m\u001b[32mJapan, 2020\u001b[0m\u001b[32m)\u001b[0m\u001b[32m  \\n\\nChoosing items from Loom & Aura or its parent Loom Legacy could align well with your desire for timeless style, quality, and sponsorship potential since they are newer brands with a heritage of craftsmanship. The Garden Dusk Linen Jacket or Elysian Quill Coat are solid picks under $150 that are both stylish and durable.\\n\\nIf interested, you might want to reach out to these brands directly to explore sponsorship opportunities linked to your social media presence.'\u001b[0m,\n",
       "\u001b[2;32m│   \u001b[0m\u001b[33msources\u001b[0m=\u001b[1m[\u001b[0m\n",
       "\u001b[2;32m│   │   \u001b[0m\u001b[1;35mSource\u001b[0m\u001b[1m(\u001b[0m\u001b[33mobject_id\u001b[0m=\u001b[32m'f2344249-72a9-4d42-b230-91bf4bb1fd5a'\u001b[0m, \u001b[33mcollection\u001b[0m=\u001b[32m'Ecommerce'\u001b[0m\u001b[1m)\u001b[0m,\n",
       "\u001b[2;32m│   │   \u001b[0m\u001b[1;35mSource\u001b[0m\u001b[1m(\u001b[0m\u001b[33mobject_id\u001b[0m=\u001b[32m'49b8af79-786c-42bc-bcbb-a1b32e33b1be'\u001b[0m, \u001b[33mcollection\u001b[0m=\u001b[32m'Ecommerce'\u001b[0m\u001b[1m)\u001b[0m,\n",
       "\u001b[2;32m│   │   \u001b[0m\u001b[1;35mSource\u001b[0m\u001b[1m(\u001b[0m\u001b[33mobject_id\u001b[0m=\u001b[32m'1bcd602b-18d7-4ce1-88fa-2e82b9362da2'\u001b[0m, \u001b[33mcollection\u001b[0m=\u001b[32m'Ecommerce'\u001b[0m\u001b[1m)\u001b[0m,\n",
       "\u001b[2;32m│   │   \u001b[0m\u001b[1;35mSource\u001b[0m\u001b[1m(\u001b[0m\u001b[33mobject_id\u001b[0m=\u001b[32m'5c57eb72-e9c5-4ff2-b781-8835963200f1'\u001b[0m, \u001b[33mcollection\u001b[0m=\u001b[32m'Brands'\u001b[0m\u001b[1m)\u001b[0m,\n",
       "\u001b[2;32m│   │   \u001b[0m\u001b[1;35mSource\u001b[0m\u001b[1m(\u001b[0m\u001b[33mobject_id\u001b[0m=\u001b[32m'1004d936-2873-4f1b-b1c2-74b0a81ddd38'\u001b[0m, \u001b[33mcollection\u001b[0m=\u001b[32m'Brands'\u001b[0m\u001b[1m)\u001b[0m,\n",
       "\u001b[2;32m│   │   \u001b[0m\u001b[1;35mSource\u001b[0m\u001b[1m(\u001b[0m\u001b[33mobject_id\u001b[0m=\u001b[32m'349dcddd-93af-4594-88cf-931b1ca9322d'\u001b[0m, \u001b[33mcollection\u001b[0m=\u001b[32m'Brands'\u001b[0m\u001b[1m)\u001b[0m\n",
       "\u001b[2;32m│   \u001b[0m\u001b[1m]\u001b[0m\n",
       "\u001b[1m)\u001b[0m\n"
      ]
     },
     "metadata": {},
     "output_type": "display_data"
    }
   ],
   "source": [
    "# Perform a query\n",
    "response = qa.ask(\n",
    "    \"\"\"I am looking to buy a cool new jean jacket or light coat at or below $150.\n",
    "    I want a trendy but also timeless look but can also hold up and last me a long time.\n",
    "    If possible, I want to purchase something from a new company that might get me a\n",
    "    sponsorship for my social media account.\"\"\"\n",
    ")\n",
    "# Print the response\n",
    "response.display()"
   ]
  },
  {
   "cell_type": "markdown",
   "id": "bfd6f685",
   "metadata": {
    "id": "bfd6f685"
   },
   "source": [
    "<a id='MissingInfo'></a>  \n",
    "### 5.5 Identifying missing information  \n",
    "[Back to table of contents](#TOC)  \n",
    "\n",
    "If a partial response is generated for a query the Query Agent will report the missing information not present in the database."
   ]
  },
  {
   "cell_type": "code",
   "execution_count": 10,
   "id": "7571669c",
   "metadata": {
    "id": "7571669c"
   },
   "outputs": [
    {
     "data": {
      "text/html": [
       "<pre style=\"white-space:pre;overflow-x:auto;line-height:normal;font-family:Menlo,'DejaVu Sans Mono',consolas,'Courier New',monospace\"><span style=\"color: #800080; text-decoration-color: #800080; font-weight: bold\">AskModeResponse</span><span style=\"font-weight: bold\">(</span>\n",
       "<span style=\"color: #7fbf7f; text-decoration-color: #7fbf7f\">│   </span><span style=\"color: #808000; text-decoration-color: #808000\">output_type</span>=<span style=\"color: #008000; text-decoration-color: #008000\">'final_state'</span>,\n",
       "<span style=\"color: #7fbf7f; text-decoration-color: #7fbf7f\">│   </span><span style=\"color: #808000; text-decoration-color: #808000\">searches</span>=<span style=\"font-weight: bold\">[</span>\n",
       "<span style=\"color: #7fbf7f; text-decoration-color: #7fbf7f\">│   │   </span><span style=\"color: #800080; text-decoration-color: #800080; font-weight: bold\">QueryResultWithCollectionNormalized</span><span style=\"font-weight: bold\">(</span>\n",
       "<span style=\"color: #7fbf7f; text-decoration-color: #7fbf7f\">│   │   │   </span><span style=\"color: #808000; text-decoration-color: #808000\">query</span>=<span style=\"color: #008000; text-decoration-color: #008000\">'vegan leather jacket socially responsible brand ethical sustainable cruelty-free'</span>,\n",
       "<span style=\"color: #7fbf7f; text-decoration-color: #7fbf7f\">│   │   │   </span><span style=\"color: #808000; text-decoration-color: #808000\">filters</span>=<span style=\"color: #800080; text-decoration-color: #800080; font-weight: bold\">TextPropertyFilter</span><span style=\"font-weight: bold\">(</span>\n",
       "<span style=\"color: #7fbf7f; text-decoration-color: #7fbf7f\">│   │   │   │   </span><span style=\"color: #808000; text-decoration-color: #808000\">property_name</span>=<span style=\"color: #008000; text-decoration-color: #008000\">'subcategory'</span>,\n",
       "<span style=\"color: #7fbf7f; text-decoration-color: #7fbf7f\">│   │   │   │   </span><span style=\"color: #808000; text-decoration-color: #808000\">operator</span>=<span style=\"font-weight: bold\">&lt;</span><span style=\"color: #ff00ff; text-decoration-color: #ff00ff; font-weight: bold\">ComparisonOperator.LIKE:</span><span style=\"color: #000000; text-decoration-color: #000000\"> </span><span style=\"color: #008000; text-decoration-color: #008000\">'LIKE'</span><span style=\"font-weight: bold\">&gt;</span>,\n",
       "<span style=\"color: #7fbf7f; text-decoration-color: #7fbf7f\">│   │   │   │   </span><span style=\"color: #808000; text-decoration-color: #808000\">value</span>=<span style=\"color: #008000; text-decoration-color: #008000\">'*jacket*'</span>\n",
       "<span style=\"color: #7fbf7f; text-decoration-color: #7fbf7f\">│   │   │   </span><span style=\"font-weight: bold\">)</span>,\n",
       "<span style=\"color: #7fbf7f; text-decoration-color: #7fbf7f\">│   │   │   </span><span style=\"color: #808000; text-decoration-color: #808000\">collection</span>=<span style=\"color: #008000; text-decoration-color: #008000\">'Ecommerce'</span>\n",
       "<span style=\"color: #7fbf7f; text-decoration-color: #7fbf7f\">│   │   </span><span style=\"font-weight: bold\">)</span>,\n",
       "<span style=\"color: #7fbf7f; text-decoration-color: #7fbf7f\">│   │   </span><span style=\"color: #800080; text-decoration-color: #800080; font-weight: bold\">QueryResultWithCollectionNormalized</span><span style=\"font-weight: bold\">(</span>\n",
       "<span style=\"color: #7fbf7f; text-decoration-color: #7fbf7f\">│   │   │   </span><span style=\"color: #808000; text-decoration-color: #808000\">query</span>=<span style=\"color: #008000; text-decoration-color: #008000\">'socially responsible brands ethical brands sustainable brands vegan brands'</span>,\n",
       "<span style=\"color: #7fbf7f; text-decoration-color: #7fbf7f\">│   │   │   </span><span style=\"color: #808000; text-decoration-color: #808000\">filters</span>=<span style=\"color: #800080; text-decoration-color: #800080; font-style: italic\">None</span>,\n",
       "<span style=\"color: #7fbf7f; text-decoration-color: #7fbf7f\">│   │   │   </span><span style=\"color: #808000; text-decoration-color: #808000\">collection</span>=<span style=\"color: #008000; text-decoration-color: #008000\">'Brands'</span>\n",
       "<span style=\"color: #7fbf7f; text-decoration-color: #7fbf7f\">│   │   </span><span style=\"font-weight: bold\">)</span>\n",
       "<span style=\"color: #7fbf7f; text-decoration-color: #7fbf7f\">│   </span><span style=\"font-weight: bold\">]</span>,\n",
       "<span style=\"color: #7fbf7f; text-decoration-color: #7fbf7f\">│   </span><span style=\"color: #808000; text-decoration-color: #808000\">aggregations</span>=<span style=\"font-weight: bold\">[]</span>,\n",
       "<span style=\"color: #7fbf7f; text-decoration-color: #7fbf7f\">│   </span><span style=\"color: #808000; text-decoration-color: #808000\">usage</span>=<span style=\"color: #800080; text-decoration-color: #800080; font-weight: bold\">ModelUnitUsage</span><span style=\"font-weight: bold\">(</span><span style=\"color: #808000; text-decoration-color: #808000\">model_units</span>=<span style=\"color: #008080; text-decoration-color: #008080; font-weight: bold\">252</span>, <span style=\"color: #808000; text-decoration-color: #808000\">usage_in_plan</span>=<span style=\"color: #00ff00; text-decoration-color: #00ff00; font-style: italic\">True</span>, <span style=\"color: #808000; text-decoration-color: #808000\">remaining_plan_requests</span>=<span style=\"color: #008080; text-decoration-color: #008080; font-weight: bold\">814</span><span style=\"font-weight: bold\">)</span>,\n",
       "<span style=\"color: #7fbf7f; text-decoration-color: #7fbf7f\">│   </span><span style=\"color: #808000; text-decoration-color: #808000\">total_time</span>=<span style=\"color: #008080; text-decoration-color: #008080; font-weight: bold\">10.90539264678955</span>,\n",
       "<span style=\"color: #7fbf7f; text-decoration-color: #7fbf7f\">│   </span><span style=\"color: #808000; text-decoration-color: #808000\">is_partial_answer</span>=<span style=\"color: #00ff00; text-decoration-color: #00ff00; font-style: italic\">True</span>,\n",
       "<span style=\"color: #7fbf7f; text-decoration-color: #7fbf7f\">│   </span><span style=\"color: #808000; text-decoration-color: #808000\">missing_information</span>=<span style=\"font-weight: bold\">[</span>\n",
       "<span style=\"color: #7fbf7f; text-decoration-color: #7fbf7f\">│   │   </span><span style=\"color: #008000; text-decoration-color: #008000\">'Specific confirmation that the brands Vivid Verse and Canvas &amp; Co. are vegan or socially responsible is missing, as this was not found in the sources.'</span>,\n",
       "<span style=\"color: #7fbf7f; text-decoration-color: #7fbf7f\">│   │   </span><span style=\"color: #008000; text-decoration-color: #008000\">'Detailed information or certifications about the social responsibility, ethical practices, or vegan credentials of the mentioned brands (Vivid Verse, Canvas &amp; Co., Nova Nest) is not provided in the available results.'</span>\n",
       "<span style=\"color: #7fbf7f; text-decoration-color: #7fbf7f\">│   </span><span style=\"font-weight: bold\">]</span>,\n",
       "<span style=\"color: #7fbf7f; text-decoration-color: #7fbf7f\">│   </span><span style=\"color: #808000; text-decoration-color: #808000\">final_answer</span>=<span style=\"color: #008000; text-decoration-color: #008000\">'If you\\'re vegan and want to buy a new leather jacket from socially responsible and ethical brands, looking for vegan leather or faux leather alternatives is key. Among the available options, the \"Shroud Jacket\" by Vivid Verse could be a great pick, as it uses ultra-resistant fabric and is not traditional leather. However, the brand specifics about its social responsibility or vegan certification are not explicitly mentioned.\\n\\nBoth Canvas &amp; Co. jackets (\"Rustic Wanderer Utility Jacket\" and \"Rustic Patcher Jacket\") use durable, weathered fabrics rather than leather, which might align better with vegan preferences. These brands emphasize durability and outdoor utility but do not state specific socially responsible credentials in the information given.\\n\\nFor truly vegan and socially responsible fashion, keep an eye on brands like Nova Nest and its associated brands (including Vivid Venture), which have a reputation for innovative design and contemporary style. Although detailed ethical or vegan-focused credentials are not listed here, these brands could be worth exploring further for sustainable fashion options.\\n\\nIn summary, your best options here are jackets made from vegan-friendly materials such as those from Vivid Verse and Canvas &amp; Co., but you\\'ll want to verify each brand\\'s social responsibility policies directly, as that information isn\\'t provided in detail.'</span>,\n",
       "<span style=\"color: #7fbf7f; text-decoration-color: #7fbf7f\">│   </span><span style=\"color: #808000; text-decoration-color: #808000\">sources</span>=<span style=\"font-weight: bold\">[</span>\n",
       "<span style=\"color: #7fbf7f; text-decoration-color: #7fbf7f\">│   │   </span><span style=\"color: #800080; text-decoration-color: #800080; font-weight: bold\">Source</span><span style=\"font-weight: bold\">(</span><span style=\"color: #808000; text-decoration-color: #808000\">object_id</span>=<span style=\"color: #008000; text-decoration-color: #008000\">'ea0bfa17-94fc-4af4-ab90-8ac34a4efb31'</span>, <span style=\"color: #808000; text-decoration-color: #808000\">collection</span>=<span style=\"color: #008000; text-decoration-color: #008000\">'Ecommerce'</span><span style=\"font-weight: bold\">)</span>,\n",
       "<span style=\"color: #7fbf7f; text-decoration-color: #7fbf7f\">│   │   </span><span style=\"color: #800080; text-decoration-color: #800080; font-weight: bold\">Source</span><span style=\"font-weight: bold\">(</span><span style=\"color: #808000; text-decoration-color: #808000\">object_id</span>=<span style=\"color: #008000; text-decoration-color: #008000\">'6325f602-b335-45d7-9714-7abefe7974ec'</span>, <span style=\"color: #808000; text-decoration-color: #808000\">collection</span>=<span style=\"color: #008000; text-decoration-color: #008000\">'Ecommerce'</span><span style=\"font-weight: bold\">)</span>,\n",
       "<span style=\"color: #7fbf7f; text-decoration-color: #7fbf7f\">│   │   </span><span style=\"color: #800080; text-decoration-color: #800080; font-weight: bold\">Source</span><span style=\"font-weight: bold\">(</span><span style=\"color: #808000; text-decoration-color: #808000\">object_id</span>=<span style=\"color: #008000; text-decoration-color: #008000\">'09994007-e02c-4633-87ee-5bf329280c6a'</span>, <span style=\"color: #808000; text-decoration-color: #808000\">collection</span>=<span style=\"color: #008000; text-decoration-color: #008000\">'Ecommerce'</span><span style=\"font-weight: bold\">)</span>,\n",
       "<span style=\"color: #7fbf7f; text-decoration-color: #7fbf7f\">│   │   </span><span style=\"color: #800080; text-decoration-color: #800080; font-weight: bold\">Source</span><span style=\"font-weight: bold\">(</span><span style=\"color: #808000; text-decoration-color: #808000\">object_id</span>=<span style=\"color: #008000; text-decoration-color: #008000\">'b120b799-95a1-4616-8268-265252224343'</span>, <span style=\"color: #808000; text-decoration-color: #808000\">collection</span>=<span style=\"color: #008000; text-decoration-color: #008000\">'Brands'</span><span style=\"font-weight: bold\">)</span>,\n",
       "<span style=\"color: #7fbf7f; text-decoration-color: #7fbf7f\">│   │   </span><span style=\"color: #800080; text-decoration-color: #800080; font-weight: bold\">Source</span><span style=\"font-weight: bold\">(</span><span style=\"color: #808000; text-decoration-color: #808000\">object_id</span>=<span style=\"color: #008000; text-decoration-color: #008000\">'0a68452b-143f-4881-b025-df8ad8ebe899'</span>, <span style=\"color: #808000; text-decoration-color: #808000\">collection</span>=<span style=\"color: #008000; text-decoration-color: #008000\">'Brands'</span><span style=\"font-weight: bold\">)</span>\n",
       "<span style=\"color: #7fbf7f; text-decoration-color: #7fbf7f\">│   </span><span style=\"font-weight: bold\">]</span>\n",
       "<span style=\"font-weight: bold\">)</span>\n",
       "</pre>\n"
      ],
      "text/plain": [
       "\u001b[1;35mAskModeResponse\u001b[0m\u001b[1m(\u001b[0m\n",
       "\u001b[2;32m│   \u001b[0m\u001b[33moutput_type\u001b[0m=\u001b[32m'final_state'\u001b[0m,\n",
       "\u001b[2;32m│   \u001b[0m\u001b[33msearches\u001b[0m=\u001b[1m[\u001b[0m\n",
       "\u001b[2;32m│   │   \u001b[0m\u001b[1;35mQueryResultWithCollectionNormalized\u001b[0m\u001b[1m(\u001b[0m\n",
       "\u001b[2;32m│   │   │   \u001b[0m\u001b[33mquery\u001b[0m=\u001b[32m'vegan leather jacket socially responsible brand ethical sustainable cruelty-free'\u001b[0m,\n",
       "\u001b[2;32m│   │   │   \u001b[0m\u001b[33mfilters\u001b[0m=\u001b[1;35mTextPropertyFilter\u001b[0m\u001b[1m(\u001b[0m\n",
       "\u001b[2;32m│   │   │   │   \u001b[0m\u001b[33mproperty_name\u001b[0m=\u001b[32m'subcategory'\u001b[0m,\n",
       "\u001b[2;32m│   │   │   │   \u001b[0m\u001b[33moperator\u001b[0m=\u001b[1m<\u001b[0m\u001b[1;95mComparisonOperator.LIKE:\u001b[0m\u001b[39m \u001b[0m\u001b[32m'LIKE'\u001b[0m\u001b[1m>\u001b[0m,\n",
       "\u001b[2;32m│   │   │   │   \u001b[0m\u001b[33mvalue\u001b[0m=\u001b[32m'*jacket*'\u001b[0m\n",
       "\u001b[2;32m│   │   │   \u001b[0m\u001b[1m)\u001b[0m,\n",
       "\u001b[2;32m│   │   │   \u001b[0m\u001b[33mcollection\u001b[0m=\u001b[32m'Ecommerce'\u001b[0m\n",
       "\u001b[2;32m│   │   \u001b[0m\u001b[1m)\u001b[0m,\n",
       "\u001b[2;32m│   │   \u001b[0m\u001b[1;35mQueryResultWithCollectionNormalized\u001b[0m\u001b[1m(\u001b[0m\n",
       "\u001b[2;32m│   │   │   \u001b[0m\u001b[33mquery\u001b[0m=\u001b[32m'socially responsible brands ethical brands sustainable brands vegan brands'\u001b[0m,\n",
       "\u001b[2;32m│   │   │   \u001b[0m\u001b[33mfilters\u001b[0m=\u001b[3;35mNone\u001b[0m,\n",
       "\u001b[2;32m│   │   │   \u001b[0m\u001b[33mcollection\u001b[0m=\u001b[32m'Brands'\u001b[0m\n",
       "\u001b[2;32m│   │   \u001b[0m\u001b[1m)\u001b[0m\n",
       "\u001b[2;32m│   \u001b[0m\u001b[1m]\u001b[0m,\n",
       "\u001b[2;32m│   \u001b[0m\u001b[33maggregations\u001b[0m=\u001b[1m[\u001b[0m\u001b[1m]\u001b[0m,\n",
       "\u001b[2;32m│   \u001b[0m\u001b[33musage\u001b[0m=\u001b[1;35mModelUnitUsage\u001b[0m\u001b[1m(\u001b[0m\u001b[33mmodel_units\u001b[0m=\u001b[1;36m252\u001b[0m, \u001b[33musage_in_plan\u001b[0m=\u001b[3;92mTrue\u001b[0m, \u001b[33mremaining_plan_requests\u001b[0m=\u001b[1;36m814\u001b[0m\u001b[1m)\u001b[0m,\n",
       "\u001b[2;32m│   \u001b[0m\u001b[33mtotal_time\u001b[0m=\u001b[1;36m10\u001b[0m\u001b[1;36m.90539264678955\u001b[0m,\n",
       "\u001b[2;32m│   \u001b[0m\u001b[33mis_partial_answer\u001b[0m=\u001b[3;92mTrue\u001b[0m,\n",
       "\u001b[2;32m│   \u001b[0m\u001b[33mmissing_information\u001b[0m=\u001b[1m[\u001b[0m\n",
       "\u001b[2;32m│   │   \u001b[0m\u001b[32m'Specific confirmation that the brands Vivid Verse and Canvas & Co. are vegan or socially responsible is missing, as this was not found in the sources.'\u001b[0m,\n",
       "\u001b[2;32m│   │   \u001b[0m\u001b[32m'Detailed information or certifications about the social responsibility, ethical practices, or vegan credentials of the mentioned brands \u001b[0m\u001b[32m(\u001b[0m\u001b[32mVivid Verse, Canvas & Co., Nova Nest\u001b[0m\u001b[32m)\u001b[0m\u001b[32m is not provided in the available results.'\u001b[0m\n",
       "\u001b[2;32m│   \u001b[0m\u001b[1m]\u001b[0m,\n",
       "\u001b[2;32m│   \u001b[0m\u001b[33mfinal_answer\u001b[0m=\u001b[32m'If you\\'re vegan and want to buy a new leather jacket from socially responsible and ethical brands, looking for vegan leather or faux leather alternatives is key. Among the available options, the \"Shroud Jacket\" by Vivid Verse could be a great pick, as it uses ultra-resistant fabric and is not traditional leather. However, the brand specifics about its social responsibility or vegan certification are not explicitly mentioned.\\n\\nBoth Canvas & Co. jackets \u001b[0m\u001b[32m(\u001b[0m\u001b[32m\"Rustic Wanderer Utility Jacket\" and \"Rustic Patcher Jacket\"\u001b[0m\u001b[32m)\u001b[0m\u001b[32m use durable, weathered fabrics rather than leather, which might align better with vegan preferences. These brands emphasize durability and outdoor utility but do not state specific socially responsible credentials in the information given.\\n\\nFor truly vegan and socially responsible fashion, keep an eye on brands like Nova Nest and its associated brands \u001b[0m\u001b[32m(\u001b[0m\u001b[32mincluding Vivid Venture\u001b[0m\u001b[32m)\u001b[0m\u001b[32m, which have a reputation for innovative design and contemporary style. Although detailed ethical or vegan-focused credentials are not listed here, these brands could be worth exploring further for sustainable fashion options.\\n\\nIn summary, your best options here are jackets made from vegan-friendly materials such as those from Vivid Verse and Canvas & Co., but you\\'ll want to verify each brand\\'s social responsibility policies directly, as that information isn\\'t provided in detail.'\u001b[0m,\n",
       "\u001b[2;32m│   \u001b[0m\u001b[33msources\u001b[0m=\u001b[1m[\u001b[0m\n",
       "\u001b[2;32m│   │   \u001b[0m\u001b[1;35mSource\u001b[0m\u001b[1m(\u001b[0m\u001b[33mobject_id\u001b[0m=\u001b[32m'ea0bfa17-94fc-4af4-ab90-8ac34a4efb31'\u001b[0m, \u001b[33mcollection\u001b[0m=\u001b[32m'Ecommerce'\u001b[0m\u001b[1m)\u001b[0m,\n",
       "\u001b[2;32m│   │   \u001b[0m\u001b[1;35mSource\u001b[0m\u001b[1m(\u001b[0m\u001b[33mobject_id\u001b[0m=\u001b[32m'6325f602-b335-45d7-9714-7abefe7974ec'\u001b[0m, \u001b[33mcollection\u001b[0m=\u001b[32m'Ecommerce'\u001b[0m\u001b[1m)\u001b[0m,\n",
       "\u001b[2;32m│   │   \u001b[0m\u001b[1;35mSource\u001b[0m\u001b[1m(\u001b[0m\u001b[33mobject_id\u001b[0m=\u001b[32m'09994007-e02c-4633-87ee-5bf329280c6a'\u001b[0m, \u001b[33mcollection\u001b[0m=\u001b[32m'Ecommerce'\u001b[0m\u001b[1m)\u001b[0m,\n",
       "\u001b[2;32m│   │   \u001b[0m\u001b[1;35mSource\u001b[0m\u001b[1m(\u001b[0m\u001b[33mobject_id\u001b[0m=\u001b[32m'b120b799-95a1-4616-8268-265252224343'\u001b[0m, \u001b[33mcollection\u001b[0m=\u001b[32m'Brands'\u001b[0m\u001b[1m)\u001b[0m,\n",
       "\u001b[2;32m│   │   \u001b[0m\u001b[1;35mSource\u001b[0m\u001b[1m(\u001b[0m\u001b[33mobject_id\u001b[0m=\u001b[32m'0a68452b-143f-4881-b025-df8ad8ebe899'\u001b[0m, \u001b[33mcollection\u001b[0m=\u001b[32m'Brands'\u001b[0m\u001b[1m)\u001b[0m\n",
       "\u001b[2;32m│   \u001b[0m\u001b[1m]\u001b[0m\n",
       "\u001b[1m)\u001b[0m\n"
      ]
     },
     "metadata": {},
     "output_type": "display_data"
    }
   ],
   "source": [
    "# Perform a query\n",
    "response = qa.ask(\n",
    "    \"\"\"I want to buy a new leather jacket but I am vegan and only buy from socially responsible brands.\"\"\"\n",
    ")\n",
    "# Print the response\n",
    "response.display()"
   ]
  },
  {
   "cell_type": "code",
   "execution_count": 11,
   "id": "f4b1186f",
   "metadata": {},
   "outputs": [],
   "source": [
    "client.close()"
   ]
  }
 ],
 "metadata": {
  "colab": {
   "provenance": []
  },
  "kernelspec": {
   "display_name": ".venv (3.12.11)",
   "language": "python",
   "name": "python3"
  },
  "language_info": {
   "codemirror_mode": {
    "name": "ipython",
    "version": 3
   },
   "file_extension": ".py",
   "mimetype": "text/x-python",
   "name": "python",
   "nbconvert_exporter": "python",
   "pygments_lexer": "ipython3",
   "version": "3.10.12"
  }
 },
 "nbformat": 4,
 "nbformat_minor": 5
}
