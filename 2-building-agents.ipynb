{
 "cells": [
  {
   "cell_type": "markdown",
   "id": "765f4e77",
   "metadata": {},
   "source": [
    "## Lesson 2:  Building Agents to Simplify Vector Datbase Query Tasks\n",
    "\n",
    "Now that we understand vector databases and how to make queries, lets build some helpers!"
   ]
  },
  {
   "cell_type": "markdown",
   "id": "3185865f",
   "metadata": {},
   "source": [
    "## Install Pydantic\n",
    "\n",
    "We will use Pydantic to build agents to help us with our vector searches. But first, we will build some simple agents with straighforward tasks"
   ]
  },
  {
   "cell_type": "code",
   "execution_count": null,
   "id": "8d33826d",
   "metadata": {},
   "outputs": [],
   "source": [
    "#!pip install pydantic-ai"
   ]
  },
  {
   "cell_type": "markdown",
   "id": "b3ef8d6c",
   "metadata": {},
   "source": [
    "## Create an agent that likes to keep the conversation going"
   ]
  },
  {
   "cell_type": "code",
   "execution_count": null,
   "id": "da1ffc80",
   "metadata": {},
   "outputs": [],
   "source": [
    "from pydantic_ai import Agent\n",
    "\n",
    "agent = Agent(\n",
    "    model=\"gpt-4o-mini\",\n",
    "    #TODO- Give your new agent some fun instructions\n",
    ")"
   ]
  },
  {
   "cell_type": "code",
   "execution_count": null,
   "id": "6e61cbb0",
   "metadata": {},
   "outputs": [],
   "source": [
    "result = await agent.run(\"What is Data Science Dojo?\")\n",
    "print(result.output)"
   ]
  },
  {
   "cell_type": "markdown",
   "id": "481160f7",
   "metadata": {},
   "source": [
    "## Create an agent with memory"
   ]
  },
  {
   "cell_type": "code",
   "execution_count": null,
   "id": "5903aaa3",
   "metadata": {},
   "outputs": [],
   "source": [
    "result = await agent.run(\"I am most intersted in agnets\")\n",
    "print(result.output)"
   ]
  },
  {
   "cell_type": "markdown",
   "id": "8e9015b8",
   "metadata": {},
   "source": [
    "Let' help our agent out and give him some memory."
   ]
  },
  {
   "cell_type": "code",
   "execution_count": null,
   "id": "4c9716c2",
   "metadata": {},
   "outputs": [],
   "source": [
    "result = await agent.run(\"What is Data Science Dojo?\")\n",
    "print(result.output)"
   ]
  },
  {
   "cell_type": "code",
   "execution_count": null,
   "id": "9692f1f3",
   "metadata": {},
   "outputs": [],
   "source": [
    "result = await agent.run(\"Yes, I would like to pursue data science education!\", message_history=result.all_messages())\n",
    "print(result.output)"
   ]
  },
  {
   "cell_type": "markdown",
   "id": "a7abdee7",
   "metadata": {},
   "source": [
    "## Reconnecting to Wevaite"
   ]
  },
  {
   "cell_type": "code",
   "execution_count": null,
   "id": "8f76ee8b",
   "metadata": {},
   "outputs": [],
   "source": [
    "import os\n",
    "from dotenv import load_dotenv\n",
    "\n",
    "load_dotenv()\n",
    "\n",
    "WEAVIATE_URL = os.getenv(\"WEAVIATE_URL\")\n",
    "WEAVIATE_KEY = os.getenv(\"WEAVIATE_KEY\")\n",
    "OPENAI_API_KEY = os.getenv(\"OPENAI_API_KEY\")\n",
    "\n",
    "\n",
    "print(\"Weaviate URL:\", WEAVIATE_URL)\n",
    "print(\"Weaviate API Key:\", WEAVIATE_KEY[:10])\n",
    "print(\"OpenAI API Key:\", OPENAI_API_KEY[:10])"
   ]
  },
  {
   "cell_type": "code",
   "execution_count": null,
   "id": "322d5092",
   "metadata": {},
   "outputs": [],
   "source": [
    "import weaviate\n",
    "from weaviate.classes.init import Auth\n",
    "\n",
    "client = weaviate.connect_to_weaviate_cloud(\n",
    "    cluster_url=WEAVIATE_URL,\n",
    "    auth_credentials=Auth.api_key(WEAVIATE_KEY),\n",
    "    headers = {\n",
    "        \"X-OpenAI-Api-Key\": OPENAI_API_KEY\n",
    "    },\n",
    ")\n",
    "\n",
    "print(\"Client ready:\", client.is_ready())"
   ]
  },
  {
   "cell_type": "code",
   "execution_count": null,
   "id": "9cdc1a86",
   "metadata": {},
   "outputs": [],
   "source": [
    "# Check our collection from before\n",
    "contracts = client.collections.use(\"FinancialContract\")\n",
    "contracts_config = contracts.config.get()\n",
    "\n",
    "print(articles_config)"
   ]
  },
  {
   "cell_type": "code",
   "execution_count": null,
   "id": "996008a6",
   "metadata": {},
   "outputs": [],
   "source": [
    "from pydantic_ai import Agent\n",
    "\n",
    "# Simple query optimizer and search agent\n",
    "#Todo- make another agent like before\n",
    "\n",
    "async def search_(user_query):\n",
    "    # Optimize and search in one step\n",
    "    result = await search_agent.run(f\"Optimize this query for contract search: {user_query}\")\n",
    "    optimized_query = result.output\n",
    "\n",
    "    # Search the database\n",
    "    #Todo- now run your agent and give him a task\n",
    "    # Show results\n",
    "    for i, contract in enumerate(response.objects):\n",
    "        print(f\"Contract {i+1}: {contract.properties['contract_text']}\")\n",
    "\n",
    "    return response.objects\n",
    "\n"
   ]
  },
  {
   "cell_type": "code",
   "execution_count": null,
   "id": "3776dd04",
   "metadata": {},
   "outputs": [],
   "source": [
    "# Test it\n",
    "results = await search_(\"I need job contract info\")"
   ]
  },
  {
   "cell_type": "code",
   "execution_count": null,
   "id": "ec13d257",
   "metadata": {},
   "outputs": [],
   "source": [
    "from weaviate.classes.query import Filter\n",
    "from datetime import datetime, timezone\n",
    "\n",
    "# Get collection properties\n",
    "collection_config = contracts.config.get()\n",
    "properties = {prop.name: str(prop.data_type) for prop in collection_config.properties}\n",
    "\n",
    "# Smart filtering agent that creates filters automatically\n",
    "smart_filter_agent = Agent(\n",
    "    model=\"openai:gpt-4o-mini\",\n",
    "    instructions=f\"\"\"\n",
    "    You analyze queries and automatically create Weaviate filters.\n",
    "    Collection properties: {properties}\n",
    "    \n",
    "    Based on the user query, generate Python code that creates Filter objects.\n",
    "    Only return the filter code, nothing else.\n",
    "    \n",
    "    Examples:\n",
    "    - For \"Jane Doe contracts\": Filter.by_property(\"author\").equal(\"Jane Doe\")\n",
    "    - For \"recent employment contracts\": Filter.by_property(\"contract_type\").equal(\"employment contract\") & \n",
    "Filter.by_property(\"date\").greater_than(datetime(2023, 6, 1, tzinfo=timezone.utc))\n",
    "    - For \"short contracts\": Filter.by_property(\"contract_length\").less_than(2)\n",
    "    \n",
    "    If no filters needed, return: None\n",
    "    \"\"\",\n",
    ")\n",
    "\n",
    "async def auto_filtered_search(user_query):\n",
    "    # Get filter code from agent\n",
    "    filter_result = await smart_filter_agent.run(f\"Create filters for: {user_query}\")\n",
    "    filter_code = filter_result.output.strip()\n",
    "\n",
    "    print(f\"Query: {user_query}\")\n",
    "    print(f\"Generated filter: {filter_code}\")\n",
    "\n",
    "    # Execute the filter code\n",
    "    query_filters = None\n",
    "    if filter_code != \"None\":\n",
    "        try:\n",
    "            query_filters = eval(filter_code)\n",
    "        except:\n",
    "            print(\"Filter creation failed, searching without filters\")\n",
    "\n",
    "    # Search with auto-generated filters\n",
    "    response = contracts.query.near_text(\n",
    "        query=user_query,\n",
    "        filters=query_filters,\n",
    "        limit=3\n",
    "    )\n",
    "\n",
    "    print(f\"\\nFound {len(response.objects)} contracts:\")\n",
    "    for i, contract in enumerate(response.objects):\n",
    "        print(f\"Contract {i+1}: {contract.properties['contract_type']} by {contract.properties['author']} on {contract.properties['date']}\")\n",
    "\n",
    "    return response.objects"
   ]
  },
  {
   "cell_type": "code",
   "execution_count": null,
   "id": "e09da147",
   "metadata": {},
   "outputs": [],
   "source": [
    "results = await auto_filtered_search(\"Show me Jane Doe's recent employment contracts after 2022\")"
   ]
  },
  {
   "cell_type": "code",
   "execution_count": null,
   "id": "f0b55ec9",
   "metadata": {},
   "outputs": [],
   "source": [
    "client.close()"
   ]
  }
 ],
 "metadata": {
  "kernelspec": {
   "display_name": ".venv (3.12.11)",
   "language": "python",
   "name": "python3"
  },
  "language_info": {
   "codemirror_mode": {
    "name": "ipython",
    "version": 3
   },
   "file_extension": ".py",
   "mimetype": "text/x-python",
   "name": "python",
   "nbconvert_exporter": "python",
   "pygments_lexer": "ipython3",
   "version": "3.10.12"
  }
 },
 "nbformat": 4,
 "nbformat_minor": 5
}
