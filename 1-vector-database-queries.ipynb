{
 "cells": [
  {
   "cell_type": "code",
   "execution_count": 1,
   "metadata": {},
   "outputs": [],
   "source": [
    "# !pip install weaviate-client"
   ]
  },
  {
   "cell_type": "markdown",
   "metadata": {},
   "source": [
    "\n",
    "## Lesson 1:  Creating a Vector Database and Exploring Queries"
   ]
  },
  {
   "cell_type": "markdown",
   "metadata": {},
   "source": [
    "### Before we create an agent that can help us with our vector database queries, let's figure out what we might need help with."
   ]
  },
  {
   "cell_type": "markdown",
   "metadata": {},
   "source": [
    "## Get keys and URLs to connect to the Weaviate Client"
   ]
  },
  {
   "cell_type": "code",
   "execution_count": 2,
   "metadata": {},
   "outputs": [
    {
     "name": "stdout",
     "output_type": "stream",
     "text": [
      "Weaviate URL: rwxzavyuspepzg2fkhjag.c0.us-west3.gcp.weaviate.cloud\n",
      "Weaviate API Key: 7Tdl1PKHIc\n",
      "OpenAI API Key: sk-proj-iu\n"
     ]
    }
   ],
   "source": [
    "import os\n",
    "from dotenv import load_dotenv\n",
    "\n",
    "load_dotenv()\n",
    "\n",
    "WEAVIATE_URL = os.getenv(\"WEAVIATE_URL\")\n",
    "WEAVIATE_KEY = os.getenv(\"WEAVIATE_KEY\")\n",
    "OPENAI_API_KEY = os.getenv(\"OPENAI_API_KEY\")\n",
    "\n",
    "\n",
    "print(\"Weaviate URL:\", WEAVIATE_URL)\n",
    "print(\"Weaviate API Key:\", WEAVIATE_KEY[:10])\n",
    "print(\"OpenAI API Key:\", OPENAI_API_KEY[:10])"
   ]
  },
  {
   "cell_type": "markdown",
   "metadata": {},
   "source": [
    "## Connect to Weaviate\n",
    "\n",
    "You need to pass in your Weaviate Cloud URL and KEY."
   ]
  },
  {
   "cell_type": "code",
   "execution_count": 3,
   "metadata": {},
   "outputs": [
    {
     "name": "stdout",
     "output_type": "stream",
     "text": [
      "Client ready: True\n"
     ]
    }
   ],
   "source": [
    "import weaviate\n",
    "from weaviate.classes.init import Auth\n",
    "\n",
    "client = weaviate.connect_to_weaviate_cloud(\n",
    "    cluster_url=WEAVIATE_URL,\n",
    "    auth_credentials=Auth.api_key(WEAVIATE_KEY),\n",
    "    headers = {\n",
    "        \"X-OpenAI-Api-Key\": OPENAI_API_KEY\n",
    "    },\n",
    ")\n",
    "\n",
    "print(\"Client ready:\", client.is_ready())"
   ]
  },
  {
   "cell_type": "markdown",
   "metadata": {},
   "source": "## Load the financial contracts dataset\n\nLet's load the pre-vectorized financial contracts dataset from [HuggingFace](https://huggingface.co/datasets/weaviate/agents/viewer/query-agent-financial-contracts). This data set is what we will pass to our Weaviate \n\nThis data set come with vectors already created by the Snowflake/snowflake-arctic-embed-l-v2.0 embedding model. When we upload data to Weaviate, the embeddings are created for us by default, but since we have them already we will upload them with our original data to save time."
  },
  {
   "cell_type": "code",
   "execution_count": 4,
   "metadata": {},
   "outputs": [
    {
     "name": "stdout",
     "output_type": "stream",
     "text": [
      "Dataset loaded successfully!\n",
      "\n",
      "--- Sample contract data ---\n",
      "\n",
      "Contract 1:\n",
      "Properties: {'date': '2023-03-15T14:30:00+00:00', 'contract_type': 'partnership agreement', 'author': 'Arthur Penndragon', 'contract_length': 3, 'doc_id': 53, 'contract_text': 'PARTNERSHIP AGREEMENT\\n\\nThis Partnership Agreement (\"Agreement\") is made and entered into as of the 15th day of March, 2023, by and between Weaviate, a company registered in the State of California, and OpenAI, a research organization based in San Francisco, California.\\n\\n1. Purpose\\nThe parties agree to establish a partnership to collaborate on artificial intelligence research and development, sharing resources and expertise.\\n\\n2. Contributions\\nWeaviate shall contribute technology resources valued at $112.85 and staff time equivalent to a monetary value of $550.09. OpenAI shall contribute its research expertise and a project management team valued at $98.14.\\n\\n3. Profit Sharing\\nThe net profits generated from joint projects shall be distributed as follows: Weaviate shall receive 60% and OpenAI shall receive 40%.\\n\\n4. Duration\\nThis Agreement shall commence on the date hereof and shall continue in effect for a period of three (3) years, unless terminated earlier in accordance with the provisions herein.\\n\\n5. Termination\\nEither party may terminate this Agreement with a written notice of thirty (30) days. Upon termination, the parties shall settle any outstanding financial obligations.\\n\\nIN WITNESS WHEREOF, the parties hereto have executed this Partnership Agreement as of the date first above written.\\n\\nWeaviate\\n___________________________\\nMark Robson, CEO\\n\\nOpenAI\\n___________________________\\nDanny Williams, Director'}\n",
      "Vector length: 1024\n",
      "\n",
      "Contract 2:\n",
      "Properties: {'date': '2023-03-15T10:30:00+00:00', 'contract_type': 'loan agreement', 'author': 'Hans Zimmer', 'contract_length': 3, 'doc_id': 37, 'contract_text': 'LOAN AGREEMENT\\n\\nThis Loan Agreement (\"Agreement\") is made and entered into as of the 15th day of March, 2023, by and between Weaviate, a corporation organized and existing under the laws of the State, with a principal office located at 123 Innovation Drive, Tech City, and Mark Robson, an individual residing at 456 Creativity Lane, Idea Town.\\n\\n1. LOAN AMOUNT: Weaviate agrees to loan Mark Robson the total amount of $342.00 (Three Hundred Forty-Two Dollars).\\n\\n2. INTEREST RATE: The loan shall bear an interest rate of 2.68% per annum, calculated on the outstanding balance.\\n\\n3. REPAYMENT: The total amount, including interest, shall be repaid in full within a period of three years from the date of this Agreement. Payments shall be made monthly, with the first payment due on April 15, 2023.\\n\\n4. DEFAULT: In the event of default, the borrower agrees that Weaviate may demand immediate repayment of the entire unpaid balance and accrued interest.\\n\\n5. GOVERNING LAW: This Agreement shall be governed by and construed in accordance with the laws of the State.\\n\\nIN WITNESS WHEREOF, the parties hereto have executed this Loan Agreement as of the date first above written.\\n\\nWeaviate: ____________________  \\nAuthorized Signature\\n\\nMark Robson: __________________  \\nBorrower\\'s Signature'}\n",
      "Vector length: 1024\n"
     ]
    }
   ],
   "source": [
    "from datasets import load_dataset\n",
    "\n",
    "# Load the financial contracts dataset\n",
    "dataset = load_dataset(\n",
    "    \"weaviate/agents\", \n",
    "    \"query-agent-financial-contracts\", \n",
    "    split=\"train\", \n",
    "    streaming=True\n",
    ")\n",
    "\n",
    "# Let's examine the first few items\n",
    "print(\"Dataset loaded successfully!\")\n",
    "print(\"\\n--- Sample contract data ---\")\n",
    "\n",
    "for i, item in enumerate(dataset):\n",
    "    if i >= 2:  # Just show 2 examples\n",
    "        break\n",
    "    print(f\"\\nContract {i+1}:\")\n",
    "    print(\"Properties:\", item[\"properties\"])\n",
    "    print(\"Vector length:\", len(item[\"vector\"]) if item[\"vector\"] else \"No vector\")"
   ]
  },
  {
   "cell_type": "markdown",
   "metadata": {},
   "source": [
    "## Create a collection for contracts"
   ]
  },
  {
   "cell_type": "code",
   "execution_count": 5,
   "metadata": {},
   "outputs": [
    {
     "name": "stdout",
     "output_type": "stream",
     "text": [
      "Collection 'FinancialContract' created successfully!\n"
     ]
    }
   ],
   "source": [
    "from weaviate.classes.config import Configure\n",
    "\n",
    "# Delete collection if it exists\n",
    "if client.collections.exists(\"FinancialContract\"):\n",
    "    client.collections.delete(\"FinancialContract\")\n",
    "\n",
    "# Create the collection with a description for our agent\n",
    "contracts = client.collections.create(\n",
    "    name=\"FinancialContract\",\n",
    "    description=\"A collection of financial contracts with terms, conditions, and legal clauses\",\n",
    "    vector_config=Configure.Vectors.text2vec_weaviate(\n",
    "        model=\"Snowflake/snowflake-arctic-embed-l-v2.0\",\n",
    "        source_properties=[\"contract_text\"]\n",
    "    ),\n",
    ")\n",
    "\n",
    "print(\"Collection 'FinancialContract' created successfully!\")"
   ]
  },
  {
   "cell_type": "markdown",
   "metadata": {},
   "source": [
    "## Load data into Weaviate\n",
    "\n",
    "### Now we'll stream the data from HuggingFace directly into our Weaviate collection."
   ]
  },
  {
   "cell_type": "code",
   "execution_count": 6,
   "metadata": {},
   "outputs": [
    {
     "name": "stdout",
     "output_type": "stream",
     "text": [
      "Data import completed!\n",
      "Total contracts in collection: 100\n"
     ]
    }
   ],
   "source": [
    "# Reload the dataset for importing\n",
    "dataset = load_dataset(\n",
    "    \"weaviate/agents\", \n",
    "    \"query-agent-financial-contracts\", \n",
    "    split=\"train\", \n",
    "    streaming=True\n",
    ")\n",
    "\n",
    "# Get the collection\n",
    "contracts = client.collections.get(\"FinancialContract\")\n",
    "\n",
    "# Import data with batch processing\n",
    "with contracts.batch.fixed_size(batch_size=100) as batch:\n",
    "    for item in dataset:\n",
    "        # Add the object with pre-computed vector\n",
    "        batch.add_object(\n",
    "            properties=item[\"properties\"],\n",
    "            vector=item[\"vector\"]\n",
    "        )\n",
    "\n",
    "print(f\"Data import completed!\")\n",
    "print(f\"Total contracts in collection: {len(contracts)}\")"
   ]
  },
  {
   "cell_type": "markdown",
   "metadata": {},
   "source": [
    "## Basic contract exploration\n",
    "\n",
    "### Let's explore what's in our contract collection."
   ]
  },
  {
   "cell_type": "code",
   "execution_count": 7,
   "metadata": {},
   "outputs": [
    {
     "name": "stdout",
     "output_type": "stream",
     "text": [
      "=== Collection Stats ===\n",
      "Total contracts: 100\n",
      "\n",
      "=== Sample Contracts ===\n",
      "\n",
      "Contract 1:\n",
      "  date: 2023-03-15 10:30:00+00:00\n",
      "  contract_type: loan agreement\n",
      "  author: Jane Doe\n",
      "  contract_length: 3.0\n",
      "  doc_id: 32.0\n",
      "  contract_text: LOAN AGREEMENT\n",
      "\n",
      "This Loan Agreement (\"Agreement\") is made and entered into as of the 15th day of March, 2023, by and between Weaviate, a company organized under the laws of the State, with a principal...\n",
      "\n",
      "Contract 2:\n",
      "  date: 2023-03-15 14:30:00+00:00\n",
      "  contract_type: non-disclosure agreement\n",
      "  author: Alice Johnson\n",
      "  contract_length: 2.0\n",
      "  doc_id: 25.0\n",
      "  contract_text: NON-DISCLOSURE AGREEMENT\n",
      "\n",
      "This Non-Disclosure Agreement (\"Agreement\") is made and entered into as of the 15th day of March, 2023, by and between Weaviate, a corporation with its principal place of bus...\n",
      "\n",
      "Contract 3:\n",
      "  date: 2023-02-15 10:30:00+00:00\n",
      "  contract_type: employment contract\n",
      "  author: John Williams\n",
      "  contract_length: 2.0\n",
      "  doc_id: 42.0\n",
      "  contract_text: EMPLOYMENT CONTRACT\n",
      "\n",
      "This Employment Contract (“Contract”) is made and entered into as of the 15th day of February, 2023, by and between Weaviate, a corporation organized under the laws of the State o...\n"
     ]
    }
   ],
   "source": [
    "# Get some basic stats about our collection\n",
    "print(\"=== Collection Stats ===\")\n",
    "print(f\"Total contracts: {len(contracts)}\")\n",
    "\n",
    "# Sample some contracts to understand the data structure\n",
    "response = contracts.query.fetch_objects(limit=3)\n",
    "\n",
    "print(\"\\n=== Sample Contracts ===\")\n",
    "for i, contract in enumerate(response.objects):\n",
    "    print(f\"\\nContract {i+1}:\")\n",
    "    for prop, value in contract.properties.items():\n",
    "        # Truncate long text for readability\n",
    "        if isinstance(value, str) and len(value) > 200:\n",
    "            print(f\"  {prop}: {value[:200]}...\")\n",
    "        else:\n",
    "            print(f\"  {prop}: {value}\")"
   ]
  },
  {
   "cell_type": "markdown",
   "metadata": {},
   "source": [
    "## Vector search\n",
    "\n",
    "### Now we will write a basic vector search to find contracts by meaning."
   ]
  },
  {
   "cell_type": "code",
   "execution_count": 8,
   "metadata": {},
   "outputs": [],
   "source": [
    "# This is a simple function to make our outputs a little prettier\n",
    "import json\n",
    "def print_properties(item):\n",
    "    print(\n",
    "        json.dumps(\n",
    "            item.properties,\n",
    "            indent=2, sort_keys=True, default=str\n",
    "        )\n",
    "    )"
   ]
  },
  {
   "cell_type": "code",
   "execution_count": 9,
   "metadata": {},
   "outputs": [
    {
     "name": "stdout",
     "output_type": "stream",
     "text": [
      "{\n",
      "  \"author\": \"Jane Doe\",\n",
      "  \"contract_length\": 2.0,\n",
      "  \"contract_text\": \"EMPLOYMENT CONTRACT\\n\\nThis Employment Contract (\\\"Contract\\\") is made and entered into as of the 15th day of March, 2023, by and between Weaviate, located at 123 Innovation Drive, Tech City, and Mark Robson, residing at 456 Elm Street, Hometown.\\n\\n1. POSITION\\nMark Robson is hereby employed as a Software Engineer and will report directly to the Head of Engineering.\\n\\n2. TERM\\nThe term of this Contract shall commence on March 15, 2023, and shall continue for a period of two (2) years unless terminated earlier in accordance with the provisions of this Contract.\\n\\n3. SALARY\\nAs compensation for services rendered, the Employee shall receive an annual salary of $372,000, payable in monthly installments.\\n\\n4. BENEFITS\\nThe Employee is entitled to benefits including health insurance, paid time off, and a yearly bonus based on performance evaluations. The annual bonus may vary, but can range up to 8.08% of the employee's salary based on company performance.\\n\\n5. CONFIDENTIALITY\\nThe Employee agrees to maintain the confidentiality of all proprietary information during and after the term of employment.\\n\\n6. TERMINATION\\nThis Contract may be terminated by either party with a written notice of 30 days. In the case of termination for cause, termination may be immediate.\\n\\nIN WITNESS WHEREOF, the parties have executed this Employment Contract as of the date first above written.\\n\\n_________________________  \\nWeaviate  \\nAuthorized Signature  \\n\\n_________________________  \\nMark Robson  \\nEmployee Signature\",\n",
      "  \"contract_type\": \"employment contract\",\n",
      "  \"date\": \"2023-03-15 09:00:00+00:00\",\n",
      "  \"doc_id\": 64.0\n",
      "}\n",
      "0.5046060085296631\n",
      "{\n",
      "  \"author\": \"Jane Doe\",\n",
      "  \"contract_length\": 2.0,\n",
      "  \"contract_text\": \"EMPLOYMENT CONTRACT\\n\\nThis Employment Contract (\\\"Contract\\\") is entered into as of the 15th day of March, 2023, by and between Weaviate, a corporation organized under the laws of the State of California, with its principal place of business at 123 Innovation Drive, San Francisco, CA 94105 (\\\"Employer\\\"), and Mark Robson, residing at 456 Employee Lane, San Francisco, CA 94103 (\\\"Employee\\\").\\n\\n1. Position\\nThe Employer hereby employs the Employee as a Software Engineer. The Employee agrees to perform the duties and responsibilities assigned by the Employer.\\n\\n2. Compensation\\nThe Employee shall receive a salary of $76.65 per hour, payable bi-weekly. In addition, the Employee is entitled to a performance bonus that may amount to $200.26 based on annual performance evaluations.\\n\\n3. Benefits\\nThe Employee will be entitled to the following benefits:\\n   a. Health insurance coverage.\\n   b. 15 days of paid vacation per year.\\n   c. 10 paid holidays per year.\\n\\n4. Term\\nThe term of this Contract shall be for a period of two (2) years commencing on March 15, 2023, and ending on March 14, 2025, unless terminated earlier in accordance with the provisions of this Contract.\\n\\n5. Termination\\nEither party may terminate this Contract with a written notice of at least thirty (30) days. The Employer may terminate immediately for cause.\\n\\n6. Governing Law\\nThis Contract shall be governed by and construed in accordance with the laws of the State of California.\\n\\nIN WITNESS WHEREOF, the parties hereto have executed this Employment Contract as of the date first above written.\\n\\n__________________________  \\nJane Doe, Employer\\n\\n__________________________  \\nMark Robson, Employee\",\n",
      "  \"contract_type\": \"employment contract\",\n",
      "  \"date\": \"2023-03-15 10:30:00+00:00\",\n",
      "  \"doc_id\": 40.0\n",
      "}\n",
      "0.5143576860427856\n",
      "{\n",
      "  \"author\": \"Edward Elric\",\n",
      "  \"contract_length\": 2.0,\n",
      "  \"contract_text\": \"EMPLOYMENT CONTRACT\\n\\nThis Employment Contract (\\\"Contract\\\") is made effective as of 2023-11-15, by and between Weaviate, a corporation organized under the laws of the State of California, with its principal office located at 123 Tech Avenue, San Francisco, CA 94105 (\\\"Employer\\\"), and Mark Robson, residing at 456 Elm Street, Los Angeles, CA 90001 (\\\"Employee\\\").\\n\\n1. POSITION\\nThe Employer hereby employs the Employee as a Software Engineer. The Employee agrees to perform the duties and responsibilities as outlined by the Employer.\\n\\n2. TERM\\nThe term of this Contract shall commence on November 15, 2023, and shall continue for a period of two (2) years, ending on November 15, 2025, unless earlier terminated in accordance with this Contract.\\n\\n3. SALARY\\nThe Employee shall receive a salary of $306.59 per week, payable in accordance with the Employer's standard payroll practices. Additionally, the Employee may be eligible for performance bonuses which may vary based on company performance and individual contributions.\\n\\n4. BENEFITS\\nThe Employee will be eligible to participate in the Employer's medical insurance and retirement plans, as well as any other benefits offered by the Employer, subject to the terms and conditions of those plans.\\n\\n5. TERMINATION\\nEither party may terminate this Contract at any time, with or without cause, by providing at least two (2) weeks written notice to the other party.\\n\\nIN WITNESS WHEREOF, the parties hereto have executed this Employment Contract as of the day and year first above written.\\n\\n______________________________  \\nEdward Elric, Employer Representative\\n\\n______________________________  \\nMark Robson, Employee\",\n",
      "  \"contract_type\": \"employment contract\",\n",
      "  \"date\": \"2023-11-15 10:30:00+00:00\",\n",
      "  \"doc_id\": 41.0\n",
      "}\n",
      "0.5198022723197937\n"
     ]
    }
   ],
   "source": [
    "from weaviate.classes.query import MetadataQuery\n",
    "\n",
    "# Search for employment contracts with roles, salaries and benefits\n",
    "response = contracts.query.near_text(\n",
    "    query=\"Employment contracts with job roles, salaries, and employee benefits\",\n",
    "    limit=3,\n",
    "    return_metadata=MetadataQuery(distance=True)\n",
    ")\n",
    "\n",
    "\n",
    "for item in response.objects:\n",
    "    print_properties(item)\n",
    "    print(item.metadata.distance)\n"
   ]
  },
  {
   "cell_type": "markdown",
   "metadata": {},
   "source": [
    "### But what if we need something more recent from an author we trust?\n",
    "\n",
    "## Vector search with filters\n",
    "\n",
    "### Let's add some filters to hone our search a little\n"
   ]
  },
  {
   "cell_type": "code",
   "execution_count": 10,
   "metadata": {},
   "outputs": [
    {
     "name": "stdout",
     "output_type": "stream",
     "text": [
      "{\n",
      "  \"author\": \"Edward Elric\",\n",
      "  \"contract_length\": 2.0,\n",
      "  \"contract_text\": \"EMPLOYMENT CONTRACT\\n\\nThis Employment Contract (\\\"Contract\\\") is made effective as of 2023-11-15, by and between Weaviate, a corporation organized under the laws of the State of California, with its principal office located at 123 Tech Avenue, San Francisco, CA 94105 (\\\"Employer\\\"), and Mark Robson, residing at 456 Elm Street, Los Angeles, CA 90001 (\\\"Employee\\\").\\n\\n1. POSITION\\nThe Employer hereby employs the Employee as a Software Engineer. The Employee agrees to perform the duties and responsibilities as outlined by the Employer.\\n\\n2. TERM\\nThe term of this Contract shall commence on November 15, 2023, and shall continue for a period of two (2) years, ending on November 15, 2025, unless earlier terminated in accordance with this Contract.\\n\\n3. SALARY\\nThe Employee shall receive a salary of $306.59 per week, payable in accordance with the Employer's standard payroll practices. Additionally, the Employee may be eligible for performance bonuses which may vary based on company performance and individual contributions.\\n\\n4. BENEFITS\\nThe Employee will be eligible to participate in the Employer's medical insurance and retirement plans, as well as any other benefits offered by the Employer, subject to the terms and conditions of those plans.\\n\\n5. TERMINATION\\nEither party may terminate this Contract at any time, with or without cause, by providing at least two (2) weeks written notice to the other party.\\n\\nIN WITNESS WHEREOF, the parties hereto have executed this Employment Contract as of the day and year first above written.\\n\\n______________________________  \\nEdward Elric, Employer Representative\\n\\n______________________________  \\nMark Robson, Employee\",\n",
      "  \"contract_type\": \"employment contract\",\n",
      "  \"date\": \"2023-11-15 10:30:00+00:00\",\n",
      "  \"doc_id\": 41.0\n",
      "}\n",
      "0.6927038431167603\n",
      "{\n",
      "  \"author\": \"Edward Elric\",\n",
      "  \"contract_length\": 2.0,\n",
      "  \"contract_text\": \"SALES AGREEMENT\\n\\nThis Sales Agreement (\\u201cAgreement\\u201d) is made and entered into as of the 15th day of March, 2023, by and between Weaviate, a corporation organized and existing under the laws of the State of California, with its principal office located at 123 Innovation Way, San Francisco, CA 94107, hereinafter referred to as \\\"Seller\\\", and John Smith, an individual residing at 456 Elm Street, Los Angeles, CA 90001, hereinafter referred to as \\\"Buyer\\\".\\n\\n1. **Sale of Goods**: Seller agrees to sell, and Buyer agrees to purchase the goods described as follows: [Product Description].\\n\\n2. **Purchase Price**: The total purchase price for the goods shall be Four Hundred Fifty-Seven Dollars and Seventy-Three Cents ($457.73). Payment shall be made in full upon delivery.\\n\\n3. **Delivery**: Seller shall deliver the goods to Buyer on or before April 10, 2023, at the address specified above.\\n\\n4. **Warranty**: Seller warrants that the goods are free from defects in material and workmanship for a period of one year from the date of delivery.\\n\\n5. **Governing Law**: This Agreement shall be governed by and construed in accordance with the laws of the State of California.\\n\\nIN WITNESS WHEREOF, the parties hereto have executed this Sales Agreement as of the date first above written.\\n\\nSeller: Weaviate  \\nBy: Edward Elric  \\nTitle: Sales Manager  \\n\\nBuyer: John Smith  \\nBy: John Smith  \\nTitle: Buyer\",\n",
      "  \"contract_type\": \"sales agreement\",\n",
      "  \"date\": \"2023-03-15 10:30:00+00:00\",\n",
      "  \"doc_id\": 74.0\n",
      "}\n",
      "0.7201038002967834\n",
      "{\n",
      "  \"author\": \"Edward Elric\",\n",
      "  \"contract_length\": 2.0,\n",
      "  \"contract_text\": \"NON-DISCLOSURE AGREEMENT\\n\\nThis Non-Disclosure Agreement (\\\"Agreement\\\") is entered into as of the 15th day of April, 2023, by and between Weaviate, a corporation established under the laws of the State of California, (\\\"Disclosing Party\\\") and Mark Robson, an individual residing at 1234 Elm Street, Los Angeles, CA 90001 (\\\"Receiving Party\\\").\\n\\n1. PURPOSE\\nThe purpose of this Agreement is to prevent the unauthorized disclosure of confidential information as defined herein.\\n\\n2. DEFINITION OF CONFIDENTIAL INFORMATION\\nFor purposes of this Agreement, \\\"Confidential Information\\\" shall include all information disclosed by the Disclosing Party to the Receiving Party, whether oral or written, that is designated as confidential or that reasonably should be understood to be confidential.\\n\\n3. OBLIGATIONS OF RECEIVING PARTY\\nThe Receiving Party agrees to:\\na) Maintain the confidentiality of the Confidential Information.\\nb) Not disclose the Confidential Information to any third parties without the prior written consent of the Disclosing Party.\\nc) Use the Confidential Information solely for the purpose of evaluating or engaging in business discussions with the Disclosing Party.\\n\\n4. TERM\\nThis Agreement shall commence on the date first above written and shall continue for a period of two (2) years.\\n\\n5. REMEDIES\\nThe Receiving Party acknowledges that any breach of this Agreement may result in irreparable harm to the Disclosing Party, for which monetary damages may be inadequate. Therefore, the Disclosing Party shall be entitled to seek injunctive relief in addition to any other remedies available at law or in equity.\\n\\n6. MISCELLANEOUS\\nThis Agreement constitutes the entire agreement between the parties regarding the subject matter hereof, and supersedes all prior agreements and understandings, whether written or oral. This Agreement may not be amended except in writing signed by both parties.\\n\\nIN WITNESS WHEREOF, the parties have executed this Non-Disclosure Agreement as of the date first above written.\\n\\nWeaviate   _________________________   Date: __________\\n\\nMark Robson  _________________________   Date: __________\",\n",
      "  \"contract_type\": \"non-disclosure agreement\",\n",
      "  \"date\": \"2023-04-15 10:30:00+00:00\",\n",
      "  \"doc_id\": 6.0\n",
      "}\n",
      "0.736635684967041\n"
     ]
    }
   ],
   "source": [
    "from weaviate.classes.query import Filter\n",
    "from datetime import datetime, timezone\n",
    "\n",
    "# Search for employment contracts\n",
    "response = contracts.query.near_text(\n",
    "    query=\"I need contracts that have good info on what I need to be looking for when signing a new contract for a job I am going to be getting\",\n",
    "    limit=3,\n",
    "    filters=Filter.by_property(\"author\").equal(\"Edward Elric\") & Filter.by_property(\"date\").greater_than(datetime(2023, 1, 1, tzinfo=timezone.utc)),\n",
    "    return_metadata=MetadataQuery(distance=True)\n",
    ")\n",
    "\n",
    "\n",
    "for item in response.objects:\n",
    "    print_properties(item)\n",
    "    print(item.metadata.distance)\n"
   ]
  },
  {
   "cell_type": "markdown",
   "metadata": {},
   "source": [
    "### Can our queries improve? Or is this as good as it gets?\n",
    "\n",
    "## Query optimization with an LLM\n",
    "\n",
    "### Let's leverage an LLM to help us imporve our queries "
   ]
  },
  {
   "cell_type": "code",
   "execution_count": 11,
   "metadata": {},
   "outputs": [
    {
     "name": "stdout",
     "output_type": "stream",
     "text": [
      "1. \"Search for contracts that outline key considerations and terms to negotiate when accepting a new job offer.\"\n",
      "\n",
      "2. \"Looking for contractual guidelines and best practices for securing favorable employment terms and maximizing compensation.\"\n",
      "\n",
      "3. \"Find contracts that detail essential clauses and protections for job seekers to ensure fair treatment and financial benefits.\"\n"
     ]
    }
   ],
   "source": [
    "import openai\n",
    "# Initialize OpenAI client\n",
    "openai_client = openai.OpenAI(api_key=OPENAI_API_KEY)\n",
    "\n",
    "# Send a query to OpenAI\n",
    "response = openai_client.chat.completions.create(\n",
    "    model=\"gpt-4o-mini\",\n",
    "    messages=[\n",
    "        {\"role\": \"user\", \"content\": \"\"\"I'm searching a vector database of \n",
    "  contracts. \n",
    "      \n",
    "  My current query is: \"I need contracts that have good info on what I need to be looking for when signing a new contract for a job I am going to be getting. I want to make lot sof money and not be taken advantage of by the man\"\n",
    "\n",
    "  Can you suggest 2-3 better ways to phrase this that \n",
    "  would find more relevant results? \n",
    "  Just give me the improved queries, nothing else.\"\"\"}\n",
    "    ]\n",
    ")\n",
    "\n",
    "print(response.choices[0].message.content)"
   ]
  },
  {
   "cell_type": "markdown",
   "metadata": {},
   "source": [
    "### Now let's use one of the optimized queries for our vector seach query "
   ]
  },
  {
   "cell_type": "code",
   "execution_count": 12,
   "metadata": {},
   "outputs": [
    {
     "name": "stdout",
     "output_type": "stream",
     "text": [
      "{\n",
      "  \"author\": \"Jane Doe\",\n",
      "  \"contract_length\": 2.0,\n",
      "  \"contract_text\": \"EMPLOYMENT CONTRACT\\n\\nThis Employment Contract (\\\"Contract\\\") is made and entered into as of the 15th day of March, 2023, by and between Weaviate, located at 123 Innovation Drive, Tech City, and Mark Robson, residing at 456 Elm Street, Hometown.\\n\\n1. POSITION\\nMark Robson is hereby employed as a Software Engineer and will report directly to the Head of Engineering.\\n\\n2. TERM\\nThe term of this Contract shall commence on March 15, 2023, and shall continue for a period of two (2) years unless terminated earlier in accordance with the provisions of this Contract.\\n\\n3. SALARY\\nAs compensation for services rendered, the Employee shall receive an annual salary of $372,000, payable in monthly installments.\\n\\n4. BENEFITS\\nThe Employee is entitled to benefits including health insurance, paid time off, and a yearly bonus based on performance evaluations. The annual bonus may vary, but can range up to 8.08% of the employee's salary based on company performance.\\n\\n5. CONFIDENTIALITY\\nThe Employee agrees to maintain the confidentiality of all proprietary information during and after the term of employment.\\n\\n6. TERMINATION\\nThis Contract may be terminated by either party with a written notice of 30 days. In the case of termination for cause, termination may be immediate.\\n\\nIN WITNESS WHEREOF, the parties have executed this Employment Contract as of the date first above written.\\n\\n_________________________  \\nWeaviate  \\nAuthorized Signature  \\n\\n_________________________  \\nMark Robson  \\nEmployee Signature\",\n",
      "  \"contract_type\": \"employment contract\",\n",
      "  \"date\": \"2023-03-15 09:00:00+00:00\",\n",
      "  \"doc_id\": 64.0\n",
      "}\n",
      "0.7194615602493286\n",
      "{\n",
      "  \"author\": \"Jane Doe\",\n",
      "  \"contract_length\": 2.0,\n",
      "  \"contract_text\": \"EMPLOYMENT CONTRACT\\n\\nThis Employment Contract (\\\"Contract\\\") is entered into as of the 15th day of March, 2023, by and between Weaviate, a corporation organized under the laws of the State of California, with its principal place of business at 123 Innovation Drive, San Francisco, CA 94105 (\\\"Employer\\\"), and Mark Robson, residing at 456 Employee Lane, San Francisco, CA 94103 (\\\"Employee\\\").\\n\\n1. Position\\nThe Employer hereby employs the Employee as a Software Engineer. The Employee agrees to perform the duties and responsibilities assigned by the Employer.\\n\\n2. Compensation\\nThe Employee shall receive a salary of $76.65 per hour, payable bi-weekly. In addition, the Employee is entitled to a performance bonus that may amount to $200.26 based on annual performance evaluations.\\n\\n3. Benefits\\nThe Employee will be entitled to the following benefits:\\n   a. Health insurance coverage.\\n   b. 15 days of paid vacation per year.\\n   c. 10 paid holidays per year.\\n\\n4. Term\\nThe term of this Contract shall be for a period of two (2) years commencing on March 15, 2023, and ending on March 14, 2025, unless terminated earlier in accordance with the provisions of this Contract.\\n\\n5. Termination\\nEither party may terminate this Contract with a written notice of at least thirty (30) days. The Employer may terminate immediately for cause.\\n\\n6. Governing Law\\nThis Contract shall be governed by and construed in accordance with the laws of the State of California.\\n\\nIN WITNESS WHEREOF, the parties hereto have executed this Employment Contract as of the date first above written.\\n\\n__________________________  \\nJane Doe, Employer\\n\\n__________________________  \\nMark Robson, Employee\",\n",
      "  \"contract_type\": \"employment contract\",\n",
      "  \"date\": \"2023-03-15 10:30:00+00:00\",\n",
      "  \"doc_id\": 40.0\n",
      "}\n",
      "0.7409125566482544\n",
      "{\n",
      "  \"author\": \"Bob Brown\",\n",
      "  \"contract_length\": 2.0,\n",
      "  \"contract_text\": \"EMPLOYMENT CONTRACT\\n\\nThis Employment Contract (\\\"Contract\\\") is made and entered into as of 2023-05-15 by and between Weaviate, located at 1234 Innovation Drive, Tech City, and Mark Robson, residing at 5678 Creative Avenue, Idea Town.\\n\\n1. Position\\nMark Robson (\\\"Employee\\\") is hereby employed in the capacity of Software Engineer. Employee agrees to perform the duties and responsibilities as assigned by Weaviate.\\n\\n2. Salary\\nEmployee shall receive a salary of $945.01 per month, payable in accordance with the company's standard payroll practices.\\n\\n3. Term\\nThis Contract shall commence on May 15, 2023, and shall continue for a period of two (2) years, ending on May 15, 2025, unless terminated earlier in accordance with the provisions of this Contract.\\n\\n4. Benefits\\nEmployee will be entitled to benefits including health insurance, paid time off, and retirement contributions as per Weaviate's policy.\\n\\n5. Confidentiality\\nEmployee agrees to keep all proprietary information of Weaviate confidential, both during and after the term of employment.\\n\\n6. Termination\\nEither party may terminate this Contract at any time with a notice period of thirty (30) days.\\n\\nIN WITNESS WHEREOF, the parties have executed this Contract as of the date first above written.\\n\\n______________________\\nBob Brown, Weaviate\\n\\n______________________\\nMark Robson\",\n",
      "  \"contract_type\": \"employment contract\",\n",
      "  \"date\": \"2023-05-15 10:30:00+00:00\",\n",
      "  \"doc_id\": 100.0\n",
      "}\n",
      "0.7452682256698608\n"
     ]
    }
   ],
   "source": [
    "# Search for employment contracts\n",
    "response = contracts.query.near_text(\n",
    "    query=\"Seeking resources or contracts that detail important factors to review when accepting a new job offer.\",\n",
    "    limit=3,\n",
    "    return_metadata=MetadataQuery(distance=True)\n",
    ")\n",
    "\n",
    "\n",
    "for item in response.objects:\n",
    "    print_properties(item)\n",
    "    print(item.metadata.distance)"
   ]
  },
  {
   "cell_type": "markdown",
   "metadata": {},
   "source": [
    "## Generative search - Ask questions about contracts\n",
    "\n",
    "### Now let's use generative search to get explanations about contracts."
   ]
  },
  {
   "cell_type": "code",
   "execution_count": 13,
   "metadata": {},
   "outputs": [],
   "source": [
    "from weaviate.classes.config import Reconfigure\n",
    "\n",
    "financialcontract = client.collections.use(\"FinancialContract\")\n",
    "\n",
    "financialcontract.config.update(\n",
    "    generative_config=Reconfigure.Generative.openai(\n",
    "        model=\"gpt-4o-mini\"  # Update the generative model\n",
    "    )\n",
    ")"
   ]
  },
  {
   "cell_type": "markdown",
   "metadata": {},
   "source": [
    "### We can obtain a separate response for each object we return from the databsase"
   ]
  },
  {
   "cell_type": "code",
   "execution_count": 14,
   "metadata": {},
   "outputs": [
    {
     "name": "stdout",
     "output_type": "stream",
     "text": [
      "\n",
      "Source contracts and generated outputs:\n",
      "Contract 1: ['date', 'contract_type', 'contract_length', 'contract_text', 'doc_id', 'author']\n",
      "Generated output: When entering into a service agreement like the one outlined, businesses should be aware of various risks or potential issues. Here are three key concerns:\n",
      "\n",
      "1. **Termination Risk**: The agreement allows either party to terminate the contract with thirty days' notice. This flexibility can lead to instability, particularly for the Service Provider if they rely on the revenue from this contract. It’s important to assess the potential impact on service continuity and the ability to secure other revenue streams.\n",
      "\n",
      "2. **Payment Issues**: The contract specifies a total fee and a monthly payment structure. There is a risk that the Client may default on payments, not only impacting the Service Provider's cash flow but also potentially necessitating legal action for recovery of funds. The Service Provider should have procedures in place to manage delinquencies and mitigate the financial impact.\n",
      "\n",
      "3. **Scope of Services**: The agreement references an Exhibit A that details the specific services. If the scope is not clearly defined or if the Client has different expectations, it could lead to disputes or dissatisfaction. This ambiguity could result in additional unplanned work for the Service Provider, either without extra compensation or leading to conflict over the service expectations. Regular communication and clear documentation of any changes are essential to manage this risk.\n",
      "\n",
      "By identifying these concerns, both parties can take proactive steps to mitigate risks and foster a smoother working relationship.\n",
      "Contract 2: ['date', 'contract_type', 'author', 'contract_length', 'doc_id', 'contract_text']\n",
      "Generated output: When entering into an employment contract such as the one outlined, a business should be aware of several potential risks or issues. Here are three key concerns:\n",
      "\n",
      "1. **Termination and Notice Requirement**:\n",
      "   - The contract allows for both parties to terminate the agreement with two weeks' written notice. This relatively short notice period can pose challenges for the business, especially if the Employee holds critical responsibilities. The business may find itself suddenly short-staffed or without key projects being completed. A business should consider whether a longer notice period might be more appropriate to ensure a smoother transition in case of termination.\n",
      "\n",
      "2. **Performance Bonuses and Salary Expectations**:\n",
      "   - The inclusion of performance bonuses can lead to potential dissatisfaction if the criteria for receiving bonuses are not clearly defined. Vague performance metrics may lead to misunderstandings or disputes between the Employee and the Employer. The business must ensure that the expectations around the bonuses are clear and documented to avoid conflicts that could arise from differing interpretations of performance and contributions.\n",
      "\n",
      "3. **Employee Benefits and Compliance**:\n",
      "   - The contract states that the Employee is eligible for medical insurance and retirement plans, which can lead to increased costs for the employer. Moreover, ensuring compliance with employment laws and regulations regarding benefits can be complex and may expose the company to legal risks if not properly managed. The business must stay updated on changes in labor laws that affect benefits, healthcare regulations, and pension laws to maintain compliance and avoid penalties.\n",
      "\n",
      "By carefully considering these areas, a business can better manage the risks associated with this employment contract and ensure a smoother employer-employee relationship.\n",
      "Contract 3: ['date', 'contract_type', 'author', 'contract_length', 'doc_id', 'contract_text']\n",
      "Generated output: When entering into an employment contract like the one described, a business should be aware of several risks and potential issues. Here are three key concerns:\n",
      "\n",
      "1. **Termination Clauses and Employee Misconduct**:\n",
      "   - The contract allows for termination with a thirty-day notice from either party and immediate termination for cause. However, what constitutes “cause” can often lead to disputes. If the grounds for termination are not well-defined or documented, the employer may face legal challenges or claims of wrongful termination if the employee disputes the cause of dismissal. Additionally, if the employer fails to follow proper procedures for termination, they may expose themselves to legal risks.\n",
      "\n",
      "2. **Compensation and Benefits Compliance**:\n",
      "   - The contract specifies an annual salary and signing bonus, but the employer must ensure compliance with all applicable wage and hour laws, including minimum wage, overtime pay, and any other local or state regulations related to compensation and benefits. Failing to comply with these laws can lead to legal liabilities, including fines, back pay, and increased operational costs in legal fees.\n",
      "\n",
      "3. **Retention and Recruitment Risks**:\n",
      "   - The specified term of three years may lead to challenges in retention, as employees might seek better opportunities within that time frame, especially in a competitive job market. Furthermore, if the company fails to offer attractive benefits or work conditions, it may have difficulty not only retaining the current employee but also attracting new talent. This can impact the overall productivity and operational efficiency of the business.\n",
      "\n",
      "Addressing these concerns proactively through clear policies, regular training, and a comprehensive understanding of employment law can help mitigate risks associated with employment contracts.\n"
     ]
    }
   ],
   "source": [
    "# Ask about contract risks using the collection's configured generative model\n",
    "response = contracts.generate.near_text(\n",
    "    query=\"contract risks liability issues problems\",\n",
    "    limit=3,\n",
    "    single_prompt=\"Based on this contract content: {contract_type} {contract_text}, what are the main risks or potential issues a business should be aware of? Provide 3 key concerns.\",\n",
    ")\n",
    "\n",
    "print(\"\\nSource contracts and generated outputs:\")\n",
    "for i, contract in enumerate(response.objects):\n",
    "    print(f\"Contract {i+1}: {list(contract.properties.keys())}\")\n",
    "    print(f\"Generated output: {contract.generative.text}\")  "
   ]
  },
  {
   "cell_type": "markdown",
   "metadata": {},
   "source": [
    "### Or, we can get one unified response from all of our returned objects (this is most liekly what we want in the wild)"
   ]
  },
  {
   "cell_type": "code",
   "execution_count": 15,
   "metadata": {},
   "outputs": [
    {
     "name": "stdout",
     "output_type": "stream",
     "text": [
      "Generated output for all contracts:\n",
      "Based on the provided contract content, here are three key concerns or potential issues a business should be aware of:\n",
      "\n",
      "1. **Termination Clauses**:\n",
      "    - Both the Service Agreement and the Employment Contracts have provisions for termination. In the Service Agreement, either party can terminate with a 30-day written notice, and under the Employment Contracts, termination can occur with at least two weeks' notice, or even immediately for cause. This could pose a risk if a party unexpectedly terminates the agreement, disrupting project continuity or leaving the employer without essential personnel. Businesses should ensure they have contingency plans in place to mitigate the impact of sudden terminations.\n",
      "\n",
      "2. **Compensation and Payment Terms**:\n",
      "    - The Service Agreement specifies a total fee of $960.08 payable in monthly installments, while the Employment Contracts outline salaries that may or may not fully compensate the employee for their contributions, with potential bonuses not guaranteed. Businesses must carefully manage cash flow to ensure timely payments to the service provider and staff, and be cognizant of the financial implications of any performance bonuses or additional compensation entitlements that may arise.\n",
      "\n",
      "3. **Scope of Work and Obligations**:\n",
      "    - The Service Agreement lists specific services (consulting, technical support, project management) but emphasizes that the Service Provider must render these services \"professionally and timely.\" Any ambiguity in the scope of services could lead to disputes if the client feels the work is unsatisfactory or if the service provider believes they have fulfilled their obligations. Similarly, the Employment Contracts require the Employee to perform duties as assigned. Businesses should ensure clear definitions and expectations are established from the outset to minimize the risk of disagreements and potential legal issues arising from perceived underperformance.\n"
     ]
    }
   ],
   "source": [
    "response = contracts.generate.near_text(\n",
    "    query=\"contract risks liability issues problems\",\n",
    "    limit=3,\n",
    "    grouped_task=\"Based on this contract content, what are the main risks or potential issues a business should be aware of? Provide 3 key concerns.\",\n",
    "    grouped_properties=[\"contract_type\", \"contract_text\"]  # Optional, to limit prompt length\n",
    ")\n",
    "\n",
    "# Print the generated output for the group\n",
    "print(\"Generated output for all contracts:\")\n",
    "print(response.generative.text)\n",
    "\n"
   ]
  },
  {
   "cell_type": "code",
   "execution_count": 16,
   "metadata": {},
   "outputs": [],
   "source": [
    "# Clean up\n",
    "client.close()"
   ]
  }
 ],
 "metadata": {
  "kernelspec": {
   "display_name": ".venv (3.10.12)",
   "language": "python",
   "name": "python3"
  },
  "language_info": {
   "codemirror_mode": {
    "name": "ipython",
    "version": 3
   },
   "file_extension": ".py",
   "mimetype": "text/x-python",
   "name": "python",
   "nbconvert_exporter": "python",
   "pygments_lexer": "ipython3",
   "version": "3.10.12"
  }
 },
 "nbformat": 4,
 "nbformat_minor": 4
}