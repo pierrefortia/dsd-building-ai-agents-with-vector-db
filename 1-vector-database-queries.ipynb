{
 "cells": [
  {
   "cell_type": "code",
   "execution_count": null,
   "metadata": {},
   "outputs": [],
   "source": [
    "# !pip install weaviate-client"
   ]
  },
  {
   "cell_type": "markdown",
   "metadata": {},
   "source": [
    "\n",
    "## Lesson 1:  Creating a Vector Database and Exploring Queries"
   ]
  },
  {
   "cell_type": "markdown",
   "metadata": {},
   "source": [
    "### Before we create an agent that can help us with our vector database queries, let's figure out what we might need help with."
   ]
  },
  {
   "cell_type": "markdown",
   "metadata": {},
   "source": [
    "## Get keys and URLs to connect to the Weaviate Client"
   ]
  },
  {
   "cell_type": "code",
   "execution_count": null,
   "metadata": {},
   "outputs": [],
   "source": [
    "import os\n",
    "from dotenv import load_dotenv\n",
    "\n",
    "load_dotenv()\n",
    "\n",
    "WEAVIATE_URL = os.getenv(\"WEAVIATE_URL\")\n",
    "WEAVIATE_KEY = os.getenv(\"WEAVIATE_KEY\")\n",
    "OPENAI_API_KEY = os.getenv(\"OPENAI_API_KEY\")\n",
    "\n",
    "\n",
    "print(\"Weaviate URL:\", WEAVIATE_URL)\n",
    "print(\"Weaviate API Key:\", WEAVIATE_KEY[:10])\n",
    "print(\"OpenAI API Key:\", OPENAI_API_KEY[:10])"
   ]
  },
  {
   "cell_type": "markdown",
   "metadata": {},
   "source": [
    "## Connect to Weaviate\n",
    "\n",
    "You need to pass in your Weaviate Cloud URL and KEY."
   ]
  },
  {
   "cell_type": "code",
   "execution_count": null,
   "metadata": {},
   "outputs": [],
   "source": [
    "import weaviate\n",
    "from weaviate.classes.init import Auth\n",
    "\n",
    "client = weaviate.connect_to_weaviate_cloud(\n",
    "    cluster_url=WEAVIATE_URL,\n",
    "    auth_credentials=Auth.api_key(WEAVIATE_KEY),\n",
    "    headers = {\n",
    "        \"X-OpenAI-Api-Key\": OPENAI_API_KEY\n",
    "    },\n",
    ")\n",
    "\n",
    "print(\"Client ready:\", client.is_ready())"
   ]
  },
  {
   "cell_type": "markdown",
   "metadata": {},
   "source": [
    "## Load the financial contracts dataset\n",
    "\n",
    "Let's load the pre-vectorized financial contracts dataset from HuggingFace. This data set is what we will pass to our Weaviate \n",
    "\n",
    "This data set come with vectors already created by the Snowflake/snowflake-arctic-embed-l-v2.0 embedding model. When we upload data to Weaviate, the embeddings are created for us by default, but since we have them already we will upload them with our original data to save time."
   ]
  },
  {
   "cell_type": "code",
   "execution_count": null,
   "metadata": {},
   "outputs": [],
   "source": [
    "from datasets import load_dataset\n",
    "\n",
    "# Load the financial contracts dataset\n",
    "dataset = load_dataset(\n",
    "    \"weaviate/agents\", \n",
    "    \"query-agent-financial-contracts\", \n",
    "    split=\"train\", \n",
    "    streaming=True\n",
    ")\n",
    "\n",
    "# Let's examine the first few items\n",
    "print(\"Dataset loaded successfully!\")\n",
    "print(\"\\n--- Sample contract data ---\")\n",
    "\n",
    "for i, item in enumerate(dataset):\n",
    "    if i >= 2:  # Just show 2 examples\n",
    "        break\n",
    "    print(f\"\\nContract {i+1}:\")\n",
    "    print(\"Properties:\", item[\"properties\"])\n",
    "    print(\"Vector length:\", len(item[\"vector\"]) if item[\"vector\"] else \"No vector\")"
   ]
  },
  {
   "cell_type": "markdown",
   "metadata": {},
   "source": [
    "## Create a collection for contracts"
   ]
  },
  {
   "cell_type": "code",
   "execution_count": null,
   "metadata": {},
   "outputs": [],
   "source": [
    "from weaviate.classes.config import Configure\n",
    "\n",
    "# Delete collection if it exists\n",
    "if client.collections.exists(\"FinancialContract\"):\n",
    "    client.collections.delete(\"FinancialContract\")\n",
    "\n",
    "# Create the collection with a description for our agent\n",
    "contracts = client.collections.create(\n",
    "    name=\"FinancialContract\",\n",
    "    description=\"A collection of financial contracts with terms, conditions, and legal clauses\",\n",
    "    vector_config=Configure.Vectors.text2vec_weaviate(\n",
    "        model=\"Snowflake/snowflake-arctic-embed-l-v2.0\",\n",
    "        source_properties=[\"contract_text\"]\n",
    "    ),\n",
    ")\n",
    "\n",
    "print(\"Collection 'FinancialContract' created successfully!\")"
   ]
  },
  {
   "cell_type": "markdown",
   "metadata": {},
   "source": [
    "## Load data into Weaviate\n",
    "\n",
    "Now we'll stream the data from HuggingFace directly into our Weaviate collection."
   ]
  },
  {
   "cell_type": "code",
   "execution_count": null,
   "metadata": {},
   "outputs": [],
   "source": [
    "# Reload the dataset for importing\n",
    "dataset = load_dataset(\n",
    "    \"weaviate/agents\", \n",
    "    \"query-agent-financial-contracts\", \n",
    "    split=\"train\", \n",
    "    streaming=True\n",
    ")\n",
    "\n",
    "# Get the collection\n",
    "contracts = client.collections.get(\"FinancialContract\")\n",
    "\n",
    "# Import data with batch processing\n",
    "with contracts.batch.fixed_size(batch_size=100) as batch:\n",
    "    for item in dataset:\n",
    "        # Add the object with pre-computed vector\n",
    "        batch.add_object(\n",
    "            properties=item[\"properties\"],\n",
    "            vector=item[\"vector\"]\n",
    "        )\n",
    "\n",
    "print(f\"Data import completed!\")\n",
    "print(f\"Total contracts in collection: {len(contracts)}\")"
   ]
  },
  {
   "cell_type": "markdown",
   "metadata": {},
   "source": [
    "## Basic contract exploration\n",
    "\n",
    "Let's explore what's in our contract collection."
   ]
  },
  {
   "cell_type": "code",
   "execution_count": null,
   "metadata": {},
   "outputs": [],
   "source": [
    "# Get some basic stats about our collection\n",
    "print(\"=== Collection Stats ===\")\n",
    "print(f\"Total contracts: {len(contracts)}\")\n",
    "\n",
    "# Sample some contracts to understand the data structure\n",
    "response = contracts.query.fetch_objects(limit=3)\n",
    "\n",
    "print(\"\\n=== Sample Contracts ===\")\n",
    "for i, contract in enumerate(response.objects):\n",
    "    print(f\"\\nContract {i+1}:\")\n",
    "    for prop, value in contract.properties.items():\n",
    "        # Truncate long text for readability\n",
    "        if isinstance(value, str) and len(value) > 200:\n",
    "            print(f\"  {prop}: {value[:200]}...\")\n",
    "        else:\n",
    "            print(f\"  {prop}: {value}\")"
   ]
  },
  {
   "cell_type": "markdown",
   "metadata": {},
   "source": [
    "## Vector search\n",
    "\n",
    "Now we will write a basic vector search to find contracts by meaning."
   ]
  },
  {
   "cell_type": "code",
   "execution_count": null,
   "metadata": {},
   "outputs": [],
   "source": [
    "# This is a simple function to make our outputs a little prettier\n",
    "import json\n",
    "def print_properties(item):\n",
    "    print(\n",
    "        json.dumps(\n",
    "            item.properties,\n",
    "            indent=2, sort_keys=True, default=str\n",
    "        )\n",
    "    )"
   ]
  },
  {
   "cell_type": "code",
   "execution_count": null,
   "metadata": {},
   "outputs": [],
   "source": [
    "from weaviate.classes.query import MetadataQuery\n",
    "\n",
    "# Search for employment contracts with roles, salaries and benefits\n",
    "response = contracts.query.near_text(\n",
    "    query=\"Employment contracts with job roles, salaries, and employee benefits\",\n",
    "    limit=3,\n",
    "    return_metadata=MetadataQuery(distance=True)\n",
    ")\n",
    "\n",
    "\n",
    "for item in response.objects:\n",
    "    print_properties(item)\n",
    "    print(item.metadata.distance)\n"
   ]
  },
  {
   "cell_type": "markdown",
   "metadata": {},
   "source": [
    "### But what if we need something more recent from an author we trust?\n",
    "\n",
    "## Vector search with filters\n",
    "\n",
    "Let's add some filters to hone our search a little\n"
   ]
  },
  {
   "cell_type": "code",
   "execution_count": null,
   "metadata": {},
   "outputs": [],
   "source": [
    "from weaviate.classes.query import Filter\n",
    "from datetime import datetime, timezone\n",
    "\n",
    "# Search for employment contracts\n",
    "response = contracts.query.near_text(\n",
    "    query=\"I need contracts that have good info on what I need to be looking for when signing a new contract for a job I am going to be getting\",\n",
    "    limit=3,\n",
    "    filters=Filter.by_property(\"author\").equal(\"Edward Elric\") & Filter.by_property(\"date\").greater_than(datetime(2023, 1, 1, tzinfo=timezone.utc)),\n",
    "    return_metadata=MetadataQuery(distance=True)\n",
    ")\n",
    "\n",
    "\n",
    "for item in response.objects:\n",
    "    print_properties(item)\n",
    "    print(item.metadata.distance)\n"
   ]
  },
  {
   "cell_type": "markdown",
   "metadata": {},
   "source": [
    "Can our queries improve? Or is this as good as it gets?\n",
    "\n",
    "## Query optimization with an LLM\n",
    "\n",
    "Let's leverage an LLM to help us imporve our queries "
   ]
  },
  {
   "cell_type": "code",
   "execution_count": null,
   "metadata": {},
   "outputs": [],
   "source": [
    "import openai\n",
    "# Initialize OpenAI client\n",
    "client = openai.OpenAI(api_key=OPENAI_API_KEY)\n",
    "\n",
    "# Send a query to OpenAI\n",
    "response = client.chat.completions.create(\n",
    "    model=\"gpt-4o-mini\",\n",
    "    messages=[\n",
    "        {\"role\": \"user\", \"content\": \"\"\"I'm searching a vector database of \n",
    "  contracts. \n",
    "      \n",
    "  My current query is: \"I need contracts that have good info on what I need to be looking for when signing a new contract for a job I am going to be getting. I want to make lot sof money and not be taken advantage of by the man\"\n",
    "\n",
    "  Can you suggest 2-3 better ways to phrase this that \n",
    "  would find more relevant results? \n",
    "  Just give me the improved queries, nothing else.\"\"\"}\n",
    "    ]\n",
    ")\n",
    "\n",
    "print(response.choices[0].message.content)"
   ]
  },
  {
   "cell_type": "code",
   "execution_count": null,
   "metadata": {},
   "outputs": [],
   "source": [
    "# Search for employment contracts\n",
    "response = contracts.query.near_text(\n",
    "    query=\"Seeking resources or contracts that detail important factors to review when accepting a new job offer.\",\n",
    "    limit=3,\n",
    "    return_metadata=MetadataQuery(distance=True)\n",
    ")\n",
    "\n",
    "\n",
    "for item in response.objects:\n",
    "    print_properties(item)\n",
    "    print(item.metadata.distance)"
   ]
  },
  {
   "cell_type": "markdown",
   "metadata": {},
   "source": [
    "## Generative search - Ask questions about contracts\n",
    "\n",
    "Now let's use generative search to get explanations about contracts."
   ]
  },
  {
   "cell_type": "code",
   "execution_count": null,
   "metadata": {},
   "outputs": [],
   "source": [
    "from weaviate.classes.config import Reconfigure\n",
    "\n",
    "financialcontract = client.collections.use(\"FinancialContract\")\n",
    "\n",
    "financialcontract.config.update(\n",
    "    generative_config=Reconfigure.Generative.openai(\n",
    "        model=\"gpt-4o-mini\"  # Update the generative model\n",
    "    )\n",
    ")"
   ]
  },
  {
   "cell_type": "code",
   "execution_count": null,
   "metadata": {},
   "outputs": [],
   "source": [
    "# Ask about contract risks using the collection's configured generative model\n",
    "response = contracts.generate.near_text(\n",
    "    query=\"contract risks liability issues problems\",\n",
    "    limit=3,\n",
    "    single_prompt=\"Based on this contract content: {contract_type} {contract_text}, what are the main risks or potential issues a business should be aware of? Provide 3 key concerns.\",\n",
    ")\n",
    "\n",
    "print(\"\\nSource contracts and generated outputs:\")\n",
    "for i, contract in enumerate(response.objects):\n",
    "    print(f\"Contract {i+1}: {list(contract.properties.keys())}\")\n",
    "    print(f\"Generated output: {contract.generative.text}\")  "
   ]
  },
  {
   "cell_type": "code",
   "execution_count": null,
   "metadata": {},
   "outputs": [],
   "source": [
    "response = contracts.generate.near_text(\n",
    "    query=\"contract risks liability issues problems\",\n",
    "    limit=3,\n",
    "    grouped_task=\"Based on this contract content, what are the main risks or potential issues a business should be aware of? Provide 3 key concerns.\",\n",
    "    grouped_properties=[\"contract_type\", \"contract_text\"]  # Optional, to limit prompt length\n",
    ")\n",
    "\n",
    "# Print the generated output for the group\n",
    "print(\"Generated output for all contracts:\")\n",
    "print(response.generative.text)\n",
    "\n"
   ]
  },
  {
   "cell_type": "code",
   "execution_count": null,
   "metadata": {},
   "outputs": [],
   "source": [
    "# Clean up\n",
    "client.close()"
   ]
  }
 ],
 "metadata": {
  "kernelspec": {
   "display_name": ".venv (3.12.11)",
   "language": "python",
   "name": "python3"
  },
  "language_info": {
   "codemirror_mode": {
    "name": "ipython",
    "version": 3
   },
   "file_extension": ".py",
   "mimetype": "text/x-python",
   "name": "python",
   "nbconvert_exporter": "python",
   "pygments_lexer": "ipython3",
   "version": "3.10.12"
  }
 },
 "nbformat": 4,
 "nbformat_minor": 4
}
